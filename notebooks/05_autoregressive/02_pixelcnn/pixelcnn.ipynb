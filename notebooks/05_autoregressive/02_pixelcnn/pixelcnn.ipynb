{
  "cells": [
    {
      "cell_type": "markdown",
      "id": "206a93a2-e9b0-4ea2-a43f-696faa83ea03",
      "metadata": {
        "id": "206a93a2-e9b0-4ea2-a43f-696faa83ea03"
      },
      "source": [
        "# 👾 PixelCNN - 케라스"
      ]
    },
    {
      "cell_type": "markdown",
      "id": "87d490a6",
      "metadata": {
        "id": "87d490a6"
      },
      "source": [
        "<table align=\"left\">\n",
        "  <td>\n",
        "    <a href=\"https://colab.research.google.com/github/rickiepark/Generative_Deep_Learning_2nd_Edition/blob/main/notebooks/05_autoregressive/02_pixelcnn/pixelcnn.ipynb\" target=\"_parent\"><img src=\"https://colab.research.google.com/assets/colab-badge.svg\" alt=\"Open In Colab\"/></a>\n",
        "  </td>\n",
        "</table>"
      ]
    },
    {
      "cell_type": "code",
      "execution_count": 1,
      "id": "e0770d42",
      "metadata": {
        "id": "e0770d42",
        "outputId": "0557bc0f-c8db-4296-ae2a-7f6bcf218ff1",
        "colab": {
          "base_uri": "https://localhost:8080/"
        }
      },
      "outputs": [
        {
          "output_type": "stream",
          "name": "stdout",
          "text": [
            "--2023-05-25 07:05:24--  https://raw.githubusercontent.com/rickiepark/Generative_Deep_Learning_2nd_Edition/main/notebooks/utils.py\n",
            "Resolving raw.githubusercontent.com (raw.githubusercontent.com)... 185.199.108.133, 185.199.109.133, 185.199.110.133, ...\n",
            "Connecting to raw.githubusercontent.com (raw.githubusercontent.com)|185.199.108.133|:443... connected.\n",
            "HTTP request sent, awaiting response... 200 OK\n",
            "Length: 771 [text/plain]\n",
            "Saving to: ‘utils.py’\n",
            "\n",
            "utils.py            100%[===================>]     771  --.-KB/s    in 0s      \n",
            "\n",
            "2023-05-25 07:05:24 (46.9 MB/s) - ‘utils.py’ saved [771/771]\n",
            "\n"
          ]
        }
      ],
      "source": [
        "import sys\n",
        "\n",
        "# 코랩의 경우 깃허브 저장소로부터 utils.py를 다운로드 합니다.\n",
        "if 'google.colab' in sys.modules:\n",
        "    !wget https://raw.githubusercontent.com/rickiepark/Generative_Deep_Learning_2nd_Edition/main/notebooks/utils.py\n",
        "    !mkdir -p notebooks\n",
        "    !mv utils.py notebooks\n",
        "    # output 디렉토리를 만듭니다.\n",
        "    !mkdir output"
      ]
    },
    {
      "cell_type": "markdown",
      "id": "1af9e216-7e84-4f5b-a2db-26aca3bea464",
      "metadata": {
        "id": "1af9e216-7e84-4f5b-a2db-26aca3bea464"
      },
      "source": [
        "이 노트북에서는 패션 MNIST 데이터셋에서 PixelCNN을터 훈련합니다."
      ]
    },
    {
      "cell_type": "markdown",
      "id": "9c1e6bbc-6f3b-48ac-a4f3-fde6f739f0ca",
      "metadata": {
        "id": "9c1e6bbc-6f3b-48ac-a4f3-fde6f739f0ca"
      },
      "source": [
        "이 코드는 케라스 웹 사이트에 있는 ADMoreau가 만든 훌륭한 [PixelCNN 튜토리얼](https://keras.io/examples/generative/pixelcnn/)을 참고했습니다."
      ]
    },
    {
      "cell_type": "code",
      "execution_count": 2,
      "id": "6acebfa8-4546-41fd-adaa-2307c65b1b8e",
      "metadata": {
        "id": "6acebfa8-4546-41fd-adaa-2307c65b1b8e"
      },
      "outputs": [],
      "source": [
        "import numpy as np\n",
        "\n",
        "import tensorflow as tf\n",
        "from tensorflow.keras import datasets, layers, models, optimizers, callbacks\n",
        "\n",
        "from notebooks.utils import display"
      ]
    },
    {
      "cell_type": "markdown",
      "id": "8543166d-f4c7-43f8-a452-21ccbf2a0496",
      "metadata": {
        "id": "8543166d-f4c7-43f8-a452-21ccbf2a0496"
      },
      "source": [
        "## 0. 파라미터 <a name=\"parameters\"></a>"
      ]
    },
    {
      "cell_type": "code",
      "execution_count": 3,
      "id": "444d84de-2843-40d6-8e2e-93691a5393ab",
      "metadata": {
        "id": "444d84de-2843-40d6-8e2e-93691a5393ab"
      },
      "outputs": [],
      "source": [
        "IMAGE_SIZE = 16\n",
        "PIXEL_LEVELS = 4\n",
        "N_FILTERS = 128\n",
        "RESIDUAL_BLOCKS = 5\n",
        "BATCH_SIZE = 128\n",
        "EPOCHS = 150"
      ]
    },
    {
      "cell_type": "markdown",
      "id": "d65dac68-d20b-4ed9-a136-eed57095ce4f",
      "metadata": {
        "id": "d65dac68-d20b-4ed9-a136-eed57095ce4f"
      },
      "source": [
        "## 1. 데이터 준비 <a name=\"prepare\"></a>"
      ]
    },
    {
      "cell_type": "code",
      "execution_count": 4,
      "id": "0ed0fc56-d1b0-4d42-b029-f4198f78e666",
      "metadata": {
        "id": "0ed0fc56-d1b0-4d42-b029-f4198f78e666",
        "outputId": "7d91e588-ac0a-4075-e656-af94259ae32b",
        "colab": {
          "base_uri": "https://localhost:8080/"
        }
      },
      "outputs": [
        {
          "output_type": "stream",
          "name": "stdout",
          "text": [
            "Downloading data from https://storage.googleapis.com/tensorflow/tf-keras-datasets/train-labels-idx1-ubyte.gz\n",
            "29515/29515 [==============================] - 0s 0us/step\n",
            "Downloading data from https://storage.googleapis.com/tensorflow/tf-keras-datasets/train-images-idx3-ubyte.gz\n",
            "26421880/26421880 [==============================] - 1s 0us/step\n",
            "Downloading data from https://storage.googleapis.com/tensorflow/tf-keras-datasets/t10k-labels-idx1-ubyte.gz\n",
            "5148/5148 [==============================] - 0s 0us/step\n",
            "Downloading data from https://storage.googleapis.com/tensorflow/tf-keras-datasets/t10k-images-idx3-ubyte.gz\n",
            "4422102/4422102 [==============================] - 1s 0us/step\n"
          ]
        }
      ],
      "source": [
        "# 데이터 로드\n",
        "(x_train, _), (_, _) = datasets.fashion_mnist.load_data()"
      ]
    },
    {
      "cell_type": "code",
      "execution_count": 5,
      "id": "b667e78c-8fa7-4e5b-a2c0-69e50166ef77",
      "metadata": {
        "id": "b667e78c-8fa7-4e5b-a2c0-69e50166ef77"
      },
      "outputs": [],
      "source": [
        "# 데이터 전처리\n",
        "def preprocess(imgs_int):\n",
        "    imgs_int = np.expand_dims(imgs_int, -1)\n",
        "    imgs_int = tf.image.resize(imgs_int, (IMAGE_SIZE, IMAGE_SIZE)).numpy()\n",
        "    imgs_int = (imgs_int / (256 / PIXEL_LEVELS)).astype(int)\n",
        "    imgs = imgs_int.astype(\"float32\")\n",
        "    imgs = imgs / PIXEL_LEVELS\n",
        "    return imgs, imgs_int\n",
        "\n",
        "\n",
        "input_data, output_data = preprocess(x_train)"
      ]
    },
    {
      "cell_type": "code",
      "execution_count": 6,
      "id": "e3c2b304-8385-4931-8291-9b7cc462c95e",
      "metadata": {
        "id": "e3c2b304-8385-4931-8291-9b7cc462c95e",
        "outputId": "90175348-9c06-4eaf-f39b-afc6ff56ef6d",
        "colab": {
          "base_uri": "https://localhost:8080/",
          "height": 117
        }
      },
      "outputs": [
        {
          "output_type": "display_data",
          "data": {
            "text/plain": [
              "<Figure size 2000x300 with 10 Axes>"
            ],
            "image/png": "[encoded data removed]"
          },
          "metadata": {}
        }
      ],
      "source": [
        "# 훈련 세트에 있는 샘플 출력하기\n",
        "display(input_data)"
      ]
    },
    {
      "cell_type": "markdown",
      "id": "5ccd5cb2-8c7b-4667-8adb-4902f3fa60cf",
      "metadata": {
        "id": "5ccd5cb2-8c7b-4667-8adb-4902f3fa60cf"
      },
      "source": [
        "## 2. PixelCNN 만들기"
      ]
    },
    {
      "cell_type": "code",
      "execution_count": 7,
      "id": "847050a5-e4e6-4134-9bfc-c690cb8cb44d",
      "metadata": {
        "id": "847050a5-e4e6-4134-9bfc-c690cb8cb44d"
      },
      "outputs": [],
      "source": [
        "# 첫 번째 층은 PixelCNN 층입니다. \n",
        "# 이 층은 마스킹을 가진 2D 합성곱 층입니다.\n",
        "class MaskedConv2D(layers.Layer):\n",
        "    def __init__(self, mask_type, **kwargs):\n",
        "        super(MaskedConv2D, self).__init__()\n",
        "        self.mask_type = mask_type\n",
        "        self.conv = layers.Conv2D(**kwargs)\n",
        "\n",
        "    def build(self, input_shape):\n",
        "        # conv2d 층을 만들고 커널 변수를 초기화합니다.\n",
        "        self.conv.build(input_shape)\n",
        "        # 초기화된 커널을 사용해 마스크를 만듭니다.\n",
        "        kernel_shape = self.conv.kernel.get_shape()\n",
        "        self.mask = np.zeros(shape=kernel_shape)\n",
        "        self.mask[: kernel_shape[0] // 2, ...] = 1.0\n",
        "        self.mask[kernel_shape[0] // 2, : kernel_shape[1] // 2, ...] = 1.0\n",
        "        if self.mask_type == \"B\":\n",
        "            self.mask[kernel_shape[0] // 2, kernel_shape[1] // 2, ...] = 1.0\n",
        "\n",
        "    def call(self, inputs):\n",
        "        self.conv.kernel.assign(self.conv.kernel * self.mask)\n",
        "        return self.conv(inputs)\n",
        "\n",
        "    def get_config(self):\n",
        "        cfg = super().get_config()\n",
        "        return cfg"
      ]
    },
    {
      "cell_type": "code",
      "execution_count": 8,
      "id": "a52f7795-790e-47b0-b724-80be3e3c3666",
      "metadata": {
        "id": "a52f7795-790e-47b0-b724-80be3e3c3666"
      },
      "outputs": [],
      "source": [
        "class ResidualBlock(layers.Layer):\n",
        "    def __init__(self, filters, **kwargs):\n",
        "        super(ResidualBlock, self).__init__(**kwargs)\n",
        "        self.conv1 = layers.Conv2D(\n",
        "            filters=filters // 2, kernel_size=1, activation=\"relu\"\n",
        "        )\n",
        "        self.pixel_conv = MaskedConv2D(\n",
        "            mask_type=\"B\",\n",
        "            filters=filters // 2,\n",
        "            kernel_size=3,\n",
        "            activation=\"relu\",\n",
        "            padding=\"same\",\n",
        "        )\n",
        "        self.conv2 = layers.Conv2D(\n",
        "            filters=filters, kernel_size=1, activation=\"relu\"\n",
        "        )\n",
        "\n",
        "    def call(self, inputs):\n",
        "        x = self.conv1(inputs)\n",
        "        x = self.pixel_conv(x)\n",
        "        x = self.conv2(x)\n",
        "        return layers.add([inputs, x])\n",
        "\n",
        "    def get_config(self):\n",
        "        cfg = super().get_config()\n",
        "        return cfg"
      ]
    },
    {
      "cell_type": "code",
      "execution_count": 9,
      "id": "19b4508f-84de-42a9-a77f-950fb493db13",
      "metadata": {
        "id": "19b4508f-84de-42a9-a77f-950fb493db13",
        "outputId": "a4997892-261f-4fee-a261-b82556c7d9fe",
        "colab": {
          "base_uri": "https://localhost:8080/"
        }
      },
      "outputs": [
        {
          "output_type": "stream",
          "name": "stdout",
          "text": [
            "Model: \"model\"\n",
            "_________________________________________________________________\n",
            " Layer (type)                Output Shape              Param #   \n",
            "=================================================================\n",
            " input_1 (InputLayer)        [(None, 16, 16, 1)]       0         \n",
            "                                                                 \n",
            " masked_conv2d (MaskedConv2D  (None, 16, 16, 128)      6400      \n",
            " )                                                               \n",
            "                                                                 \n",
            " residual_block (ResidualBlo  (None, 16, 16, 128)      53504     \n",
            " ck)                                                             \n",
            "                                                                 \n",
            " residual_block_1 (ResidualB  (None, 16, 16, 128)      53504     \n",
            " lock)                                                           \n",
            "                                                                 \n",
            " residual_block_2 (ResidualB  (None, 16, 16, 128)      53504     \n",
            " lock)                                                           \n",
            "                                                                 \n",
            " residual_block_3 (ResidualB  (None, 16, 16, 128)      53504     \n",
            " lock)                                                           \n",
            "                                                                 \n",
            " residual_block_4 (ResidualB  (None, 16, 16, 128)      53504     \n",
            " lock)                                                           \n",
            "                                                                 \n",
            " masked_conv2d_6 (MaskedConv  (None, 16, 16, 128)      16512     \n",
            " 2D)                                                             \n",
            "                                                                 \n",
            " masked_conv2d_7 (MaskedConv  (None, 16, 16, 128)      16512     \n",
            " 2D)                                                             \n",
            "                                                                 \n",
            " conv2d_18 (Conv2D)          (None, 16, 16, 4)         516       \n",
            "                                                                 \n",
            "=================================================================\n",
            "Total params: 307,460\n",
            "Trainable params: 307,460\n",
            "Non-trainable params: 0\n",
            "_________________________________________________________________\n"
          ]
        }
      ],
      "source": [
        "inputs = layers.Input(shape=(IMAGE_SIZE, IMAGE_SIZE, 1))\n",
        "x = MaskedConv2D(\n",
        "    mask_type=\"A\",\n",
        "    filters=N_FILTERS,\n",
        "    kernel_size=7,\n",
        "    activation=\"relu\",\n",
        "    padding=\"same\",\n",
        ")(inputs)\n",
        "\n",
        "for _ in range(RESIDUAL_BLOCKS):\n",
        "    x = ResidualBlock(filters=N_FILTERS)(x)\n",
        "\n",
        "for _ in range(2):\n",
        "    x = MaskedConv2D(\n",
        "        mask_type=\"B\",\n",
        "        filters=N_FILTERS,\n",
        "        kernel_size=1,\n",
        "        strides=1,\n",
        "        activation=\"relu\",\n",
        "        padding=\"valid\",\n",
        "    )(x)\n",
        "\n",
        "out = layers.Conv2D(\n",
        "    filters=PIXEL_LEVELS,\n",
        "    kernel_size=1,\n",
        "    strides=1,\n",
        "    activation=\"softmax\",\n",
        "    padding=\"valid\",\n",
        ")(x)\n",
        "\n",
        "pixel_cnn = models.Model(inputs, out)\n",
        "pixel_cnn.summary()"
      ]
    },
    {
      "cell_type": "markdown",
      "id": "442b5ffa-67a3-4b15-a342-eb1eed5e87ac",
      "metadata": {
        "id": "442b5ffa-67a3-4b15-a342-eb1eed5e87ac"
      },
      "source": [
        "## 3. PixelCNN 훈련하기 <a name=\"train\"></a>"
      ]
    },
    {
      "cell_type": "code",
      "execution_count": 10,
      "id": "7204789a-2ad3-48bf-b7e8-00d4cab10d9c",
      "metadata": {
        "id": "7204789a-2ad3-48bf-b7e8-00d4cab10d9c"
      },
      "outputs": [],
      "source": [
        "adam = optimizers.Adam(learning_rate=0.0005)\n",
        "pixel_cnn.compile(optimizer=adam, loss=\"sparse_categorical_crossentropy\")"
      ]
    },
    {
      "cell_type": "code",
      "execution_count": 13,
      "id": "09d327fc-aff8-40e6-b390-d1bff4c06ea6",
      "metadata": {
        "id": "09d327fc-aff8-40e6-b390-d1bff4c06ea6"
      },
      "outputs": [],
      "source": [
        "tensorboard_callback = callbacks.TensorBoard(log_dir=\"./logs\")\n",
        "\n",
        "\n",
        "class ImageGenerator(callbacks.Callback):\n",
        "    def __init__(self, num_img):\n",
        "        self.num_img = num_img\n",
        "\n",
        "    def sample_from(self, probs, temperature):  # <2>\n",
        "        probs = probs ** (1 / temperature)\n",
        "        probs = probs / np.sum(probs)\n",
        "        return np.random.choice(len(probs), p=probs)\n",
        "\n",
        "    def generate(self, temperature):\n",
        "        generated_images = np.zeros(\n",
        "            shape=(self.num_img,) + (pixel_cnn.input_shape)[1:]\n",
        "        )\n",
        "        batch, rows, cols, channels = generated_images.shape\n",
        "\n",
        "        for row in range(rows):\n",
        "            for col in range(cols):\n",
        "                for channel in range(channels):\n",
        "                    probs = self.model.predict(generated_images, verbose=0)[\n",
        "                        :, row, col, :\n",
        "                    ]\n",
        "                    generated_images[:, row, col, channel] = [\n",
        "                        self.sample_from(x, temperature) for x in probs\n",
        "                    ]\n",
        "                    generated_images[:, row, col, channel] /= PIXEL_LEVELS\n",
        "\n",
        "        return generated_images\n",
        "\n",
        "    def on_epoch_end(self, epoch, logs=None):\n",
        "        if epoch % 10 == 0: # 출력 횟수를 줄이기 위해\n",
        "            generated_images = self.generate(temperature=1.0)\n",
        "            display(\n",
        "                generated_images,\n",
        "                save_to=\"./output/generated_img_%03d.png\" % (epoch),\n",
        "            )\n",
        "\n",
        "\n",
        "img_generator_callback = ImageGenerator(num_img=10)"
      ]
    },
    {
      "cell_type": "code",
      "execution_count": 14,
      "id": "85231056-d4a4-4897-ab91-065325a18d93",
      "metadata": {
        "tags": [],
        "id": "85231056-d4a4-4897-ab91-065325a18d93",
        "outputId": "acf94353-5107-48f2-a1ef-e310008a7bd3",
        "colab": {
          "base_uri": "https://localhost:8080/",
          "height": 1000
        }
      },
      "outputs": [
        {
          "output_type": "stream",
          "name": "stdout",
          "text": [
            "Epoch 1/150\n",
            "  5/469 [..............................] - ETA: 16s - loss: 0.4095"
          ]
        },
        {
          "output_type": "stream",
          "name": "stderr",
          "text": [
            "WARNING:tensorflow:Callback method `on_train_batch_end` is slow compared to the batch time (batch time: 0.0194s vs `on_train_batch_end` time: 0.0251s). Check your callbacks.\n"
          ]
        },
        {
          "output_type": "stream",
          "name": "stdout",
          "text": [
            "469/469 [==============================] - ETA: 0s - loss: 0.3976\n",
            "Saved to ./output/generated_img_000.png\n"
          ]
        },
        {
          "output_type": "display_data",
          "data": {
            "text/plain": [
              "<Figure size 2000x300 with 10 Axes>"
            ],
            "image/png": "[encoded data removed]"
          },
          "metadata": {}
        },
        {
          "output_type": "stream",
          "name": "stdout",
          "text": [
            "\b\b\b\b\b\b\b\b\b\b\b\b\b\b\b\b\b\b\b\b\b\b\b\b\b\b\b\b\b\b\b\b\b\b\b\b\b\b\b\b\b\b\b\b\b\b\b\b\b\b\b\b\b\b\b\b\b\b\b\b\b\b\b\b\b\r469/469 [==============================] - 29s 61ms/step - loss: 0.3976\n",
            "Epoch 2/150\n",
            "469/469 [==============================] - 13s 29ms/step - loss: 0.3850\n",
            "Epoch 3/150\n",
            "469/469 [==============================] - 14s 30ms/step - loss: 0.3782\n",
            "Epoch 4/150\n",
            "469/469 [==============================] - 14s 30ms/step - loss: 0.3732\n",
            "Epoch 5/150\n",
            "469/469 [==============================] - 14s 29ms/step - loss: 0.3700\n",
            "Epoch 6/150\n",
            "469/469 [==============================] - 14s 29ms/step - loss: 0.3672\n",
            "Epoch 7/150\n",
            "469/469 [==============================] - 14s 29ms/step - loss: 0.3642\n",
            "Epoch 8/150\n",
            "469/469 [==============================] - 13s 29ms/step - loss: 0.3621\n",
            "Epoch 9/150\n",
            "469/469 [==============================] - 13s 29ms/step - loss: 0.3604\n",
            "Epoch 10/150\n",
            "469/469 [==============================] - 14s 29ms/step - loss: 0.3579\n",
            "Epoch 11/150\n",
            "469/469 [==============================] - ETA: 0s - loss: 0.3567\n",
            "Saved to ./output/generated_img_010.png\n"
          ]
        },
        {
          "output_type": "display_data",
          "data": {
            "text/plain": [
              "<Figure size 2000x300 with 10 Axes>"
            ],
            "image/png": "[encoded data removed]"
          },
          "metadata": {}
        },
        {
          "output_type": "stream",
          "name": "stdout",
          "text": [
            "\b\b\b\b\b\b\b\b\b\b\b\b\b\b\b\b\b\b\b\b\b\b\b\b\b\b\b\b\b\b\b\b\b\b\b\b\b\b\b\b\b\b\b\b\b\b\b\b\b\b\b\b\b\b\b\b\b\b\b\b\b\b\b\b\b\r469/469 [==============================] - 30s 63ms/step - loss: 0.3567\n",
            "Epoch 12/150\n",
            "469/469 [==============================] - 14s 29ms/step - loss: 0.3549\n",
            "Epoch 13/150\n",
            "469/469 [==============================] - 14s 29ms/step - loss: 0.3538\n",
            "Epoch 14/150\n",
            "469/469 [==============================] - 14s 29ms/step - loss: 0.3524\n",
            "Epoch 15/150\n",
            "469/469 [==============================] - 14s 29ms/step - loss: 0.3513\n",
            "Epoch 16/150\n",
            "469/469 [==============================] - 13s 29ms/step - loss: 0.3503\n",
            "Epoch 17/150\n",
            "469/469 [==============================] - 13s 29ms/step - loss: 0.3493\n",
            "Epoch 18/150\n",
            "469/469 [==============================] - 13s 29ms/step - loss: 0.3483\n",
            "Epoch 19/150\n",
            "469/469 [==============================] - 14s 29ms/step - loss: 0.3474\n",
            "Epoch 20/150\n",
            "469/469 [==============================] - 14s 29ms/step - loss: 0.3468\n",
            "Epoch 21/150\n",
            "469/469 [==============================] - ETA: 0s - loss: 0.3461\n",
            "Saved to ./output/generated_img_020.png\n"
          ]
        },
        {
          "output_type": "display_data",
          "data": {
            "text/plain": [
              "<Figure size 2000x300 with 10 Axes>"
            ],
            "image/png": "[encoded data removed]"
          },
          "metadata": {}
        },
        {
          "output_type": "stream",
          "name": "stdout",
          "text": [
            "\b\b\b\b\b\b\b\b\b\b\b\b\b\b\b\b\b\b\b\b\b\b\b\b\b\b\b\b\b\b\b\b\b\b\b\b\b\b\b\b\b\b\b\b\b\b\b\b\b\b\b\b\b\b\b\b\b\b\b\b\b\b\b\b\b\r469/469 [==============================] - 28s 61ms/step - loss: 0.3461\n",
            "Epoch 22/150\n",
            "469/469 [==============================] - 13s 29ms/step - loss: 0.3453\n",
            "Epoch 23/150\n",
            "469/469 [==============================] - 14s 29ms/step - loss: 0.3446\n",
            "Epoch 24/150\n",
            "469/469 [==============================] - 14s 29ms/step - loss: 0.3440\n",
            "Epoch 25/150\n",
            "469/469 [==============================] - 14s 29ms/step - loss: 0.3435\n",
            "Epoch 26/150\n",
            "469/469 [==============================] - 14s 29ms/step - loss: 0.3429\n",
            "Epoch 27/150\n",
            "469/469 [==============================] - 14s 29ms/step - loss: 0.3422\n",
            "Epoch 28/150\n",
            "469/469 [==============================] - 14s 29ms/step - loss: 0.3417\n",
            "Epoch 29/150\n",
            "469/469 [==============================] - 14s 29ms/step - loss: 0.3413\n",
            "Epoch 30/150\n",
            "469/469 [==============================] - 13s 29ms/step - loss: 0.3408\n",
            "Epoch 31/150\n",
            "469/469 [==============================] - ETA: 0s - loss: 0.3406\n",
            "Saved to ./output/generated_img_030.png\n"
          ]
        },
        {
          "output_type": "display_data",
          "data": {
            "text/plain": [
              "<Figure size 2000x300 with 10 Axes>"
            ],
            "image/png": "[encoded data removed]"
          },
          "metadata": {}
        },
        {
          "output_type": "stream",
          "name": "stdout",
          "text": [
            "\b\b\b\b\b\b\b\b\b\b\b\b\b\b\b\b\b\b\b\b\b\b\b\b\b\b\b\b\b\b\b\b\b\b\b\b\b\b\b\b\b\b\b\b\b\b\b\b\b\b\b\b\b\b\b\b\b\b\b\b\b\b\b\b\b\r469/469 [==============================] - 28s 60ms/step - loss: 0.3406\n",
            "Epoch 32/150\n",
            "469/469 [==============================] - 13s 28ms/step - loss: 0.3400\n",
            "Epoch 33/150\n",
            "469/469 [==============================] - 13s 29ms/step - loss: 0.3394\n",
            "Epoch 34/150\n",
            "469/469 [==============================] - 14s 29ms/step - loss: 0.3390\n",
            "Epoch 35/150\n",
            "469/469 [==============================] - 14s 29ms/step - loss: 0.3386\n",
            "Epoch 36/150\n",
            "469/469 [==============================] - 13s 28ms/step - loss: 0.3385\n",
            "Epoch 37/150\n",
            "469/469 [==============================] - 13s 28ms/step - loss: 0.3379\n",
            "Epoch 38/150\n",
            "469/469 [==============================] - 13s 28ms/step - loss: 0.3376\n",
            "Epoch 39/150\n",
            "469/469 [==============================] - 13s 28ms/step - loss: 0.3373\n",
            "Epoch 40/150\n",
            "469/469 [==============================] - 13s 29ms/step - loss: 0.3369\n",
            "Epoch 41/150\n",
            "469/469 [==============================] - ETA: 0s - loss: 0.3366\n",
            "Saved to ./output/generated_img_040.png\n"
          ]
        },
        {
          "output_type": "display_data",
          "data": {
            "text/plain": [
              "<Figure size 2000x300 with 10 Axes>"
            ],
            "image/png": "[encoded data removed]"
          },
          "metadata": {}
        },
        {
          "output_type": "stream",
          "name": "stdout",
          "text": [
            "\b\b\b\b\b\b\b\b\b\b\b\b\b\b\b\b\b\b\b\b\b\b\b\b\b\b\b\b\b\b\b\b\b\b\b\b\b\b\b\b\b\b\b\b\b\b\b\b\b\b\b\b\b\b\b\b\b\b\b\b\b\b\b\b\b\r469/469 [==============================] - 30s 65ms/step - loss: 0.3366\n",
            "Epoch 42/150\n",
            "469/469 [==============================] - 14s 29ms/step - loss: 0.3363\n",
            "Epoch 43/150\n",
            "469/469 [==============================] - 14s 29ms/step - loss: 0.3358\n",
            "Epoch 44/150\n",
            "469/469 [==============================] - 14s 29ms/step - loss: 0.3358\n",
            "Epoch 45/150\n",
            "469/469 [==============================] - 14s 29ms/step - loss: 0.3354\n",
            "Epoch 46/150\n",
            "469/469 [==============================] - 14s 29ms/step - loss: 0.3353\n",
            "Epoch 47/150\n",
            "469/469 [==============================] - 14s 29ms/step - loss: 0.3350\n",
            "Epoch 48/150\n",
            "469/469 [==============================] - 14s 29ms/step - loss: 0.3345\n",
            "Epoch 49/150\n",
            "469/469 [==============================] - 14s 29ms/step - loss: 0.3342\n",
            "Epoch 50/150\n",
            "469/469 [==============================] - 14s 29ms/step - loss: 0.3340\n",
            "Epoch 51/150\n",
            "469/469 [==============================] - ETA: 0s - loss: 0.3340\n",
            "Saved to ./output/generated_img_050.png\n"
          ]
        },
        {
          "output_type": "display_data",
          "data": {
            "text/plain": [
              "<Figure size 2000x300 with 10 Axes>"
            ],
            "image/png": "[encoded data removed]"
          },
          "metadata": {}
        },
        {
          "output_type": "stream",
          "name": "stdout",
          "text": [
            "\b\b\b\b\b\b\b\b\b\b\b\b\b\b\b\b\b\b\b\b\b\b\b\b\b\b\b\b\b\b\b\b\b\b\b\b\b\b\b\b\b\b\b\b\b\b\b\b\b\b\b\b\b\b\b\b\b\b\b\b\b\b\b\b\b\r469/469 [==============================] - 29s 62ms/step - loss: 0.3340\n",
            "Epoch 52/150\n",
            "469/469 [==============================] - 14s 29ms/step - loss: 0.3336\n",
            "Epoch 53/150\n",
            "469/469 [==============================] - 14s 29ms/step - loss: 0.3335\n",
            "Epoch 54/150\n",
            "469/469 [==============================] - 14s 29ms/step - loss: 0.3331\n",
            "Epoch 55/150\n",
            "469/469 [==============================] - 14s 29ms/step - loss: 0.3332\n",
            "Epoch 56/150\n",
            "469/469 [==============================] - 14s 29ms/step - loss: 0.3326\n",
            "Epoch 57/150\n",
            "469/469 [==============================] - 13s 29ms/step - loss: 0.3326\n",
            "Epoch 58/150\n",
            "469/469 [==============================] - 13s 29ms/step - loss: 0.3323\n",
            "Epoch 59/150\n",
            "469/469 [==============================] - 14s 29ms/step - loss: 0.3321\n",
            "Epoch 60/150\n",
            "469/469 [==============================] - 14s 29ms/step - loss: 0.3320\n",
            "Epoch 61/150\n",
            "469/469 [==============================] - ETA: 0s - loss: 0.3317\n",
            "Saved to ./output/generated_img_060.png\n"
          ]
        },
        {
          "output_type": "display_data",
          "data": {
            "text/plain": [
              "<Figure size 2000x300 with 10 Axes>"
            ],
            "image/png": "[encoded data removed]"
          },
          "metadata": {}
        },
        {
          "output_type": "stream",
          "name": "stdout",
          "text": [
            "\b\b\b\b\b\b\b\b\b\b\b\b\b\b\b\b\b\b\b\b\b\b\b\b\b\b\b\b\b\b\b\b\b\b\b\b\b\b\b\b\b\b\b\b\b\b\b\b\b\b\b\b\b\b\b\b\b\b\b\b\b\b\b\b\b\r469/469 [==============================] - 30s 64ms/step - loss: 0.3317\n",
            "Epoch 62/150\n",
            "469/469 [==============================] - 14s 29ms/step - loss: 0.3317\n",
            "Epoch 63/150\n",
            "469/469 [==============================] - 14s 29ms/step - loss: 0.3314\n",
            "Epoch 64/150\n",
            "469/469 [==============================] - 14s 29ms/step - loss: 0.3314\n",
            "Epoch 65/150\n",
            "469/469 [==============================] - 14s 29ms/step - loss: 0.3309\n",
            "Epoch 66/150\n",
            "469/469 [==============================] - 14s 29ms/step - loss: 0.3307\n",
            "Epoch 67/150\n",
            "469/469 [==============================] - 13s 29ms/step - loss: 0.3307\n",
            "Epoch 68/150\n",
            "469/469 [==============================] - 14s 29ms/step - loss: 0.3306\n",
            "Epoch 69/150\n",
            "469/469 [==============================] - 14s 29ms/step - loss: 0.3303\n",
            "Epoch 70/150\n",
            "469/469 [==============================] - 14s 29ms/step - loss: 0.3302\n",
            "Epoch 71/150\n",
            "469/469 [==============================] - ETA: 0s - loss: 0.3301\n",
            "Saved to ./output/generated_img_070.png\n"
          ]
        },
        {
          "output_type": "display_data",
          "data": {
            "text/plain": [
              "<Figure size 2000x300 with 10 Axes>"
            ],
            "image/png": "[encoded data removed]"
          },
          "metadata": {}
        },
        {
          "output_type": "stream",
          "name": "stdout",
          "text": [
            "\b\b\b\b\b\b\b\b\b\b\b\b\b\b\b\b\b\b\b\b\b\b\b\b\b\b\b\b\b\b\b\b\b\b\b\b\b\b\b\b\b\b\b\b\b\b\b\b\b\b\b\b\b\b\b\b\b\b\b\b\b\b\b\b\b\r469/469 [==============================] - 29s 62ms/step - loss: 0.3301\n",
            "Epoch 72/150\n",
            "469/469 [==============================] - 14s 29ms/step - loss: 0.3300\n",
            "Epoch 73/150\n",
            "469/469 [==============================] - 14s 29ms/step - loss: 0.3298\n",
            "Epoch 74/150\n",
            "469/469 [==============================] - 14s 29ms/step - loss: 0.3295\n",
            "Epoch 75/150\n",
            "469/469 [==============================] - 14s 29ms/step - loss: 0.3295\n",
            "Epoch 76/150\n",
            "469/469 [==============================] - 14s 29ms/step - loss: 0.3292\n",
            "Epoch 77/150\n",
            "469/469 [==============================] - 14s 29ms/step - loss: 0.3291\n",
            "Epoch 78/150\n",
            "469/469 [==============================] - 14s 29ms/step - loss: 0.3291\n",
            "Epoch 79/150\n",
            "469/469 [==============================] - 14s 29ms/step - loss: 0.3289\n",
            "Epoch 80/150\n",
            "469/469 [==============================] - 14s 29ms/step - loss: 0.3288\n",
            "Epoch 81/150\n",
            "469/469 [==============================] - ETA: 0s - loss: 0.3286\n",
            "Saved to ./output/generated_img_080.png\n"
          ]
        },
        {
          "output_type": "display_data",
          "data": {
            "text/plain": [
              "<Figure size 2000x300 with 10 Axes>"
            ],
            "image/png": "[encoded data removed]"
          },
          "metadata": {}
        },
        {
          "output_type": "stream",
          "name": "stdout",
          "text": [
            "\b\b\b\b\b\b\b\b\b\b\b\b\b\b\b\b\b\b\b\b\b\b\b\b\b\b\b\b\b\b\b\b\b\b\b\b\b\b\b\b\b\b\b\b\b\b\b\b\b\b\b\b\b\b\b\b\b\b\b\b\b\b\b\b\b\r469/469 [==============================] - 29s 62ms/step - loss: 0.3286\n",
            "Epoch 82/150\n",
            "469/469 [==============================] - 14s 29ms/step - loss: 0.3284\n",
            "Epoch 83/150\n",
            "469/469 [==============================] - 14s 29ms/step - loss: 0.3284\n",
            "Epoch 84/150\n",
            "469/469 [==============================] - 14s 29ms/step - loss: 0.3284\n",
            "Epoch 85/150\n",
            "469/469 [==============================] - 14s 29ms/step - loss: 0.3281\n",
            "Epoch 86/150\n",
            "469/469 [==============================] - 14s 29ms/step - loss: 0.3281\n",
            "Epoch 87/150\n",
            "469/469 [==============================] - 14s 29ms/step - loss: 0.3278\n",
            "Epoch 88/150\n",
            "469/469 [==============================] - 14s 29ms/step - loss: 0.3278\n",
            "Epoch 89/150\n",
            "469/469 [==============================] - 14s 29ms/step - loss: 0.3276\n",
            "Epoch 90/150\n",
            "469/469 [==============================] - 14s 29ms/step - loss: 0.3275\n",
            "Epoch 91/150\n",
            "469/469 [==============================] - ETA: 0s - loss: 0.3274\n",
            "Saved to ./output/generated_img_090.png\n"
          ]
        },
        {
          "output_type": "display_data",
          "data": {
            "text/plain": [
              "<Figure size 2000x300 with 10 Axes>"
            ],
            "image/png": "[encoded data removed]"
          },
          "metadata": {}
        },
        {
          "output_type": "stream",
          "name": "stdout",
          "text": [
            "\b\b\b\b\b\b\b\b\b\b\b\b\b\b\b\b\b\b\b\b\b\b\b\b\b\b\b\b\b\b\b\b\b\b\b\b\b\b\b\b\b\b\b\b\b\b\b\b\b\b\b\b\b\b\b\b\b\b\b\b\b\b\b\b\b\r469/469 [==============================] - 29s 62ms/step - loss: 0.3274\n",
            "Epoch 92/150\n",
            "469/469 [==============================] - 14s 29ms/step - loss: 0.3274\n",
            "Epoch 93/150\n",
            "469/469 [==============================] - 14s 29ms/step - loss: 0.3272\n",
            "Epoch 94/150\n",
            "469/469 [==============================] - 14s 29ms/step - loss: 0.3270\n",
            "Epoch 95/150\n",
            "469/469 [==============================] - 13s 29ms/step - loss: 0.3270\n",
            "Epoch 96/150\n",
            "469/469 [==============================] - 13s 29ms/step - loss: 0.3268\n",
            "Epoch 97/150\n",
            "469/469 [==============================] - 13s 29ms/step - loss: 0.3268\n",
            "Epoch 98/150\n",
            "469/469 [==============================] - 13s 29ms/step - loss: 0.3266\n",
            "Epoch 99/150\n",
            "469/469 [==============================] - 13s 29ms/step - loss: 0.3265\n",
            "Epoch 100/150\n",
            "469/469 [==============================] - 13s 29ms/step - loss: 0.3265\n",
            "Epoch 101/150\n",
            "469/469 [==============================] - ETA: 0s - loss: 0.3265\n",
            "Saved to ./output/generated_img_100.png\n"
          ]
        },
        {
          "output_type": "display_data",
          "data": {
            "text/plain": [
              "<Figure size 2000x300 with 10 Axes>"
            ],
            "image/png": "[encoded data removed]"
          },
          "metadata": {}
        },
        {
          "output_type": "stream",
          "name": "stdout",
          "text": [
            "\b\b\b\b\b\b\b\b\b\b\b\b\b\b\b\b\b\b\b\b\b\b\b\b\b\b\b\b\b\b\b\b\b\b\b\b\b\b\b\b\b\b\b\b\b\b\b\b\b\b\b\b\b\b\b\b\b\b\b\b\b\b\b\b\b\r469/469 [==============================] - 29s 61ms/step - loss: 0.3265\n",
            "Epoch 102/150\n",
            "469/469 [==============================] - 14s 29ms/step - loss: 0.3263\n",
            "Epoch 103/150\n",
            "469/469 [==============================] - 13s 29ms/step - loss: 0.3262\n",
            "Epoch 104/150\n",
            "469/469 [==============================] - 13s 29ms/step - loss: 0.3261\n",
            "Epoch 105/150\n",
            "469/469 [==============================] - 13s 29ms/step - loss: 0.3259\n",
            "Epoch 106/150\n",
            "469/469 [==============================] - 13s 28ms/step - loss: 0.3259\n",
            "Epoch 107/150\n",
            "469/469 [==============================] - 13s 29ms/step - loss: 0.3258\n",
            "Epoch 108/150\n",
            "469/469 [==============================] - 13s 28ms/step - loss: 0.3257\n",
            "Epoch 109/150\n",
            "469/469 [==============================] - 13s 29ms/step - loss: 0.3256\n",
            "Epoch 110/150\n",
            "469/469 [==============================] - 14s 29ms/step - loss: 0.3254\n",
            "Epoch 111/150\n",
            "469/469 [==============================] - ETA: 0s - loss: 0.3254\n",
            "Saved to ./output/generated_img_110.png\n"
          ]
        },
        {
          "output_type": "display_data",
          "data": {
            "text/plain": [
              "<Figure size 2000x300 with 10 Axes>"
            ],
            "image/png": "[encoded data removed]"
          },
          "metadata": {}
        },
        {
          "output_type": "stream",
          "name": "stdout",
          "text": [
            "\b\b\b\b\b\b\b\b\b\b\b\b\b\b\b\b\b\b\b\b\b\b\b\b\b\b\b\b\b\b\b\b\b\b\b\b\b\b\b\b\b\b\b\b\b\b\b\b\b\b\b\b\b\b\b\b\b\b\b\b\b\b\b\b\b\r469/469 [==============================] - 29s 62ms/step - loss: 0.3254\n",
            "Epoch 112/150\n",
            "469/469 [==============================] - 13s 29ms/step - loss: 0.3254\n",
            "Epoch 113/150\n",
            "469/469 [==============================] - 13s 29ms/step - loss: 0.3253\n",
            "Epoch 114/150\n",
            "469/469 [==============================] - 13s 29ms/step - loss: 0.3251\n",
            "Epoch 115/150\n",
            "469/469 [==============================] - 13s 29ms/step - loss: 0.3253\n",
            "Epoch 116/150\n",
            "469/469 [==============================] - 13s 29ms/step - loss: 0.3249\n",
            "Epoch 117/150\n",
            "469/469 [==============================] - 13s 29ms/step - loss: 0.3249\n",
            "Epoch 118/150\n",
            "469/469 [==============================] - 13s 29ms/step - loss: 0.3250\n",
            "Epoch 119/150\n",
            "469/469 [==============================] - 13s 28ms/step - loss: 0.3247\n",
            "Epoch 120/150\n",
            "469/469 [==============================] - 13s 29ms/step - loss: 0.3249\n",
            "Epoch 121/150\n",
            "469/469 [==============================] - ETA: 0s - loss: 0.3246\n",
            "Saved to ./output/generated_img_120.png\n"
          ]
        },
        {
          "output_type": "display_data",
          "data": {
            "text/plain": [
              "<Figure size 2000x300 with 10 Axes>"
            ],
            "image/png": "[encoded data removed]"
          },
          "metadata": {}
        },
        {
          "output_type": "stream",
          "name": "stdout",
          "text": [
            "\b\b\b\b\b\b\b\b\b\b\b\b\b\b\b\b\b\b\b\b\b\b\b\b\b\b\b\b\b\b\b\b\b\b\b\b\b\b\b\b\b\b\b\b\b\b\b\b\b\b\b\b\b\b\b\b\b\b\b\b\b\b\b\b\b\r469/469 [==============================] - 28s 60ms/step - loss: 0.3246\n",
            "Epoch 122/150\n",
            "469/469 [==============================] - 14s 29ms/step - loss: 0.3244\n",
            "Epoch 123/150\n",
            "469/469 [==============================] - 13s 29ms/step - loss: 0.3245\n",
            "Epoch 124/150\n",
            "469/469 [==============================] - 13s 29ms/step - loss: 0.3243\n",
            "Epoch 125/150\n",
            "469/469 [==============================] - 13s 29ms/step - loss: 0.3244\n",
            "Epoch 126/150\n",
            "469/469 [==============================] - 13s 29ms/step - loss: 0.3243\n",
            "Epoch 127/150\n",
            "469/469 [==============================] - 13s 28ms/step - loss: 0.3242\n",
            "Epoch 128/150\n",
            "469/469 [==============================] - 13s 29ms/step - loss: 0.3241\n",
            "Epoch 129/150\n",
            "469/469 [==============================] - 13s 28ms/step - loss: 0.3240\n",
            "Epoch 130/150\n",
            "469/469 [==============================] - 13s 29ms/step - loss: 0.3239\n",
            "Epoch 131/150\n",
            "467/469 [============================>.] - ETA: 0s - loss: 0.3240\n",
            "Saved to ./output/generated_img_130.png\n"
          ]
        },
        {
          "output_type": "display_data",
          "data": {
            "text/plain": [
              "<Figure size 2000x300 with 10 Axes>"
            ],
            "image/png": "[encoded data removed]"
          },
          "metadata": {}
        },
        {
          "output_type": "stream",
          "name": "stdout",
          "text": [
            "\b\b\b\b\b\b\b\b\b\b\b\b\b\b\b\b\b\b\b\b\b\b\b\b\b\b\b\b\b\b\b\b\b\b\b\b\b\b\b\b\b\b\b\b\b\b\b\b\b\b\b\b\b\b\b\b\b\b\b\b\b\b\b\b\b\r469/469 [==============================] - 28s 60ms/step - loss: 0.3240\n",
            "Epoch 132/150\n",
            "469/469 [==============================] - 13s 28ms/step - loss: 0.3238\n",
            "Epoch 133/150\n",
            "469/469 [==============================] - 13s 29ms/step - loss: 0.3238\n",
            "Epoch 134/150\n",
            "469/469 [==============================] - 14s 29ms/step - loss: 0.3239\n",
            "Epoch 135/150\n",
            "469/469 [==============================] - 14s 29ms/step - loss: 0.3235\n",
            "Epoch 136/150\n",
            "469/469 [==============================] - 13s 28ms/step - loss: 0.3236\n",
            "Epoch 137/150\n",
            "469/469 [==============================] - 13s 28ms/step - loss: 0.3235\n",
            "Epoch 138/150\n",
            "469/469 [==============================] - 13s 28ms/step - loss: 0.3233\n",
            "Epoch 139/150\n",
            "469/469 [==============================] - 13s 29ms/step - loss: 0.3234\n",
            "Epoch 140/150\n",
            "469/469 [==============================] - 13s 29ms/step - loss: 0.3233\n",
            "Epoch 141/150\n",
            "469/469 [==============================] - ETA: 0s - loss: 0.3233\n",
            "Saved to ./output/generated_img_140.png\n"
          ]
        },
        {
          "output_type": "display_data",
          "data": {
            "text/plain": [
              "<Figure size 2000x300 with 10 Axes>"
            ],
            "image/png": "[encoded data removed]"
          },
          "metadata": {}
        },
        {
          "output_type": "stream",
          "name": "stdout",
          "text": [
            "\b\b\b\b\b\b\b\b\b\b\b\b\b\b\b\b\b\b\b\b\b\b\b\b\b\b\b\b\b\b\b\b\b\b\b\b\b\b\b\b\b\b\b\b\b\b\b\b\b\b\b\b\b\b\b\b\b\b\b\b\b\b\b\b\b\r469/469 [==============================] - 30s 64ms/step - loss: 0.3233\n",
            "Epoch 142/150\n",
            "469/469 [==============================] - 13s 28ms/step - loss: 0.3232\n",
            "Epoch 143/150\n",
            "469/469 [==============================] - 13s 29ms/step - loss: 0.3231\n",
            "Epoch 144/150\n",
            "469/469 [==============================] - 13s 29ms/step - loss: 0.3230\n",
            "Epoch 145/150\n",
            "469/469 [==============================] - 13s 29ms/step - loss: 0.3228\n",
            "Epoch 146/150\n",
            "469/469 [==============================] - 13s 28ms/step - loss: 0.3231\n",
            "Epoch 147/150\n",
            "469/469 [==============================] - 13s 29ms/step - loss: 0.3229\n",
            "Epoch 148/150\n",
            "469/469 [==============================] - 13s 28ms/step - loss: 0.3228\n",
            "Epoch 149/150\n",
            "469/469 [==============================] - 13s 29ms/step - loss: 0.3227\n",
            "Epoch 150/150\n",
            "469/469 [==============================] - 13s 28ms/step - loss: 0.3226\n"
          ]
        },
        {
          "output_type": "execute_result",
          "data": {
            "text/plain": [
              "<keras.callbacks.History at 0x7f232bff1030>"
            ]
          },
          "metadata": {},
          "execution_count": 14
        }
      ],
      "source": [
        "pixel_cnn.fit(\n",
        "    input_data,\n",
        "    output_data,\n",
        "    batch_size=BATCH_SIZE,\n",
        "    epochs=EPOCHS,\n",
        "    callbacks=[tensorboard_callback, img_generator_callback],\n",
        ")"
      ]
    },
    {
      "cell_type": "markdown",
      "id": "cfb4fa72-dd2d-44c1-ad18-9c965060683e",
      "metadata": {
        "id": "cfb4fa72-dd2d-44c1-ad18-9c965060683e"
      },
      "source": [
        "## 4. 이미지 생성하기 <a name=\"generate\"></a>"
      ]
    },
    {
      "cell_type": "code",
      "execution_count": 15,
      "id": "7bbd4643-be09-49ba-b7bc-a524a2f00806",
      "metadata": {
        "id": "7bbd4643-be09-49ba-b7bc-a524a2f00806"
      },
      "outputs": [],
      "source": [
        "generated_images = img_generator_callback.generate(temperature=1.0)"
      ]
    },
    {
      "cell_type": "code",
      "execution_count": 16,
      "id": "52cadb4b-ae2c-42a9-92ac-68e2131380ef",
      "metadata": {
        "id": "52cadb4b-ae2c-42a9-92ac-68e2131380ef",
        "outputId": "d2b061bb-8ae5-4e9b-ebf2-6b94bfdfbae4",
        "colab": {
          "base_uri": "https://localhost:8080/",
          "height": 117
        }
      },
      "outputs": [
        {
          "output_type": "display_data",
          "data": {
            "text/plain": [
              "<Figure size 2000x300 with 10 Axes>"
            ],
            "image/png": "[encoded data removed]"
          },
          "metadata": {}
        }
      ],
      "source": [
        "display(generated_images)"
      ]
    }
  ],
  "metadata": {
    "kernelspec": {
      "display_name": "Python 3 (ipykernel)",
      "language": "python",
      "name": "python3"
    },
    "language_info": {
      "codemirror_mode": {
        "name": "ipython",
        "version": 3
      },
      "file_extension": ".py",
      "mimetype": "text/x-python",
      "name": "python",
      "nbconvert_exporter": "python",
      "pygments_lexer": "ipython3",
      "version": "3.8.2"
    },
    "colab": {
      "provenance": [],
      "gpuType": "T4"
    },
    "accelerator": "GPU",
    "gpuClass": "standard"
  },
  "nbformat": 4,
  "nbformat_minor": 5
}