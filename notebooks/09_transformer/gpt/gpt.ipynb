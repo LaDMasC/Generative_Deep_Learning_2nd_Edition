{
  "cells": [
    {
      "cell_type": "markdown",
      "id": "b076bd1a-b236-4fbc-953d-8295b25122ae",
      "metadata": {
        "id": "b076bd1a-b236-4fbc-953d-8295b25122ae"
      },
      "source": [
        "# 🚀 GPT"
      ]
    },
    {
      "cell_type": "markdown",
      "id": "9d5855b9",
      "metadata": {
        "id": "9d5855b9"
      },
      "source": [
        "<table align=\"left\">\n",
        "  <td>\n",
        "    <a href=\"https://colab.research.google.com/github/rickiepark/Generative_Deep_Learning_2nd_Edition/blob/main/notebooks/09_transformer/gpt/gpt.ipynb\" target=\"_parent\"><img src=\"https://colab.research.google.com/assets/colab-badge.svg\" alt=\"Open In Colab\"/></a>\n",
        "  </td>\n",
        "</table>"
      ]
    },
    {
      "cell_type": "markdown",
      "id": "4dca6836-0007-43f3-af65-d12ae1922c02",
      "metadata": {
        "tags": [],
        "id": "4dca6836-0007-43f3-af65-d12ae1922c02"
      },
      "source": [
        "이 노트북에서는 와인 리뷰 데이터셋으로 GPT 모델을 훈련합니다."
      ]
    },
    {
      "cell_type": "markdown",
      "id": "3e6cb7c7-d3d5-4b12-b357-1f6118edffe0",
      "metadata": {
        "id": "3e6cb7c7-d3d5-4b12-b357-1f6118edffe0"
      },
      "source": [
        "이 코드는 케라스 웹사이트에 있는 Apoorv Nandan이 만든 훌륭한 [GPT 튜토리얼](https://keras.io/examples/generative/text_generation_with_miniature_gpt/)을 참고했습니다."
      ]
    },
    {
      "cell_type": "code",
      "execution_count": 1,
      "id": "73350761-bef2-4e96-b3ac-a158eabd2b65",
      "metadata": {
        "tags": [],
        "id": "73350761-bef2-4e96-b3ac-a158eabd2b65"
      },
      "outputs": [],
      "source": [
        "import numpy as np\n",
        "import json\n",
        "import re\n",
        "import string\n",
        "from IPython.display import display, HTML\n",
        "\n",
        "import tensorflow as tf\n",
        "from tensorflow.keras import layers, models, losses, callbacks"
      ]
    },
    {
      "cell_type": "markdown",
      "id": "339e6268-ebd7-4feb-86db-1fe7abccdbe5",
      "metadata": {
        "id": "339e6268-ebd7-4feb-86db-1fe7abccdbe5"
      },
      "source": [
        "## 0. 파라미터 <a name=\"parameters\"></a>"
      ]
    },
    {
      "cell_type": "code",
      "execution_count": 2,
      "id": "2d8352af-343e-4c2e-8c91-95f8bac1c8a1",
      "metadata": {
        "id": "2d8352af-343e-4c2e-8c91-95f8bac1c8a1"
      },
      "outputs": [],
      "source": [
        "VOCAB_SIZE = 10000\n",
        "MAX_LEN = 80\n",
        "EMBEDDING_DIM = 256\n",
        "KEY_DIM = 256\n",
        "N_HEADS = 2\n",
        "FEED_FORWARD_DIM = 256\n",
        "VALIDATION_SPLIT = 0.2\n",
        "SEED = 42\n",
        "LOAD_MODEL = False\n",
        "BATCH_SIZE = 32\n",
        "EPOCHS = 5"
      ]
    },
    {
      "cell_type": "markdown",
      "id": "b7716fac-0010-49b0-b98e-53be2259edde",
      "metadata": {
        "id": "b7716fac-0010-49b0-b98e-53be2259edde"
      },
      "source": [
        "## 1. 데이터 로드 <a name=\"load\"></a>"
      ]
    },
    {
      "cell_type": "code",
      "execution_count": 3,
      "id": "cc66748b",
      "metadata": {
        "id": "cc66748b",
        "outputId": "8df83d03-35f4-45eb-e3a6-c1eab5f97024",
        "colab": {
          "base_uri": "https://localhost:8080/",
          "height": 128
        }
      },
      "outputs": [
        {
          "output_type": "display_data",
          "data": {
            "text/plain": [
              "<IPython.core.display.HTML object>"
            ],
            "text/html": [
              "\n",
              "     <input type=\"file\" id=\"files-c14a9f26-590e-4135-8dcc-02a591410e0c\" name=\"files[]\" multiple disabled\n",
              "        style=\"border:none\" />\n",
              "     <output id=\"result-c14a9f26-590e-4135-8dcc-02a591410e0c\">\n",
              "      Upload widget is only available when the cell has been executed in the\n",
              "      current browser session. Please rerun this cell to enable.\n",
              "      </output>\n",
              "      <script>// Copyright 2017 Google LLC\n",
              "//\n",
              "// Licensed under the Apache License, Version 2.0 (the \"License\");\n",
              "// you may not use this file except in compliance with the License.\n",
              "// You may obtain a copy of the License at\n",
              "//\n",
              "//      http://www.apache.org/licenses/LICENSE-2.0\n",
              "//\n",
              "// Unless required by applicable law or agreed to in writing, software\n",
              "// distributed under the License is distributed on an \"AS IS\" BASIS,\n",
              "// WITHOUT WARRANTIES OR CONDITIONS OF ANY KIND, either express or implied.\n",
              "// See the License for the specific language governing permissions and\n",
              "// limitations under the License.\n",
              "\n",
              "/**\n",
              " * @fileoverview Helpers for google.colab Python module.\n",
              " */\n",
              "(function(scope) {\n",
              "function span(text, styleAttributes = {}) {\n",
              "  const element = document.createElement('span');\n",
              "  element.textContent = text;\n",
              "  for (const key of Object.keys(styleAttributes)) {\n",
              "    element.style[key] = styleAttributes[key];\n",
              "  }\n",
              "  return element;\n",
              "}\n",
              "\n",
              "// Max number of bytes which will be uploaded at a time.\n",
              "const MAX_PAYLOAD_SIZE = 100 * 1024;\n",
              "\n",
              "function _uploadFiles(inputId, outputId) {\n",
              "  const steps = uploadFilesStep(inputId, outputId);\n",
              "  const outputElement = document.getElementById(outputId);\n",
              "  // Cache steps on the outputElement to make it available for the next call\n",
              "  // to uploadFilesContinue from Python.\n",
              "  outputElement.steps = steps;\n",
              "\n",
              "  return _uploadFilesContinue(outputId);\n",
              "}\n",
              "\n",
              "// This is roughly an async generator (not supported in the browser yet),\n",
              "// where there are multiple asynchronous steps and the Python side is going\n",
              "// to poll for completion of each step.\n",
              "// This uses a Promise to block the python side on completion of each step,\n",
              "// then passes the result of the previous step as the input to the next step.\n",
              "function _uploadFilesContinue(outputId) {\n",
              "  const outputElement = document.getElementById(outputId);\n",
              "  const steps = outputElement.steps;\n",
              "\n",
              "  const next = steps.next(outputElement.lastPromiseValue);\n",
              "  return Promise.resolve(next.value.promise).then((value) => {\n",
              "    // Cache the last promise value to make it available to the next\n",
              "    // step of the generator.\n",
              "    outputElement.lastPromiseValue = value;\n",
              "    return next.value.response;\n",
              "  });\n",
              "}\n",
              "\n",
              "/**\n",
              " * Generator function which is called between each async step of the upload\n",
              " * process.\n",
              " * @param {string} inputId Element ID of the input file picker element.\n",
              " * @param {string} outputId Element ID of the output display.\n",
              " * @return {!Iterable<!Object>} Iterable of next steps.\n",
              " */\n",
              "function* uploadFilesStep(inputId, outputId) {\n",
              "  const inputElement = document.getElementById(inputId);\n",
              "  inputElement.disabled = false;\n",
              "\n",
              "  const outputElement = document.getElementById(outputId);\n",
              "  outputElement.innerHTML = '';\n",
              "\n",
              "  const pickedPromise = new Promise((resolve) => {\n",
              "    inputElement.addEventListener('change', (e) => {\n",
              "      resolve(e.target.files);\n",
              "    });\n",
              "  });\n",
              "\n",
              "  const cancel = document.createElement('button');\n",
              "  inputElement.parentElement.appendChild(cancel);\n",
              "  cancel.textContent = 'Cancel upload';\n",
              "  const cancelPromise = new Promise((resolve) => {\n",
              "    cancel.onclick = () => {\n",
              "      resolve(null);\n",
              "    };\n",
              "  });\n",
              "\n",
              "  // Wait for the user to pick the files.\n",
              "  const files = yield {\n",
              "    promise: Promise.race([pickedPromise, cancelPromise]),\n",
              "    response: {\n",
              "      action: 'starting',\n",
              "    }\n",
              "  };\n",
              "\n",
              "  cancel.remove();\n",
              "\n",
              "  // Disable the input element since further picks are not allowed.\n",
              "  inputElement.disabled = true;\n",
              "\n",
              "  if (!files) {\n",
              "    return {\n",
              "      response: {\n",
              "        action: 'complete',\n",
              "      }\n",
              "    };\n",
              "  }\n",
              "\n",
              "  for (const file of files) {\n",
              "    const li = document.createElement('li');\n",
              "    li.append(span(file.name, {fontWeight: 'bold'}));\n",
              "    li.append(span(\n",
              "        `(${file.type || 'n/a'}) - ${file.size} bytes, ` +\n",
              "        `last modified: ${\n",
              "            file.lastModifiedDate ? file.lastModifiedDate.toLocaleDateString() :\n",
              "                                    'n/a'} - `));\n",
              "    const percent = span('0% done');\n",
              "    li.appendChild(percent);\n",
              "\n",
              "    outputElement.appendChild(li);\n",
              "\n",
              "    const fileDataPromise = new Promise((resolve) => {\n",
              "      const reader = new FileReader();\n",
              "      reader.onload = (e) => {\n",
              "        resolve(e.target.result);\n",
              "      };\n",
              "      reader.readAsArrayBuffer(file);\n",
              "    });\n",
              "    // Wait for the data to be ready.\n",
              "    let fileData = yield {\n",
              "      promise: fileDataPromise,\n",
              "      response: {\n",
              "        action: 'continue',\n",
              "      }\n",
              "    };\n",
              "\n",
              "    // Use a chunked sending to avoid message size limits. See b/62115660.\n",
              "    let position = 0;\n",
              "    do {\n",
              "      const length = Math.min(fileData.byteLength - position, MAX_PAYLOAD_SIZE);\n",
              "      const chunk = new Uint8Array(fileData, position, length);\n",
              "      position += length;\n",
              "\n",
              "      const base64 = btoa(String.fromCharCode.apply(null, chunk));\n",
              "      yield {\n",
              "        response: {\n",
              "          action: 'append',\n",
              "          file: file.name,\n",
              "          data: base64,\n",
              "        },\n",
              "      };\n",
              "\n",
              "      let percentDone = fileData.byteLength === 0 ?\n",
              "          100 :\n",
              "          Math.round((position / fileData.byteLength) * 100);\n",
              "      percent.textContent = `${percentDone}% done`;\n",
              "\n",
              "    } while (position < fileData.byteLength);\n",
              "  }\n",
              "\n",
              "  // All done.\n",
              "  yield {\n",
              "    response: {\n",
              "      action: 'complete',\n",
              "    }\n",
              "  };\n",
              "}\n",
              "\n",
              "scope.google = scope.google || {};\n",
              "scope.google.colab = scope.google.colab || {};\n",
              "scope.google.colab._files = {\n",
              "  _uploadFiles,\n",
              "  _uploadFilesContinue,\n",
              "};\n",
              "})(self);\n",
              "</script> "
            ]
          },
          "metadata": {}
        },
        {
          "output_type": "stream",
          "name": "stdout",
          "text": [
            "Saving kaggle.json to kaggle.json\n",
            "Downloading wine-reviews.zip to /content\n",
            " 94% 48.0M/50.9M [00:03<00:00, 24.9MB/s]\n",
            "100% 50.9M/50.9M [00:03<00:00, 16.3MB/s]\n"
          ]
        }
      ],
      "source": [
        "import sys\n",
        "\n",
        "# 코랩일 경우 노트북에서 celeba 데이터셋을 받습니다.\n",
        "if 'google.colab' in sys.modules:\n",
        "    # 캐글-->Setttings-->API-->Create New Token에서\n",
        "    # kaggle.json 파일을 만들어 코랩에 업로드하세요.\n",
        "    from google.colab import files\n",
        "    files.upload()\n",
        "    !mkdir ~/.kaggle\n",
        "    !cp kaggle.json ~/.kaggle/\n",
        "    !chmod 600 ~/.kaggle/kaggle.json\n",
        "    # celeba 데이터셋을 다운로드하고 압축을 해제합니다.\n",
        "    !kaggle datasets download -d zynicide/wine-reviews\n",
        "    !unzip -q wine-reviews.zip\n",
        "    # model 디렉토리를 만듭니다.\n",
        "    !mkdir models"
      ]
    },
    {
      "cell_type": "code",
      "execution_count": 4,
      "id": "93cf6b0f-9667-4146-8911-763a8a2925d3",
      "metadata": {
        "tags": [],
        "id": "93cf6b0f-9667-4146-8911-763a8a2925d3"
      },
      "outputs": [],
      "source": [
        "# 전체 데이터셋 로드\n",
        "with open(\"./winemag-data-130k-v2.json\") as json_data:\n",
        "    wine_data = json.load(json_data)"
      ]
    },
    {
      "cell_type": "code",
      "execution_count": 5,
      "id": "2db5c0fc-0d5f-42ab-ade1-57e594c416ec",
      "metadata": {
        "tags": [],
        "id": "2db5c0fc-0d5f-42ab-ade1-57e594c416ec",
        "outputId": "8e365494-93b6-464e-fd8f-2d8764d70ea2",
        "colab": {
          "base_uri": "https://localhost:8080/"
        }
      },
      "outputs": [
        {
          "output_type": "execute_result",
          "data": {
            "text/plain": [
              "{'points': '87',\n",
              " 'title': 'Kirkland Signature 2011 Mountain Cuvée Cabernet Sauvignon (Napa Valley)',\n",
              " 'description': 'Soft, supple plum envelopes an oaky structure in this Cabernet, supported by 15% Merlot. Coffee and chocolate complete the picture, finishing strong at the end, resulting in a value-priced wine of attractive flavor and immediate accessibility.',\n",
              " 'taster_name': 'Virginie Boone',\n",
              " 'taster_twitter_handle': '@vboone',\n",
              " 'price': 19,\n",
              " 'designation': 'Mountain Cuvée',\n",
              " 'variety': 'Cabernet Sauvignon',\n",
              " 'region_1': 'Napa Valley',\n",
              " 'region_2': 'Napa',\n",
              " 'province': 'California',\n",
              " 'country': 'US',\n",
              " 'winery': 'Kirkland Signature'}"
            ]
          },
          "metadata": {},
          "execution_count": 5
        }
      ],
      "source": [
        "wine_data[10]"
      ]
    },
    {
      "cell_type": "code",
      "execution_count": 6,
      "id": "23a74eca-f1b7-4a46-9a1f-b5806a4ed361",
      "metadata": {
        "tags": [],
        "id": "23a74eca-f1b7-4a46-9a1f-b5806a4ed361"
      },
      "outputs": [],
      "source": [
        "# 데이터셋 필터링\n",
        "filtered_data = [\n",
        "    \"wine review : \"\n",
        "    + x[\"country\"]\n",
        "    + \" : \"\n",
        "    + x[\"province\"]\n",
        "    + \" : \"\n",
        "    + x[\"variety\"]\n",
        "    + \" : \"\n",
        "    + x[\"description\"]\n",
        "    for x in wine_data\n",
        "    if x[\"country\"] is not None\n",
        "    and x[\"province\"] is not None\n",
        "    and x[\"variety\"] is not None\n",
        "    and x[\"description\"] is not None\n",
        "]"
      ]
    },
    {
      "cell_type": "code",
      "execution_count": 7,
      "id": "389c20de-0422-4c48-a7b4-6ee12a7bf0e2",
      "metadata": {
        "tags": [],
        "id": "389c20de-0422-4c48-a7b4-6ee12a7bf0e2",
        "outputId": "e3ed3efc-0a2e-40c9-d231-4fb01cae46cf",
        "colab": {
          "base_uri": "https://localhost:8080/"
        }
      },
      "outputs": [
        {
          "output_type": "stream",
          "name": "stdout",
          "text": [
            "129907개 레시피 로드\n"
          ]
        }
      ],
      "source": [
        "# 레시피 개수 카운트\n",
        "n_wines = len(filtered_data)\n",
        "print(f\"{n_wines}개 레시피 로드\")"
      ]
    },
    {
      "cell_type": "code",
      "execution_count": 8,
      "id": "1b2e3cf7-e416-460e-874a-0dd9637bca36",
      "metadata": {
        "id": "1b2e3cf7-e416-460e-874a-0dd9637bca36",
        "outputId": "b90069ba-02c4-400b-ab71-03656dc7d5b6",
        "colab": {
          "base_uri": "https://localhost:8080/"
        }
      },
      "outputs": [
        {
          "output_type": "stream",
          "name": "stdout",
          "text": [
            "wine review : US : California : Pinot Noir : Oak and earth intermingle around robust aromas of wet forest floor in this vineyard-designated Pinot that hails from a high-elevation site. Small in production, it offers intense, full-bodied raspberry and blackberry steeped in smoky spice and smooth texture.\n"
          ]
        }
      ],
      "source": [
        "example = filtered_data[25]\n",
        "print(example)"
      ]
    },
    {
      "cell_type": "markdown",
      "id": "3f871aaf-d873-41c7-8946-e4eef7ac17c1",
      "metadata": {
        "id": "3f871aaf-d873-41c7-8946-e4eef7ac17c1"
      },
      "source": [
        "## 2. 데이터 토큰화 <a name=\"tokenize\"></a>"
      ]
    },
    {
      "cell_type": "code",
      "execution_count": 9,
      "id": "5b2064fb-5dcc-4657-b470-0928d10e2ddc",
      "metadata": {
        "tags": [],
        "id": "5b2064fb-5dcc-4657-b470-0928d10e2ddc"
      },
      "outputs": [],
      "source": [
        "# 구두점 앞에 공백을 채워서 별도의 '단어'로 취급합니다.\n",
        "def pad_punctuation(s):\n",
        "    s = re.sub(f\"([{string.punctuation}, '\\n'])\", r\" \\1 \", s)\n",
        "    s = re.sub(\" +\", \" \", s)\n",
        "    return s\n",
        "\n",
        "\n",
        "text_data = [pad_punctuation(x) for x in filtered_data]"
      ]
    },
    {
      "cell_type": "code",
      "execution_count": 10,
      "id": "b87d7c65-9a46-492a-a5c0-a043b0d252f3",
      "metadata": {
        "id": "b87d7c65-9a46-492a-a5c0-a043b0d252f3",
        "outputId": "b08b7af7-ca71-42ec-ad8a-295d7c4d7896",
        "colab": {
          "base_uri": "https://localhost:8080/",
          "height": 71
        }
      },
      "outputs": [
        {
          "output_type": "execute_result",
          "data": {
            "text/plain": [
              "'wine review : US : California : Pinot Noir : Oak and earth intermingle around robust aromas of wet forest floor in this vineyard - designated Pinot that hails from a high - elevation site . Small in production , it offers intense , full - bodied raspberry and blackberry steeped in smoky spice and smooth texture . '"
            ],
            "application/vnd.google.colaboratory.intrinsic+json": {
              "type": "string"
            }
          },
          "metadata": {},
          "execution_count": 10
        }
      ],
      "source": [
        "# 레시피 예시 표시\n",
        "example_data = text_data[25]\n",
        "example_data"
      ]
    },
    {
      "cell_type": "code",
      "execution_count": 11,
      "id": "9834f916-b21a-4104-acc9-f28d3bd7a8c1",
      "metadata": {
        "tags": [],
        "id": "9834f916-b21a-4104-acc9-f28d3bd7a8c1"
      },
      "outputs": [],
      "source": [
        "# 텐서플로 데이터셋으로 변환하기\n",
        "text_ds = (\n",
        "    tf.data.Dataset.from_tensor_slices(text_data)\n",
        "    .batch(BATCH_SIZE)\n",
        "    .shuffle(1000)\n",
        ")"
      ]
    },
    {
      "cell_type": "code",
      "execution_count": 12,
      "id": "884c0bcb-0807-45a1-8f7e-a32f2c6fa4de",
      "metadata": {
        "id": "884c0bcb-0807-45a1-8f7e-a32f2c6fa4de"
      },
      "outputs": [],
      "source": [
        "# TextVectorization 층 만들기\n",
        "vectorize_layer = layers.TextVectorization(\n",
        "    standardize=\"lower\",\n",
        "    max_tokens=VOCAB_SIZE,\n",
        "    output_mode=\"int\",\n",
        "    output_sequence_length=MAX_LEN + 1,\n",
        ")"
      ]
    },
    {
      "cell_type": "code",
      "execution_count": 13,
      "id": "4d6dd34a-d905-497b-926a-405380ebcf98",
      "metadata": {
        "id": "4d6dd34a-d905-497b-926a-405380ebcf98"
      },
      "outputs": [],
      "source": [
        "# 훈련 세트에 이 층을 적용합니다.\n",
        "vectorize_layer.adapt(text_ds)\n",
        "vocab = vectorize_layer.get_vocabulary()"
      ]
    },
    {
      "cell_type": "code",
      "execution_count": 14,
      "id": "f6c1c7ce-3cf0-40d4-a3dc-ab7090f69f2f",
      "metadata": {
        "id": "f6c1c7ce-3cf0-40d4-a3dc-ab7090f69f2f",
        "outputId": "b7b0e4f8-162c-40ea-c801-314e6835b069",
        "colab": {
          "base_uri": "https://localhost:8080/"
        }
      },
      "outputs": [
        {
          "output_type": "stream",
          "name": "stdout",
          "text": [
            "0: \n",
            "1: [UNK]\n",
            "2: :\n",
            "3: ,\n",
            "4: .\n",
            "5: and\n",
            "6: the\n",
            "7: wine\n",
            "8: a\n",
            "9: of\n"
          ]
        }
      ],
      "source": [
        "# 토큰:단어 매핑 표시\n",
        "for i, word in enumerate(vocab[:10]):\n",
        "    print(f\"{i}: {word}\")"
      ]
    },
    {
      "cell_type": "code",
      "execution_count": 15,
      "id": "1cc30186-7ec6-4eb6-b29a-65df6714d321",
      "metadata": {
        "id": "1cc30186-7ec6-4eb6-b29a-65df6714d321",
        "outputId": "a70b88cc-269e-4b72-c4ff-2e193f27f864",
        "colab": {
          "base_uri": "https://localhost:8080/"
        }
      },
      "outputs": [
        {
          "output_type": "stream",
          "name": "stdout",
          "text": [
            "[   7   10    2   20    2   29    2   43   62    2   55    5  243 4145\n",
            "  453  634   26    9  497  499  667   17   12  142   14 2214   43   25\n",
            " 2484   32    8  223   14 2213  948    4  594   17  987    3   15   75\n",
            "  237    3   64   14   82   97    5   74 2633   17  198   49    5  125\n",
            "   77    4    0    0    0    0    0    0    0    0    0    0    0    0\n",
            "    0    0    0    0    0    0    0    0    0    0    0]\n"
          ]
        }
      ],
      "source": [
        "# 동일한 샘플을 정수로 변환하여 표시\n",
        "example_tokenised = vectorize_layer(example_data)\n",
        "print(example_tokenised.numpy())"
      ]
    },
    {
      "cell_type": "markdown",
      "id": "8c195efb-84c6-4be0-a989-a7542188ad35",
      "metadata": {
        "id": "8c195efb-84c6-4be0-a989-a7542188ad35"
      },
      "source": [
        "## 3. 훈련 세트 생성 <a name=\"create\"></a>"
      ]
    },
    {
      "cell_type": "code",
      "execution_count": 16,
      "id": "740294a1-1a6b-4c89-92f2-036d7d1b788b",
      "metadata": {
        "id": "740294a1-1a6b-4c89-92f2-036d7d1b788b"
      },
      "outputs": [],
      "source": [
        "# 레시피 텍스트와 한 단어만큼 이동된 동일한 텍스트로 훈련 세트를 만듭니다.\n",
        "def prepare_inputs(text):\n",
        "    text = tf.expand_dims(text, -1)\n",
        "    tokenized_sentences = vectorize_layer(text)\n",
        "    x = tokenized_sentences[:, :-1]\n",
        "    y = tokenized_sentences[:, 1:]\n",
        "    return x, y\n",
        "\n",
        "\n",
        "train_ds = text_ds.map(prepare_inputs)"
      ]
    },
    {
      "cell_type": "code",
      "execution_count": 17,
      "id": "cad80ffb-4298-4249-86b4-9918d62534c5",
      "metadata": {
        "id": "cad80ffb-4298-4249-86b4-9918d62534c5"
      },
      "outputs": [],
      "source": [
        "example_input_output = train_ds.take(1).get_single_element()"
      ]
    },
    {
      "cell_type": "code",
      "execution_count": 18,
      "id": "67ff7263-f62d-44c1-997b-1aa99a393521",
      "metadata": {
        "id": "67ff7263-f62d-44c1-997b-1aa99a393521",
        "outputId": "6af9b65b-967e-4e5f-f3a3-1ad12e6f7877",
        "colab": {
          "base_uri": "https://localhost:8080/"
        }
      },
      "outputs": [
        {
          "output_type": "execute_result",
          "data": {
            "text/plain": [
              "<tf.Tensor: shape=(80,), dtype=int64, numpy=\n",
              "array([   7,   10,    2,   20,    2, 3598,    2,   45,  200,    2,  844,\n",
              "        317,  212,    3, 1481,    5,  675,  971,  383, 1320,   23,    6,\n",
              "         60,    9,   12,   45,  200,  185, 3509, 2082,  464,   17,    1,\n",
              "         55,  873,    4,  303,    5,  263,   23,    6,   28,    3, 2362,\n",
              "         36,    5,   24,   67,  972, 1004,  328,   49,    5,  297,   55,\n",
              "       2811,    4,    0,    0,    0,    0,    0,    0,    0,    0,    0,\n",
              "          0,    0,    0,    0,    0,    0,    0,    0,    0,    0,    0,\n",
              "          0,    0,    0])>"
            ]
          },
          "metadata": {},
          "execution_count": 18
        }
      ],
      "source": [
        "# 입력 예시\n",
        "example_input_output[0][0]"
      ]
    },
    {
      "cell_type": "code",
      "execution_count": 19,
      "id": "ef2e2cad-414c-4e6d-a2ac-6b9598f9dd01",
      "metadata": {
        "id": "ef2e2cad-414c-4e6d-a2ac-6b9598f9dd01",
        "outputId": "883262a7-43f4-4959-ed40-096962788663",
        "colab": {
          "base_uri": "https://localhost:8080/"
        }
      },
      "outputs": [
        {
          "output_type": "execute_result",
          "data": {
            "text/plain": [
              "<tf.Tensor: shape=(80,), dtype=int64, numpy=\n",
              "array([  10,    2,   20,    2, 3598,    2,   45,  200,    2,  844,  317,\n",
              "        212,    3, 1481,    5,  675,  971,  383, 1320,   23,    6,   60,\n",
              "          9,   12,   45,  200,  185, 3509, 2082,  464,   17,    1,   55,\n",
              "        873,    4,  303,    5,  263,   23,    6,   28,    3, 2362,   36,\n",
              "          5,   24,   67,  972, 1004,  328,   49,    5,  297,   55, 2811,\n",
              "          4,    0,    0,    0,    0,    0,    0,    0,    0,    0,    0,\n",
              "          0,    0,    0,    0,    0,    0,    0,    0,    0,    0,    0,\n",
              "          0,    0,    0])>"
            ]
          },
          "metadata": {},
          "execution_count": 19
        }
      ],
      "source": [
        "# 출력 예시(토큰 하나씩 이동)\n",
        "example_input_output[1][0]"
      ]
    },
    {
      "cell_type": "markdown",
      "id": "aff50401-3abe-4c10-bba8-b35bc13ad7d5",
      "metadata": {
        "tags": [],
        "id": "aff50401-3abe-4c10-bba8-b35bc13ad7d5"
      },
      "source": [
        "## 5. 코잘 어텐션 마스킹 함수 만들기 <a name=\"causal\"></a>"
      ]
    },
    {
      "cell_type": "code",
      "execution_count": 20,
      "id": "554a4184-61c2-4eb7-a063-d965586a8188",
      "metadata": {
        "id": "554a4184-61c2-4eb7-a063-d965586a8188",
        "outputId": "1ba4e667-9551-4d2d-cff4-a5ab225803c4",
        "colab": {
          "base_uri": "https://localhost:8080/"
        }
      },
      "outputs": [
        {
          "output_type": "execute_result",
          "data": {
            "text/plain": [
              "array([[1, 1, 1, 1, 1, 1, 1, 1, 1, 1],\n",
              "       [0, 1, 1, 1, 1, 1, 1, 1, 1, 1],\n",
              "       [0, 0, 1, 1, 1, 1, 1, 1, 1, 1],\n",
              "       [0, 0, 0, 1, 1, 1, 1, 1, 1, 1],\n",
              "       [0, 0, 0, 0, 1, 1, 1, 1, 1, 1],\n",
              "       [0, 0, 0, 0, 0, 1, 1, 1, 1, 1],\n",
              "       [0, 0, 0, 0, 0, 0, 1, 1, 1, 1],\n",
              "       [0, 0, 0, 0, 0, 0, 0, 1, 1, 1],\n",
              "       [0, 0, 0, 0, 0, 0, 0, 0, 1, 1],\n",
              "       [0, 0, 0, 0, 0, 0, 0, 0, 0, 1]], dtype=int32)"
            ]
          },
          "metadata": {},
          "execution_count": 20
        }
      ],
      "source": [
        "def causal_attention_mask(batch_size, n_dest, n_src, dtype):\n",
        "    i = tf.range(n_dest)[:, None]\n",
        "    j = tf.range(n_src)\n",
        "    m = i >= j - n_src + n_dest\n",
        "    mask = tf.cast(m, dtype)\n",
        "    mask = tf.reshape(mask, [1, n_dest, n_src])\n",
        "    mult = tf.concat(\n",
        "        [tf.expand_dims(batch_size, -1), tf.constant([1, 1], dtype=tf.int32)], 0\n",
        "    )\n",
        "    return tf.tile(mask, mult)\n",
        "\n",
        "\n",
        "np.transpose(causal_attention_mask(1, 10, 10, dtype=tf.int32)[0])"
      ]
    },
    {
      "cell_type": "markdown",
      "id": "3501dbad-0860-40ad-b7d6-47950e37858f",
      "metadata": {
        "id": "3501dbad-0860-40ad-b7d6-47950e37858f"
      },
      "source": [
        "## 6. 트랜스포머 블록 층 만들기 <a name=\"transformer\"></a>"
      ]
    },
    {
      "cell_type": "code",
      "execution_count": 21,
      "id": "5285a1cb-fce1-46b1-b088-b596002fa9ae",
      "metadata": {
        "id": "5285a1cb-fce1-46b1-b088-b596002fa9ae"
      },
      "outputs": [],
      "source": [
        "class TransformerBlock(layers.Layer):\n",
        "    def __init__(self, num_heads, key_dim, embed_dim, ff_dim, dropout_rate=0.1):\n",
        "        super(TransformerBlock, self).__init__()\n",
        "        self.num_heads = num_heads\n",
        "        self.key_dim = key_dim\n",
        "        self.embed_dim = embed_dim\n",
        "        self.ff_dim = ff_dim\n",
        "        self.dropout_rate = dropout_rate\n",
        "        self.attn = layers.MultiHeadAttention(\n",
        "            num_heads, key_dim, output_shape=embed_dim\n",
        "        )\n",
        "        self.dropout_1 = layers.Dropout(self.dropout_rate)\n",
        "        self.ln_1 = layers.LayerNormalization(epsilon=1e-6)\n",
        "        self.ffn_1 = layers.Dense(self.ff_dim, activation=\"relu\")\n",
        "        self.ffn_2 = layers.Dense(self.embed_dim)\n",
        "        self.dropout_2 = layers.Dropout(self.dropout_rate)\n",
        "        self.ln_2 = layers.LayerNormalization(epsilon=1e-6)\n",
        "\n",
        "    def call(self, inputs):\n",
        "        input_shape = tf.shape(inputs)\n",
        "        batch_size = input_shape[0]\n",
        "        seq_len = input_shape[1]\n",
        "        causal_mask = causal_attention_mask(\n",
        "            batch_size, seq_len, seq_len, tf.bool\n",
        "        )\n",
        "        attention_output, attention_scores = self.attn(\n",
        "            inputs,\n",
        "            inputs,\n",
        "            attention_mask=causal_mask,\n",
        "            return_attention_scores=True,\n",
        "        )\n",
        "        attention_output = self.dropout_1(attention_output)\n",
        "        out1 = self.ln_1(inputs + attention_output)\n",
        "        ffn_1 = self.ffn_1(out1)\n",
        "        ffn_2 = self.ffn_2(ffn_1)\n",
        "        ffn_output = self.dropout_2(ffn_2)\n",
        "        return (self.ln_2(out1 + ffn_output), attention_scores)\n",
        "\n",
        "    def get_config(self):\n",
        "        config = super().get_config()\n",
        "        config.update(\n",
        "            {\n",
        "                \"key_dim\": self.key_dim,\n",
        "                \"embed_dim\": self.embed_dim,\n",
        "                \"num_heads\": self.num_heads,\n",
        "                \"ff_dim\": self.ff_dim,\n",
        "                \"dropout_rate\": self.dropout_rate,\n",
        "            }\n",
        "        )\n",
        "        return config"
      ]
    },
    {
      "cell_type": "markdown",
      "id": "076a6be0-9796-4974-9bcd-6ebbcfe7514e",
      "metadata": {
        "tags": [],
        "id": "076a6be0-9796-4974-9bcd-6ebbcfe7514e"
      },
      "source": [
        "## 7. 토큰 임베딩과 위치 인코딩 만들기 <a name=\"embedder\"></a>"
      ]
    },
    {
      "cell_type": "code",
      "execution_count": 22,
      "id": "fdf5cb25-88ae-4026-9e21-c1e6b5094a2c",
      "metadata": {
        "id": "fdf5cb25-88ae-4026-9e21-c1e6b5094a2c"
      },
      "outputs": [],
      "source": [
        "class TokenAndPositionEmbedding(layers.Layer):\n",
        "    def __init__(self, max_len, vocab_size, embed_dim):\n",
        "        super(TokenAndPositionEmbedding, self).__init__()\n",
        "        self.max_len = max_len\n",
        "        self.vocab_size = vocab_size\n",
        "        self.embed_dim = embed_dim\n",
        "        self.token_emb = layers.Embedding(\n",
        "            input_dim=vocab_size, output_dim=embed_dim\n",
        "        )\n",
        "        self.pos_emb = layers.Embedding(input_dim=max_len, output_dim=embed_dim)\n",
        "\n",
        "    def call(self, x):\n",
        "        maxlen = tf.shape(x)[-1]\n",
        "        positions = tf.range(start=0, limit=maxlen, delta=1)\n",
        "        positions = self.pos_emb(positions)\n",
        "        x = self.token_emb(x)\n",
        "        return x + positions\n",
        "\n",
        "    def get_config(self):\n",
        "        config = super().get_config()\n",
        "        config.update(\n",
        "            {\n",
        "                \"max_len\": self.max_len,\n",
        "                \"vocab_size\": self.vocab_size,\n",
        "                \"embed_dim\": self.embed_dim,\n",
        "            }\n",
        "        )\n",
        "        return config"
      ]
    },
    {
      "cell_type": "markdown",
      "id": "aac2e2d4-5980-47e3-b5b0-6c41c0c2d152",
      "metadata": {
        "id": "aac2e2d4-5980-47e3-b5b0-6c41c0c2d152"
      },
      "source": [
        "## 8. 트랜스포머 모델 만들기 <a name=\"transformer_decoder\"></a>"
      ]
    },
    {
      "cell_type": "code",
      "execution_count": 23,
      "id": "8c57596e-e17d-4959-b6e8-7581b0bace3a",
      "metadata": {
        "id": "8c57596e-e17d-4959-b6e8-7581b0bace3a"
      },
      "outputs": [],
      "source": [
        "inputs = layers.Input(shape=(None,), dtype=tf.int32)\n",
        "x = TokenAndPositionEmbedding(MAX_LEN, VOCAB_SIZE, EMBEDDING_DIM)(inputs)\n",
        "x, attention_scores = TransformerBlock(\n",
        "    N_HEADS, KEY_DIM, EMBEDDING_DIM, FEED_FORWARD_DIM\n",
        ")(x)\n",
        "outputs = layers.Dense(VOCAB_SIZE, activation=\"softmax\")(x)\n",
        "gpt = models.Model(inputs=inputs, outputs=[outputs, attention_scores])\n",
        "gpt.compile(\"adam\", loss=[losses.SparseCategoricalCrossentropy(), None])"
      ]
    },
    {
      "cell_type": "code",
      "execution_count": 24,
      "id": "1a1c3b0f-3382-444d-bb04-bae143ae5d61",
      "metadata": {
        "id": "1a1c3b0f-3382-444d-bb04-bae143ae5d61",
        "outputId": "ea7a1920-19c5-4670-b01c-f6fa92e8d1bc",
        "colab": {
          "base_uri": "https://localhost:8080/"
        }
      },
      "outputs": [
        {
          "output_type": "stream",
          "name": "stdout",
          "text": [
            "Model: \"model\"\n",
            "_________________________________________________________________\n",
            " Layer (type)                Output Shape              Param #   \n",
            "=================================================================\n",
            " input_1 (InputLayer)        [(None, None)]            0         \n",
            "                                                                 \n",
            " token_and_position_embeddin  (None, None, 256)        2580480   \n",
            " g (TokenAndPositionEmbeddin                                     \n",
            " g)                                                              \n",
            "                                                                 \n",
            " transformer_block (Transfor  ((None, None, 256),      658688    \n",
            " merBlock)                    (None, 2, None, None))             \n",
            "                                                                 \n",
            " dense_2 (Dense)             (None, None, 10000)       2570000   \n",
            "                                                                 \n",
            "=================================================================\n",
            "Total params: 5,809,168\n",
            "Trainable params: 5,809,168\n",
            "Non-trainable params: 0\n",
            "_________________________________________________________________\n"
          ]
        }
      ],
      "source": [
        "gpt.summary()"
      ]
    },
    {
      "cell_type": "code",
      "execution_count": 25,
      "id": "800a3c6e-fb11-4792-b6bc-9a43a7c977ad",
      "metadata": {
        "tags": [],
        "id": "800a3c6e-fb11-4792-b6bc-9a43a7c977ad"
      },
      "outputs": [],
      "source": [
        "if LOAD_MODEL:\n",
        "    # model.load_weights('./models/model')\n",
        "    gpt = models.load_model(\"./models/gpt\", compile=True)"
      ]
    },
    {
      "cell_type": "markdown",
      "id": "35b14665-4359-447b-be58-3fd58ba69084",
      "metadata": {
        "id": "35b14665-4359-447b-be58-3fd58ba69084"
      },
      "source": [
        "## 9. 트랜스포머 훈련하기 <a name=\"train\"></a>"
      ]
    },
    {
      "cell_type": "code",
      "execution_count": 26,
      "id": "3ddcff5f-829d-4449-99d2-9a3cb68f7d72",
      "metadata": {
        "id": "3ddcff5f-829d-4449-99d2-9a3cb68f7d72"
      },
      "outputs": [],
      "source": [
        "# TextGenerator 체크포인트 만들기\n",
        "class TextGenerator(callbacks.Callback):\n",
        "    def __init__(self, index_to_word, top_k=10):\n",
        "        self.index_to_word = index_to_word\n",
        "        self.word_to_index = {\n",
        "            word: index for index, word in enumerate(index_to_word)\n",
        "        }\n",
        "\n",
        "    def sample_from(self, probs, temperature):\n",
        "        probs = probs ** (1 / temperature)\n",
        "        probs = probs / np.sum(probs)\n",
        "        return np.random.choice(len(probs), p=probs), probs\n",
        "\n",
        "    def generate(self, start_prompt, max_tokens, temperature):\n",
        "        start_tokens = [\n",
        "            self.word_to_index.get(x, 1) for x in start_prompt.split()\n",
        "        ]\n",
        "        sample_token = None\n",
        "        info = []\n",
        "        while len(start_tokens) < max_tokens and sample_token != 0:\n",
        "            x = np.array([start_tokens])\n",
        "            y, att = self.model.predict(x, verbose=0)\n",
        "            sample_token, probs = self.sample_from(y[0][-1], temperature)\n",
        "            info.append(\n",
        "                {\n",
        "                    \"prompt\": start_prompt,\n",
        "                    \"word_probs\": probs,\n",
        "                    \"atts\": att[0, :, -1, :],\n",
        "                }\n",
        "            )\n",
        "            start_tokens.append(sample_token)\n",
        "            start_prompt = start_prompt + \" \" + self.index_to_word[sample_token]\n",
        "        print(f\"\\n생성된 텍스트:\\n{start_prompt}\\n\")\n",
        "        return info\n",
        "\n",
        "    def on_epoch_end(self, epoch, logs=None):\n",
        "        self.generate(\"wine review\", max_tokens=80, temperature=1.0)"
      ]
    },
    {
      "cell_type": "code",
      "execution_count": 27,
      "id": "349865fe-ffbe-450e-97be-043ae1740e78",
      "metadata": {
        "id": "349865fe-ffbe-450e-97be-043ae1740e78"
      },
      "outputs": [],
      "source": [
        "# 모델 저장 체크포인트 만들기\n",
        "model_checkpoint_callback = callbacks.ModelCheckpoint(\n",
        "    filepath=\"./checkpoint/checkpoint.ckpt\",\n",
        "    save_weights_only=True,\n",
        "    save_freq=\"epoch\",\n",
        "    verbose=0,\n",
        ")\n",
        "\n",
        "tensorboard_callback = callbacks.TensorBoard(log_dir=\"./logs\")\n",
        "\n",
        "# 시작 프롬프트 토큰화\n",
        "text_generator = TextGenerator(vocab)"
      ]
    },
    {
      "cell_type": "code",
      "execution_count": 28,
      "id": "461c2b3e-b5ae-4def-8bd9-e7bab8c63d8e",
      "metadata": {
        "tags": [],
        "id": "461c2b3e-b5ae-4def-8bd9-e7bab8c63d8e",
        "outputId": "53b20720-2731-42fc-9f5b-627aeaaf1db3",
        "colab": {
          "base_uri": "https://localhost:8080/"
        }
      },
      "outputs": [
        {
          "output_type": "stream",
          "name": "stdout",
          "text": [
            "Epoch 1/5\n",
            "4059/4060 [============================>.] - ETA: 0s - loss: 2.2515 - dense_2_loss: 2.2515\n",
            "생성된 텍스트:\n",
            "wine review : italy : southern italy : southern italy offers mature yellow rose and blue with aromas of violet , white rose cake spice , underbrush and a whiff of a whiff of bay wet stone . the concentrated palate is still young and austere , [UNK] delivers layers of dark fruit , mint , cooked cherry and licorice . give it time to develop further almond out , the fruit . \n",
            "\n",
            "4060/4060 [==============================] - 206s 48ms/step - loss: 2.2515 - dense_2_loss: 2.2515\n",
            "Epoch 2/5\n",
            "4060/4060 [==============================] - ETA: 0s - loss: 1.9588 - dense_2_loss: 1.9588\n",
            "생성된 텍스트:\n",
            "wine review : us : california : merlot : very direct and enjoyable for the price . this merlot is dry and full bodied , with ripe blackberry and cherry flavors , while the tannins have a mouthwatering structure of acidity . give it 2–3 years to open up . \n",
            "\n",
            "4060/4060 [==============================] - 119s 29ms/step - loss: 1.9588 - dense_2_loss: 1.9588\n",
            "Epoch 3/5\n",
            "4059/4060 [============================>.] - ETA: 0s - loss: 1.8886 - dense_2_loss: 1.8886\n",
            "생성된 텍스트:\n",
            "wine review : us : washington : red blend : citrus , cranberry and green , this wine has enticing aromas , showing suggestions of juicy black raspberry and cherry . it is medium bodied , with a good grip to the liveliness of the finish . \n",
            "\n",
            "4060/4060 [==============================] - 119s 29ms/step - loss: 1.8886 - dense_2_loss: 1.8886\n",
            "Epoch 4/5\n",
            "4060/4060 [==============================] - ETA: 0s - loss: 1.8465 - dense_2_loss: 1.8465\n",
            "생성된 텍스트:\n",
            "wine review : italy : tuscany : red blend : meaty and herbal , this opens with aromas of ripe plum , menthol and ground pepper that carry over to the robust , easy - drinking palate where the juicy black cherry , black raspberry and a hint of carob . it ' s easy balanced with supple tannins and bright acidity . enjoy now . \n",
            "\n",
            "4060/4060 [==============================] - 120s 30ms/step - loss: 1.8465 - dense_2_loss: 1.8465\n",
            "Epoch 5/5\n",
            "4059/4060 [============================>.] - ETA: 0s - loss: 1.8160 - dense_2_loss: 1.8160\n",
            "생성된 텍스트:\n",
            "wine review : us : california : sparkling blend : freixenet ' s signature imprint is [UNK] easily in this reserve - style pinot grigio from the site . barrel - dominated , as far as it gets , with pure yellow flower and pear flavors once in the glass , this [UNK] sweet - [UNK] built on a nice , refreshing , food - friendly wine . \n",
            "\n",
            "4060/4060 [==============================] - 121s 30ms/step - loss: 1.8161 - dense_2_loss: 1.8161\n"
          ]
        },
        {
          "output_type": "execute_result",
          "data": {
            "text/plain": [
              "<keras.callbacks.History at 0x7f5d06453190>"
            ]
          },
          "metadata": {},
          "execution_count": 28
        }
      ],
      "source": [
        "gpt.fit(\n",
        "    train_ds,\n",
        "    epochs=EPOCHS,\n",
        "    callbacks=[model_checkpoint_callback, tensorboard_callback, text_generator],\n",
        ")"
      ]
    },
    {
      "cell_type": "code",
      "execution_count": 29,
      "id": "369bde44-2e39-4bc6-8549-a3a27ecce55c",
      "metadata": {
        "tags": [],
        "id": "369bde44-2e39-4bc6-8549-a3a27ecce55c",
        "outputId": "b3a27430-1b02-4d47-aeba-4e0d29d0b382",
        "colab": {
          "base_uri": "https://localhost:8080/"
        }
      },
      "outputs": [
        {
          "output_type": "stream",
          "name": "stderr",
          "text": [
            "WARNING:absl:Found untraced functions such as embedding_layer_call_fn, embedding_layer_call_and_return_conditional_losses, embedding_1_layer_call_fn, embedding_1_layer_call_and_return_conditional_losses, multi_head_attention_layer_call_fn while saving (showing 5 of 30). These functions will not be directly callable after loading.\n"
          ]
        }
      ],
      "source": [
        "# 최종 모델 저장\n",
        "gpt.save(\"./models/gpt\")"
      ]
    },
    {
      "cell_type": "markdown",
      "id": "d64e02d2-84dc-40c8-8446-40c09adf1e20",
      "metadata": {
        "id": "d64e02d2-84dc-40c8-8446-40c09adf1e20"
      },
      "source": [
        "# 3. 트랜스포머를 사용하여 텍스트 생성"
      ]
    },
    {
      "cell_type": "code",
      "execution_count": 30,
      "id": "4ad23adb-3ec9-4e9a-9a59-b9f9bafca649",
      "metadata": {
        "id": "4ad23adb-3ec9-4e9a-9a59-b9f9bafca649"
      },
      "outputs": [],
      "source": [
        "def print_probs(info, vocab, top_k=5):\n",
        "    for i in info:\n",
        "        highlighted_text = []\n",
        "        for word, att_score in zip(\n",
        "            i[\"prompt\"].split(), np.mean(i[\"atts\"], axis=0)\n",
        "        ):\n",
        "            highlighted_text.append(\n",
        "                '<span style=\"background-color:rgba(135,206,250,'\n",
        "                + str(att_score / max(np.mean(i[\"atts\"], axis=0)))\n",
        "                + ');\">'\n",
        "                + word\n",
        "                + \"</span>\"\n",
        "            )\n",
        "        highlighted_text = \" \".join(highlighted_text)\n",
        "        display(HTML(highlighted_text))\n",
        "\n",
        "        word_probs = i[\"word_probs\"]\n",
        "        p_sorted = np.sort(word_probs)[::-1][:top_k]\n",
        "        i_sorted = np.argsort(word_probs)[::-1][:top_k]\n",
        "        for p, i in zip(p_sorted, i_sorted):\n",
        "            print(f\"{vocab[i]}:   \\t{np.round(100*p,2)}%\")\n",
        "        print(\"--------\\n\")"
      ]
    },
    {
      "cell_type": "code",
      "execution_count": 31,
      "id": "3cf25578-d47c-4b26-8252-fcdf2316a4ac",
      "metadata": {
        "id": "3cf25578-d47c-4b26-8252-fcdf2316a4ac",
        "outputId": "9cf4b3e4-9b4c-4d48-9c34-52265f66e240",
        "colab": {
          "base_uri": "https://localhost:8080/"
        }
      },
      "outputs": [
        {
          "output_type": "stream",
          "name": "stdout",
          "text": [
            "\n",
            "생성된 텍스트:\n",
            "wine review : us : california : syrah : a powerful acidity , and a leg of lamb to like lamb or duck , as a . with unusual detail and tons of raspberries , bass with ripe fruit , only just enough to balance . the flavors show through the firm , complex tannins and the dryness of them . \n",
            "\n"
          ]
        }
      ],
      "source": [
        "info = text_generator.generate(\n",
        "    \"wine review : us\", max_tokens=80, temperature=1.0\n",
        ")"
      ]
    },
    {
      "cell_type": "code",
      "execution_count": 32,
      "id": "4ae2da8e-9b7c-4b71-b37b-021115b3d7ea",
      "metadata": {
        "id": "4ae2da8e-9b7c-4b71-b37b-021115b3d7ea",
        "outputId": "e5ac965c-3d9c-410c-f5be-f5784c00d7e9",
        "colab": {
          "base_uri": "https://localhost:8080/"
        }
      },
      "outputs": [
        {
          "output_type": "stream",
          "name": "stdout",
          "text": [
            "\n",
            "생성된 텍스트:\n",
            "wine review : italy : tuscany : sangiovese grosso : here ' s a dense , masculine brunello with loads of sweet fruit and spice . there ' s a sharp , compact quality that leaves a bright , bright cherry and blackberry take on the wine ' s natural acidity . \n",
            "\n"
          ]
        }
      ],
      "source": [
        "info = text_generator.generate(\n",
        "    \"wine review : italy\", max_tokens=80, temperature=0.5\n",
        ")"
      ]
    },
    {
      "cell_type": "code",
      "execution_count": 33,
      "id": "5cae6d5d-263d-4455-b96c-f315cbe284ee",
      "metadata": {
        "id": "5cae6d5d-263d-4455-b96c-f315cbe284ee",
        "outputId": "2278ecfe-f5e3-4070-e85e-4300c479c8dd",
        "colab": {
          "base_uri": "https://localhost:8080/",
          "height": 1000
        }
      },
      "outputs": [
        {
          "output_type": "stream",
          "name": "stdout",
          "text": [
            "\n",
            "생성된 텍스트:\n",
            "wine review : germany : mosel : riesling : a whiff of waxy lanolin lends a sheen to this intensely fruity wine . it ' s rich and concentrated , with penetrating lime and peach flavors , but the palate is concentrated and full of body and rich , yet finishes long and long , with a long , mouthwatering finish . \n",
            "\n"
          ]
        },
        {
          "output_type": "display_data",
          "data": {
            "text/plain": [
              "<IPython.core.display.HTML object>"
            ],
            "text/html": [
              "<span style=\"background-color:rgba(135,206,250,1.0);\">wine</span> <span style=\"background-color:rgba(135,206,250,0.79638374);\">review</span> <span style=\"background-color:rgba(135,206,250,0.46469605);\">:</span> <span style=\"background-color:rgba(135,206,250,0.26996547);\">germany</span>"
            ]
          },
          "metadata": {}
        },
        {
          "output_type": "stream",
          "name": "stdout",
          "text": [
            "::   \t100.0%\n",
            "-:   \t0.0%\n",
            "grosso:   \t0.0%\n",
            "saar:   \t0.0%\n",
            "hills:   \t0.0%\n",
            "--------\n",
            "\n"
          ]
        },
        {
          "output_type": "display_data",
          "data": {
            "text/plain": [
              "<IPython.core.display.HTML object>"
            ],
            "text/html": [
              "<span style=\"background-color:rgba(135,206,250,0.37631783);\">wine</span> <span style=\"background-color:rgba(135,206,250,0.39938313);\">review</span> <span style=\"background-color:rgba(135,206,250,0.854847);\">:</span> <span style=\"background-color:rgba(135,206,250,1.0);\">germany</span> <span style=\"background-color:rgba(135,206,250,0.37936068);\">:</span>"
            ]
          },
          "metadata": {}
        },
        {
          "output_type": "stream",
          "name": "stdout",
          "text": [
            "mosel:   \t99.29%\n",
            "rheingau:   \t0.44%\n",
            "rheinhessen:   \t0.14%\n",
            "pfalz:   \t0.11%\n",
            "baden:   \t0.02%\n",
            "--------\n",
            "\n"
          ]
        },
        {
          "output_type": "display_data",
          "data": {
            "text/plain": [
              "<IPython.core.display.HTML object>"
            ],
            "text/html": [
              "<span style=\"background-color:rgba(135,206,250,1.0);\">wine</span> <span style=\"background-color:rgba(135,206,250,0.8236367);\">review</span> <span style=\"background-color:rgba(135,206,250,0.47581652);\">:</span> <span style=\"background-color:rgba(135,206,250,0.38108152);\">germany</span> <span style=\"background-color:rgba(135,206,250,0.49024436);\">:</span> <span style=\"background-color:rgba(135,206,250,0.38451725);\">mosel</span>"
            ]
          },
          "metadata": {}
        },
        {
          "output_type": "stream",
          "name": "stdout",
          "text": [
            "::   \t99.43%\n",
            "-:   \t0.57%\n",
            "blanca:   \t0.0%\n",
            "grosso:   \t0.0%\n",
            "blanc:   \t0.0%\n",
            "--------\n",
            "\n"
          ]
        },
        {
          "output_type": "display_data",
          "data": {
            "text/plain": [
              "<IPython.core.display.HTML object>"
            ],
            "text/html": [
              "<span style=\"background-color:rgba(135,206,250,0.3275456);\">wine</span> <span style=\"background-color:rgba(135,206,250,0.2652213);\">review</span> <span style=\"background-color:rgba(135,206,250,0.2448217);\">:</span> <span style=\"background-color:rgba(135,206,250,0.33800155);\">germany</span> <span style=\"background-color:rgba(135,206,250,0.18569598);\">:</span> <span style=\"background-color:rgba(135,206,250,1.0);\">mosel</span> <span style=\"background-color:rgba(135,206,250,0.19758251);\">:</span>"
            ]
          },
          "metadata": {}
        },
        {
          "output_type": "stream",
          "name": "stdout",
          "text": [
            "riesling:   \t100.0%\n",
            "pinot:   \t0.0%\n",
            "weissburgunder:   \t0.0%\n",
            "sparkling:   \t0.0%\n",
            "white:   \t0.0%\n",
            "--------\n",
            "\n"
          ]
        },
        {
          "output_type": "display_data",
          "data": {
            "text/plain": [
              "<IPython.core.display.HTML object>"
            ],
            "text/html": [
              "<span style=\"background-color:rgba(135,206,250,0.8793677);\">wine</span> <span style=\"background-color:rgba(135,206,250,1.0);\">review</span> <span style=\"background-color:rgba(135,206,250,0.36902478);\">:</span> <span style=\"background-color:rgba(135,206,250,0.29412788);\">germany</span> <span style=\"background-color:rgba(135,206,250,0.34701827);\">:</span> <span style=\"background-color:rgba(135,206,250,0.47809163);\">mosel</span> <span style=\"background-color:rgba(135,206,250,0.42869705);\">:</span> <span style=\"background-color:rgba(135,206,250,0.19174264);\">riesling</span>"
            ]
          },
          "metadata": {}
        },
        {
          "output_type": "stream",
          "name": "stdout",
          "text": [
            "::   \t100.0%\n",
            "blanc:   \t0.0%\n",
            "-:   \t0.0%\n",
            "grosso:   \t0.0%\n",
            "blanca:   \t0.0%\n",
            "--------\n",
            "\n"
          ]
        },
        {
          "output_type": "display_data",
          "data": {
            "text/plain": [
              "<IPython.core.display.HTML object>"
            ],
            "text/html": [
              "<span style=\"background-color:rgba(135,206,250,0.895024);\">wine</span> <span style=\"background-color:rgba(135,206,250,0.7221756);\">review</span> <span style=\"background-color:rgba(135,206,250,0.5092519);\">:</span> <span style=\"background-color:rgba(135,206,250,0.84519786);\">germany</span> <span style=\"background-color:rgba(135,206,250,0.5561032);\">:</span> <span style=\"background-color:rgba(135,206,250,1.0);\">mosel</span> <span style=\"background-color:rgba(135,206,250,0.6255694);\">:</span> <span style=\"background-color:rgba(135,206,250,0.7774233);\">riesling</span> <span style=\"background-color:rgba(135,206,250,0.60406435);\">:</span>"
            ]
          },
          "metadata": {}
        },
        {
          "output_type": "stream",
          "name": "stdout",
          "text": [
            "a:   \t27.11%\n",
            "this:   \t14.84%\n",
            "while:   \t13.13%\n",
            "intensely:   \t7.64%\n",
            "[UNK]:   \t3.83%\n",
            "--------\n",
            "\n"
          ]
        },
        {
          "output_type": "display_data",
          "data": {
            "text/plain": [
              "<IPython.core.display.HTML object>"
            ],
            "text/html": [
              "<span style=\"background-color:rgba(135,206,250,1.0);\">wine</span> <span style=\"background-color:rgba(135,206,250,0.89414793);\">review</span> <span style=\"background-color:rgba(135,206,250,0.35266218);\">:</span> <span style=\"background-color:rgba(135,206,250,0.54578686);\">germany</span> <span style=\"background-color:rgba(135,206,250,0.3375559);\">:</span> <span style=\"background-color:rgba(135,206,250,0.6948875);\">mosel</span> <span style=\"background-color:rgba(135,206,250,0.25911984);\">:</span> <span style=\"background-color:rgba(135,206,250,0.3808166);\">riesling</span> <span style=\"background-color:rgba(135,206,250,0.51480365);\">:</span> <span style=\"background-color:rgba(135,206,250,0.31397057);\">a</span>"
            ]
          },
          "metadata": {}
        },
        {
          "output_type": "stream",
          "name": "stdout",
          "text": [
            "whiff:   \t31.99%\n",
            "hint:   \t10.75%\n",
            "touch:   \t9.18%\n",
            "crush:   \t7.56%\n",
            "wisp:   \t4.78%\n",
            "--------\n",
            "\n"
          ]
        },
        {
          "output_type": "display_data",
          "data": {
            "text/plain": [
              "<IPython.core.display.HTML object>"
            ],
            "text/html": [
              "<span style=\"background-color:rgba(135,206,250,0.9332557);\">wine</span> <span style=\"background-color:rgba(135,206,250,1.0);\">review</span> <span style=\"background-color:rgba(135,206,250,0.3950931);\">:</span> <span style=\"background-color:rgba(135,206,250,0.24775554);\">germany</span> <span style=\"background-color:rgba(135,206,250,0.4127504);\">:</span> <span style=\"background-color:rgba(135,206,250,0.23310603);\">mosel</span> <span style=\"background-color:rgba(135,206,250,0.23901893);\">:</span> <span style=\"background-color:rgba(135,206,250,0.19895999);\">riesling</span> <span style=\"background-color:rgba(135,206,250,0.48918027);\">:</span> <span style=\"background-color:rgba(135,206,250,0.5952762);\">a</span> <span style=\"background-color:rgba(135,206,250,0.46770057);\">whiff</span>"
            ]
          },
          "metadata": {}
        },
        {
          "output_type": "stream",
          "name": "stdout",
          "text": [
            "of:   \t100.0%\n",
            "from:   \t0.0%\n",
            "that:   \t0.0%\n",
            "to:   \t0.0%\n",
            "at:   \t0.0%\n",
            "--------\n",
            "\n"
          ]
        },
        {
          "output_type": "display_data",
          "data": {
            "text/plain": [
              "<IPython.core.display.HTML object>"
            ],
            "text/html": [
              "<span style=\"background-color:rgba(135,206,250,0.4981048);\">wine</span> <span style=\"background-color:rgba(135,206,250,0.448025);\">review</span> <span style=\"background-color:rgba(135,206,250,0.25615242);\">:</span> <span style=\"background-color:rgba(135,206,250,0.32987568);\">germany</span> <span style=\"background-color:rgba(135,206,250,0.18880405);\">:</span> <span style=\"background-color:rgba(135,206,250,0.45021108);\">mosel</span> <span style=\"background-color:rgba(135,206,250,0.19139066);\">:</span> <span style=\"background-color:rgba(135,206,250,0.33127847);\">riesling</span> <span style=\"background-color:rgba(135,206,250,0.28343326);\">:</span> <span style=\"background-color:rgba(135,206,250,0.35434142);\">a</span> <span style=\"background-color:rgba(135,206,250,1.0);\">whiff</span> <span style=\"background-color:rgba(135,206,250,0.1649832);\">of</span>"
            ]
          },
          "metadata": {}
        },
        {
          "output_type": "stream",
          "name": "stdout",
          "text": [
            "petrol:   \t43.4%\n",
            "wet:   \t15.36%\n",
            "lanolin:   \t6.82%\n",
            "smoke:   \t6.5%\n",
            "honey:   \t4.36%\n",
            "--------\n",
            "\n"
          ]
        },
        {
          "output_type": "display_data",
          "data": {
            "text/plain": [
              "<IPython.core.display.HTML object>"
            ],
            "text/html": [
              "<span style=\"background-color:rgba(135,206,250,0.5229562);\">wine</span> <span style=\"background-color:rgba(135,206,250,0.5008946);\">review</span> <span style=\"background-color:rgba(135,206,250,0.33743572);\">:</span> <span style=\"background-color:rgba(135,206,250,0.3182375);\">germany</span> <span style=\"background-color:rgba(135,206,250,0.2973085);\">:</span> <span style=\"background-color:rgba(135,206,250,0.27820623);\">mosel</span> <span style=\"background-color:rgba(135,206,250,0.21192288);\">:</span> <span style=\"background-color:rgba(135,206,250,0.2878579);\">riesling</span> <span style=\"background-color:rgba(135,206,250,0.2900069);\">:</span> <span style=\"background-color:rgba(135,206,250,0.47536528);\">a</span> <span style=\"background-color:rgba(135,206,250,0.8551966);\">whiff</span> <span style=\"background-color:rgba(135,206,250,1.0);\">of</span> <span style=\"background-color:rgba(135,206,250,0.25230175);\">waxy</span>"
            ]
          },
          "metadata": {}
        },
        {
          "output_type": "stream",
          "name": "stdout",
          "text": [
            "lanolin:   \t88.96%\n",
            "honeycomb:   \t4.56%\n",
            "apple:   \t2.78%\n",
            "lemon:   \t1.02%\n",
            "minerals:   \t0.68%\n",
            "--------\n",
            "\n"
          ]
        },
        {
          "output_type": "display_data",
          "data": {
            "text/plain": [
              "<IPython.core.display.HTML object>"
            ],
            "text/html": [
              "<span style=\"background-color:rgba(135,206,250,0.8779347);\">wine</span> <span style=\"background-color:rgba(135,206,250,1.0);\">review</span> <span style=\"background-color:rgba(135,206,250,0.22117248);\">:</span> <span style=\"background-color:rgba(135,206,250,0.3025773);\">germany</span> <span style=\"background-color:rgba(135,206,250,0.28244403);\">:</span> <span style=\"background-color:rgba(135,206,250,0.10469259);\">mosel</span> <span style=\"background-color:rgba(135,206,250,0.22752649);\">:</span> <span style=\"background-color:rgba(135,206,250,0.07786897);\">riesling</span> <span style=\"background-color:rgba(135,206,250,0.31162998);\">:</span> <span style=\"background-color:rgba(135,206,250,0.5635496);\">a</span> <span style=\"background-color:rgba(135,206,250,0.6766445);\">whiff</span> <span style=\"background-color:rgba(135,206,250,0.68156147);\">of</span> <span style=\"background-color:rgba(135,206,250,0.34821275);\">waxy</span> <span style=\"background-color:rgba(135,206,250,0.30213892);\">lanolin</span>"
            ]
          },
          "metadata": {}
        },
        {
          "output_type": "stream",
          "name": "stdout",
          "text": [
            "lends:   \t73.48%\n",
            "and:   \t12.77%\n",
            "adds:   \t7.5%\n",
            "introduces:   \t2.87%\n",
            "on:   \t1.14%\n",
            "--------\n",
            "\n"
          ]
        },
        {
          "output_type": "display_data",
          "data": {
            "text/plain": [
              "<IPython.core.display.HTML object>"
            ],
            "text/html": [
              "<span style=\"background-color:rgba(135,206,250,0.70197624);\">wine</span> <span style=\"background-color:rgba(135,206,250,1.0);\">review</span> <span style=\"background-color:rgba(135,206,250,0.42616895);\">:</span> <span style=\"background-color:rgba(135,206,250,0.40104368);\">germany</span> <span style=\"background-color:rgba(135,206,250,0.46408653);\">:</span> <span style=\"background-color:rgba(135,206,250,0.30460024);\">mosel</span> <span style=\"background-color:rgba(135,206,250,0.32619378);\">:</span> <span style=\"background-color:rgba(135,206,250,0.268604);\">riesling</span> <span style=\"background-color:rgba(135,206,250,0.35561782);\">:</span> <span style=\"background-color:rgba(135,206,250,0.44154915);\">a</span> <span style=\"background-color:rgba(135,206,250,0.65658206);\">whiff</span> <span style=\"background-color:rgba(135,206,250,0.36526576);\">of</span> <span style=\"background-color:rgba(135,206,250,0.3964515);\">waxy</span> <span style=\"background-color:rgba(135,206,250,0.6484554);\">lanolin</span> <span style=\"background-color:rgba(135,206,250,0.556749);\">lends</span>"
            ]
          },
          "metadata": {}
        },
        {
          "output_type": "stream",
          "name": "stdout",
          "text": [
            "a:   \t62.66%\n",
            "complexity:   \t24.11%\n",
            "an:   \t7.06%\n",
            "nuance:   \t1.34%\n",
            "the:   \t1.1%\n",
            "--------\n",
            "\n"
          ]
        },
        {
          "output_type": "display_data",
          "data": {
            "text/plain": [
              "<IPython.core.display.HTML object>"
            ],
            "text/html": [
              "<span style=\"background-color:rgba(135,206,250,0.28536847);\">wine</span> <span style=\"background-color:rgba(135,206,250,0.3596175);\">review</span> <span style=\"background-color:rgba(135,206,250,0.14273298);\">:</span> <span style=\"background-color:rgba(135,206,250,0.31712094);\">germany</span> <span style=\"background-color:rgba(135,206,250,0.11887245);\">:</span> <span style=\"background-color:rgba(135,206,250,0.27305037);\">mosel</span> <span style=\"background-color:rgba(135,206,250,0.09845304);\">:</span> <span style=\"background-color:rgba(135,206,250,0.22891721);\">riesling</span> <span style=\"background-color:rgba(135,206,250,0.15962298);\">:</span> <span style=\"background-color:rgba(135,206,250,0.10336571);\">a</span> <span style=\"background-color:rgba(135,206,250,0.38798895);\">whiff</span> <span style=\"background-color:rgba(135,206,250,0.21684255);\">of</span> <span style=\"background-color:rgba(135,206,250,0.2865994);\">waxy</span> <span style=\"background-color:rgba(135,206,250,0.8605732);\">lanolin</span> <span style=\"background-color:rgba(135,206,250,1.0);\">lends</span> <span style=\"background-color:rgba(135,206,250,0.16995724);\">a</span>"
            ]
          },
          "metadata": {}
        },
        {
          "output_type": "stream",
          "name": "stdout",
          "text": [
            "savory:   \t45.78%\n",
            "sheen:   \t20.43%\n",
            "fresh:   \t6.67%\n",
            "lavish:   \t5.96%\n",
            "bright:   \t3.43%\n",
            "--------\n",
            "\n"
          ]
        },
        {
          "output_type": "display_data",
          "data": {
            "text/plain": [
              "<IPython.core.display.HTML object>"
            ],
            "text/html": [
              "<span style=\"background-color:rgba(135,206,250,0.28959483);\">wine</span> <span style=\"background-color:rgba(135,206,250,0.52917784);\">review</span> <span style=\"background-color:rgba(135,206,250,0.2263527);\">:</span> <span style=\"background-color:rgba(135,206,250,0.16469474);\">germany</span> <span style=\"background-color:rgba(135,206,250,0.21203208);\">:</span> <span style=\"background-color:rgba(135,206,250,0.080739364);\">mosel</span> <span style=\"background-color:rgba(135,206,250,0.11408203);\">:</span> <span style=\"background-color:rgba(135,206,250,0.080586724);\">riesling</span> <span style=\"background-color:rgba(135,206,250,0.15222941);\">:</span> <span style=\"background-color:rgba(135,206,250,0.11190099);\">a</span> <span style=\"background-color:rgba(135,206,250,0.15013647);\">whiff</span> <span style=\"background-color:rgba(135,206,250,0.15816799);\">of</span> <span style=\"background-color:rgba(135,206,250,0.11273544);\">waxy</span> <span style=\"background-color:rgba(135,206,250,0.4974562);\">lanolin</span> <span style=\"background-color:rgba(135,206,250,1.0);\">lends</span> <span style=\"background-color:rgba(135,206,250,0.34965515);\">a</span> <span style=\"background-color:rgba(135,206,250,0.1852795);\">sheen</span>"
            ]
          },
          "metadata": {}
        },
        {
          "output_type": "stream",
          "name": "stdout",
          "text": [
            "to:   \t99.96%\n",
            "of:   \t0.02%\n",
            "and:   \t0.01%\n",
            "on:   \t0.01%\n",
            ",:   \t0.01%\n",
            "--------\n",
            "\n"
          ]
        },
        {
          "output_type": "display_data",
          "data": {
            "text/plain": [
              "<IPython.core.display.HTML object>"
            ],
            "text/html": [
              "<span style=\"background-color:rgba(135,206,250,0.2962888);\">wine</span> <span style=\"background-color:rgba(135,206,250,0.41202623);\">review</span> <span style=\"background-color:rgba(135,206,250,0.16586517);\">:</span> <span style=\"background-color:rgba(135,206,250,0.27228063);\">germany</span> <span style=\"background-color:rgba(135,206,250,0.20039156);\">:</span> <span style=\"background-color:rgba(135,206,250,0.19034243);\">mosel</span> <span style=\"background-color:rgba(135,206,250,0.12893076);\">:</span> <span style=\"background-color:rgba(135,206,250,0.17954127);\">riesling</span> <span style=\"background-color:rgba(135,206,250,0.16252254);\">:</span> <span style=\"background-color:rgba(135,206,250,0.13541657);\">a</span> <span style=\"background-color:rgba(135,206,250,0.277321);\">whiff</span> <span style=\"background-color:rgba(135,206,250,0.11825852);\">of</span> <span style=\"background-color:rgba(135,206,250,0.12895052);\">waxy</span> <span style=\"background-color:rgba(135,206,250,0.28342465);\">lanolin</span> <span style=\"background-color:rgba(135,206,250,1.0);\">lends</span> <span style=\"background-color:rgba(135,206,250,0.2842042);\">a</span> <span style=\"background-color:rgba(135,206,250,0.67547417);\">sheen</span> <span style=\"background-color:rgba(135,206,250,0.14903134);\">to</span>"
            ]
          },
          "metadata": {}
        },
        {
          "output_type": "stream",
          "name": "stdout",
          "text": [
            "this:   \t99.9%\n",
            "the:   \t0.09%\n",
            "a:   \t0.01%\n",
            "pristine:   \t0.0%\n",
            "bright:   \t0.0%\n",
            "--------\n",
            "\n"
          ]
        },
        {
          "output_type": "display_data",
          "data": {
            "text/plain": [
              "<IPython.core.display.HTML object>"
            ],
            "text/html": [
              "<span style=\"background-color:rgba(135,206,250,0.4554862);\">wine</span> <span style=\"background-color:rgba(135,206,250,1.0);\">review</span> <span style=\"background-color:rgba(135,206,250,0.3336102);\">:</span> <span style=\"background-color:rgba(135,206,250,0.6615496);\">germany</span> <span style=\"background-color:rgba(135,206,250,0.2965206);\">:</span> <span style=\"background-color:rgba(135,206,250,0.4311167);\">mosel</span> <span style=\"background-color:rgba(135,206,250,0.22030027);\">:</span> <span style=\"background-color:rgba(135,206,250,0.5752689);\">riesling</span> <span style=\"background-color:rgba(135,206,250,0.2962652);\">:</span> <span style=\"background-color:rgba(135,206,250,0.25145662);\">a</span> <span style=\"background-color:rgba(135,206,250,0.29517213);\">whiff</span> <span style=\"background-color:rgba(135,206,250,0.16155916);\">of</span> <span style=\"background-color:rgba(135,206,250,0.23772766);\">waxy</span> <span style=\"background-color:rgba(135,206,250,0.34941712);\">lanolin</span> <span style=\"background-color:rgba(135,206,250,0.5785202);\">lends</span> <span style=\"background-color:rgba(135,206,250,0.22609156);\">a</span> <span style=\"background-color:rgba(135,206,250,0.62737346);\">sheen</span> <span style=\"background-color:rgba(135,206,250,0.7462094);\">to</span> <span style=\"background-color:rgba(135,206,250,0.29960966);\">this</span>"
            ]
          },
          "metadata": {}
        },
        {
          "output_type": "stream",
          "name": "stdout",
          "text": [
            "intensely:   \t66.35%\n",
            "off:   \t9.0%\n",
            "dry:   \t7.76%\n",
            "otherwise:   \t2.42%\n",
            "lusciously:   \t2.37%\n",
            "--------\n",
            "\n"
          ]
        },
        {
          "output_type": "display_data",
          "data": {
            "text/plain": [
              "<IPython.core.display.HTML object>"
            ],
            "text/html": [
              "<span style=\"background-color:rgba(135,206,250,0.6044473);\">wine</span> <span style=\"background-color:rgba(135,206,250,1.0);\">review</span> <span style=\"background-color:rgba(135,206,250,0.5764529);\">:</span> <span style=\"background-color:rgba(135,206,250,0.513883);\">germany</span> <span style=\"background-color:rgba(135,206,250,0.5695385);\">:</span> <span style=\"background-color:rgba(135,206,250,0.43398178);\">mosel</span> <span style=\"background-color:rgba(135,206,250,0.3204236);\">:</span> <span style=\"background-color:rgba(135,206,250,0.48765033);\">riesling</span> <span style=\"background-color:rgba(135,206,250,0.35895023);\">:</span> <span style=\"background-color:rgba(135,206,250,0.20084357);\">a</span> <span style=\"background-color:rgba(135,206,250,0.40460452);\">whiff</span> <span style=\"background-color:rgba(135,206,250,0.26790738);\">of</span> <span style=\"background-color:rgba(135,206,250,0.27207983);\">waxy</span> <span style=\"background-color:rgba(135,206,250,0.48437172);\">lanolin</span> <span style=\"background-color:rgba(135,206,250,0.7100579);\">lends</span> <span style=\"background-color:rgba(135,206,250,0.3045534);\">a</span> <span style=\"background-color:rgba(135,206,250,0.70587975);\">sheen</span> <span style=\"background-color:rgba(135,206,250,0.69124204);\">to</span> <span style=\"background-color:rgba(135,206,250,0.70361793);\">this</span> <span style=\"background-color:rgba(135,206,250,0.39267027);\">intensely</span>"
            ]
          },
          "metadata": {}
        },
        {
          "output_type": "stream",
          "name": "stdout",
          "text": [
            "fruity:   \t43.68%\n",
            "concentrated:   \t26.69%\n",
            "mineral:   \t11.0%\n",
            "perfumed:   \t4.6%\n",
            "floral:   \t3.43%\n",
            "--------\n",
            "\n"
          ]
        },
        {
          "output_type": "display_data",
          "data": {
            "text/plain": [
              "<IPython.core.display.HTML object>"
            ],
            "text/html": [
              "<span style=\"background-color:rgba(135,206,250,0.30187863);\">wine</span> <span style=\"background-color:rgba(135,206,250,0.5336879);\">review</span> <span style=\"background-color:rgba(135,206,250,0.18171576);\">:</span> <span style=\"background-color:rgba(135,206,250,0.4193888);\">germany</span> <span style=\"background-color:rgba(135,206,250,0.21398157);\">:</span> <span style=\"background-color:rgba(135,206,250,0.19763388);\">mosel</span> <span style=\"background-color:rgba(135,206,250,0.14642838);\">:</span> <span style=\"background-color:rgba(135,206,250,0.32215813);\">riesling</span> <span style=\"background-color:rgba(135,206,250,0.20282426);\">:</span> <span style=\"background-color:rgba(135,206,250,0.1263095);\">a</span> <span style=\"background-color:rgba(135,206,250,0.25566533);\">whiff</span> <span style=\"background-color:rgba(135,206,250,0.14642788);\">of</span> <span style=\"background-color:rgba(135,206,250,0.09457422);\">waxy</span> <span style=\"background-color:rgba(135,206,250,0.23898232);\">lanolin</span> <span style=\"background-color:rgba(135,206,250,0.4905186);\">lends</span> <span style=\"background-color:rgba(135,206,250,0.24608973);\">a</span> <span style=\"background-color:rgba(135,206,250,0.3648687);\">sheen</span> <span style=\"background-color:rgba(135,206,250,0.4438246);\">to</span> <span style=\"background-color:rgba(135,206,250,1.0);\">this</span> <span style=\"background-color:rgba(135,206,250,0.3947162);\">intensely</span> <span style=\"background-color:rgba(135,206,250,0.34955356);\">fruity</span>"
            ]
          },
          "metadata": {}
        },
        {
          "output_type": "stream",
          "name": "stdout",
          "text": [
            ",:   \t54.75%\n",
            "riesling:   \t20.92%\n",
            "wine:   \t17.76%\n",
            "auslese:   \t4.11%\n",
            "off:   \t0.95%\n",
            "--------\n",
            "\n"
          ]
        },
        {
          "output_type": "display_data",
          "data": {
            "text/plain": [
              "<IPython.core.display.HTML object>"
            ],
            "text/html": [
              "<span style=\"background-color:rgba(135,206,250,0.25440758);\">wine</span> <span style=\"background-color:rgba(135,206,250,1.0);\">review</span> <span style=\"background-color:rgba(135,206,250,0.2569243);\">:</span> <span style=\"background-color:rgba(135,206,250,0.3361105);\">germany</span> <span style=\"background-color:rgba(135,206,250,0.23196338);\">:</span> <span style=\"background-color:rgba(135,206,250,0.14257945);\">mosel</span> <span style=\"background-color:rgba(135,206,250,0.1812413);\">:</span> <span style=\"background-color:rgba(135,206,250,0.12380468);\">riesling</span> <span style=\"background-color:rgba(135,206,250,0.22611386);\">:</span> <span style=\"background-color:rgba(135,206,250,0.18187489);\">a</span> <span style=\"background-color:rgba(135,206,250,0.24383375);\">whiff</span> <span style=\"background-color:rgba(135,206,250,0.15200022);\">of</span> <span style=\"background-color:rgba(135,206,250,0.08042124);\">waxy</span> <span style=\"background-color:rgba(135,206,250,0.17831676);\">lanolin</span> <span style=\"background-color:rgba(135,206,250,0.6580515);\">lends</span> <span style=\"background-color:rgba(135,206,250,0.25147462);\">a</span> <span style=\"background-color:rgba(135,206,250,0.33327374);\">sheen</span> <span style=\"background-color:rgba(135,206,250,0.45725766);\">to</span> <span style=\"background-color:rgba(135,206,250,0.5077625);\">this</span> <span style=\"background-color:rgba(135,206,250,0.43621093);\">intensely</span> <span style=\"background-color:rgba(135,206,250,0.523216);\">fruity</span> <span style=\"background-color:rgba(135,206,250,0.4486045);\">wine</span>"
            ]
          },
          "metadata": {}
        },
        {
          "output_type": "stream",
          "name": "stdout",
          "text": [
            ".:   \t87.35%\n",
            ",:   \t7.04%\n",
            "that:   \t5.33%\n",
            "full:   \t0.12%\n",
            "from:   \t0.09%\n",
            "--------\n",
            "\n"
          ]
        },
        {
          "output_type": "display_data",
          "data": {
            "text/plain": [
              "<IPython.core.display.HTML object>"
            ],
            "text/html": [
              "<span style=\"background-color:rgba(135,206,250,0.2593586);\">wine</span> <span style=\"background-color:rgba(135,206,250,1.0);\">review</span> <span style=\"background-color:rgba(135,206,250,0.14870885);\">:</span> <span style=\"background-color:rgba(135,206,250,0.49168044);\">germany</span> <span style=\"background-color:rgba(135,206,250,0.38733423);\">:</span> <span style=\"background-color:rgba(135,206,250,0.26372406);\">mosel</span> <span style=\"background-color:rgba(135,206,250,0.15779282);\">:</span> <span style=\"background-color:rgba(135,206,250,0.21215503);\">riesling</span> <span style=\"background-color:rgba(135,206,250,0.19128743);\">:</span> <span style=\"background-color:rgba(135,206,250,0.08567667);\">a</span> <span style=\"background-color:rgba(135,206,250,0.14194912);\">whiff</span> <span style=\"background-color:rgba(135,206,250,0.07391052);\">of</span> <span style=\"background-color:rgba(135,206,250,0.10945944);\">waxy</span> <span style=\"background-color:rgba(135,206,250,0.1758611);\">lanolin</span> <span style=\"background-color:rgba(135,206,250,0.23771207);\">lends</span> <span style=\"background-color:rgba(135,206,250,0.08710935);\">a</span> <span style=\"background-color:rgba(135,206,250,0.1811287);\">sheen</span> <span style=\"background-color:rgba(135,206,250,0.094681285);\">to</span> <span style=\"background-color:rgba(135,206,250,0.27366528);\">this</span> <span style=\"background-color:rgba(135,206,250,0.15737483);\">intensely</span> <span style=\"background-color:rgba(135,206,250,0.1564305);\">fruity</span> <span style=\"background-color:rgba(135,206,250,0.30742848);\">wine</span> <span style=\"background-color:rgba(135,206,250,0.28030238);\">.</span>"
            ]
          },
          "metadata": {}
        },
        {
          "output_type": "stream",
          "name": "stdout",
          "text": [
            "it:   \t68.39%\n",
            "the:   \t24.77%\n",
            "off:   \t1.15%\n",
            "dry:   \t0.95%\n",
            "while:   \t0.72%\n",
            "--------\n",
            "\n"
          ]
        },
        {
          "output_type": "display_data",
          "data": {
            "text/plain": [
              "<IPython.core.display.HTML object>"
            ],
            "text/html": [
              "<span style=\"background-color:rgba(135,206,250,0.10731825);\">wine</span> <span style=\"background-color:rgba(135,206,250,0.2178972);\">review</span> <span style=\"background-color:rgba(135,206,250,0.22706811);\">:</span> <span style=\"background-color:rgba(135,206,250,0.26242718);\">germany</span> <span style=\"background-color:rgba(135,206,250,0.09437028);\">:</span> <span style=\"background-color:rgba(135,206,250,0.091559276);\">mosel</span> <span style=\"background-color:rgba(135,206,250,0.07905796);\">:</span> <span style=\"background-color:rgba(135,206,250,0.08263486);\">riesling</span> <span style=\"background-color:rgba(135,206,250,0.08559967);\">:</span> <span style=\"background-color:rgba(135,206,250,0.05534386);\">a</span> <span style=\"background-color:rgba(135,206,250,0.12351958);\">whiff</span> <span style=\"background-color:rgba(135,206,250,0.0478873);\">of</span> <span style=\"background-color:rgba(135,206,250,0.07289002);\">waxy</span> <span style=\"background-color:rgba(135,206,250,0.09396941);\">lanolin</span> <span style=\"background-color:rgba(135,206,250,0.16411881);\">lends</span> <span style=\"background-color:rgba(135,206,250,0.059129562);\">a</span> <span style=\"background-color:rgba(135,206,250,0.1649687);\">sheen</span> <span style=\"background-color:rgba(135,206,250,0.09708427);\">to</span> <span style=\"background-color:rgba(135,206,250,0.08354667);\">this</span> <span style=\"background-color:rgba(135,206,250,0.11939465);\">intensely</span> <span style=\"background-color:rgba(135,206,250,0.3149448);\">fruity</span> <span style=\"background-color:rgba(135,206,250,0.22118522);\">wine</span> <span style=\"background-color:rgba(135,206,250,1.0);\">.</span> <span style=\"background-color:rgba(135,206,250,0.18399704);\">it</span>"
            ]
          },
          "metadata": {}
        },
        {
          "output_type": "stream",
          "name": "stdout",
          "text": [
            "':   \t99.95%\n",
            "has:   \t0.01%\n",
            "is:   \t0.01%\n",
            "balances:   \t0.01%\n",
            "offers:   \t0.0%\n",
            "--------\n",
            "\n"
          ]
        },
        {
          "output_type": "display_data",
          "data": {
            "text/plain": [
              "<IPython.core.display.HTML object>"
            ],
            "text/html": [
              "<span style=\"background-color:rgba(135,206,250,0.1462825);\">wine</span> <span style=\"background-color:rgba(135,206,250,0.24780224);\">review</span> <span style=\"background-color:rgba(135,206,250,0.18168637);\">:</span> <span style=\"background-color:rgba(135,206,250,0.14807215);\">germany</span> <span style=\"background-color:rgba(135,206,250,0.1323358);\">:</span> <span style=\"background-color:rgba(135,206,250,0.13532552);\">mosel</span> <span style=\"background-color:rgba(135,206,250,0.07533689);\">:</span> <span style=\"background-color:rgba(135,206,250,0.15818007);\">riesling</span> <span style=\"background-color:rgba(135,206,250,0.09851241);\">:</span> <span style=\"background-color:rgba(135,206,250,0.052677587);\">a</span> <span style=\"background-color:rgba(135,206,250,0.090187505);\">whiff</span> <span style=\"background-color:rgba(135,206,250,0.041267924);\">of</span> <span style=\"background-color:rgba(135,206,250,0.04728718);\">waxy</span> <span style=\"background-color:rgba(135,206,250,0.100711405);\">lanolin</span> <span style=\"background-color:rgba(135,206,250,0.09167711);\">lends</span> <span style=\"background-color:rgba(135,206,250,0.047329765);\">a</span> <span style=\"background-color:rgba(135,206,250,0.111381486);\">sheen</span> <span style=\"background-color:rgba(135,206,250,0.094669625);\">to</span> <span style=\"background-color:rgba(135,206,250,0.12856284);\">this</span> <span style=\"background-color:rgba(135,206,250,0.08059926);\">intensely</span> <span style=\"background-color:rgba(135,206,250,0.17523101);\">fruity</span> <span style=\"background-color:rgba(135,206,250,0.43501666);\">wine</span> <span style=\"background-color:rgba(135,206,250,0.6513429);\">.</span> <span style=\"background-color:rgba(135,206,250,1.0);\">it</span> <span style=\"background-color:rgba(135,206,250,0.121305674);\">'</span>"
            ]
          },
          "metadata": {}
        },
        {
          "output_type": "stream",
          "name": "stdout",
          "text": [
            "s:   \t100.0%\n",
            "ll:   \t0.0%\n",
            "07:   \t0.0%\n",
            "blossomy:   \t0.0%\n",
            "[UNK]:   \t0.0%\n",
            "--------\n",
            "\n"
          ]
        },
        {
          "output_type": "display_data",
          "data": {
            "text/plain": [
              "<IPython.core.display.HTML object>"
            ],
            "text/html": [
              "<span style=\"background-color:rgba(135,206,250,0.1519684);\">wine</span> <span style=\"background-color:rgba(135,206,250,0.2970933);\">review</span> <span style=\"background-color:rgba(135,206,250,0.28509644);\">:</span> <span style=\"background-color:rgba(135,206,250,0.37864438);\">germany</span> <span style=\"background-color:rgba(135,206,250,0.15194835);\">:</span> <span style=\"background-color:rgba(135,206,250,0.20835075);\">mosel</span> <span style=\"background-color:rgba(135,206,250,0.10703959);\">:</span> <span style=\"background-color:rgba(135,206,250,0.2435937);\">riesling</span> <span style=\"background-color:rgba(135,206,250,0.15600812);\">:</span> <span style=\"background-color:rgba(135,206,250,0.07740608);\">a</span> <span style=\"background-color:rgba(135,206,250,0.15597837);\">whiff</span> <span style=\"background-color:rgba(135,206,250,0.056552336);\">of</span> <span style=\"background-color:rgba(135,206,250,0.11629802);\">waxy</span> <span style=\"background-color:rgba(135,206,250,0.15241756);\">lanolin</span> <span style=\"background-color:rgba(135,206,250,0.13736157);\">lends</span> <span style=\"background-color:rgba(135,206,250,0.06342742);\">a</span> <span style=\"background-color:rgba(135,206,250,0.18693566);\">sheen</span> <span style=\"background-color:rgba(135,206,250,0.098261766);\">to</span> <span style=\"background-color:rgba(135,206,250,0.16513988);\">this</span> <span style=\"background-color:rgba(135,206,250,0.13875943);\">intensely</span> <span style=\"background-color:rgba(135,206,250,0.26993194);\">fruity</span> <span style=\"background-color:rgba(135,206,250,0.52314276);\">wine</span> <span style=\"background-color:rgba(135,206,250,1.0);\">.</span> <span style=\"background-color:rgba(135,206,250,0.8955432);\">it</span> <span style=\"background-color:rgba(135,206,250,0.12460442);\">'</span> <span style=\"background-color:rgba(135,206,250,0.20912462);\">s</span>"
            ]
          },
          "metadata": {}
        },
        {
          "output_type": "stream",
          "name": "stdout",
          "text": [
            "lusciously:   \t45.89%\n",
            "chock:   \t13.86%\n",
            "intensely:   \t11.99%\n",
            "dry:   \t5.33%\n",
            "forward:   \t3.66%\n",
            "--------\n",
            "\n"
          ]
        },
        {
          "output_type": "display_data",
          "data": {
            "text/plain": [
              "<IPython.core.display.HTML object>"
            ],
            "text/html": [
              "<span style=\"background-color:rgba(135,206,250,0.1441752);\">wine</span> <span style=\"background-color:rgba(135,206,250,0.21415848);\">review</span> <span style=\"background-color:rgba(135,206,250,0.22199127);\">:</span> <span style=\"background-color:rgba(135,206,250,0.37761956);\">germany</span> <span style=\"background-color:rgba(135,206,250,0.13047852);\">:</span> <span style=\"background-color:rgba(135,206,250,0.2168114);\">mosel</span> <span style=\"background-color:rgba(135,206,250,0.106674954);\">:</span> <span style=\"background-color:rgba(135,206,250,0.3574369);\">riesling</span> <span style=\"background-color:rgba(135,206,250,0.1211773);\">:</span> <span style=\"background-color:rgba(135,206,250,0.044721406);\">a</span> <span style=\"background-color:rgba(135,206,250,0.14649421);\">whiff</span> <span style=\"background-color:rgba(135,206,250,0.046821054);\">of</span> <span style=\"background-color:rgba(135,206,250,0.08267084);\">waxy</span> <span style=\"background-color:rgba(135,206,250,0.17431107);\">lanolin</span> <span style=\"background-color:rgba(135,206,250,0.11553784);\">lends</span> <span style=\"background-color:rgba(135,206,250,0.047289513);\">a</span> <span style=\"background-color:rgba(135,206,250,0.1455772);\">sheen</span> <span style=\"background-color:rgba(135,206,250,0.0787213);\">to</span> <span style=\"background-color:rgba(135,206,250,0.15399933);\">this</span> <span style=\"background-color:rgba(135,206,250,0.08694911);\">intensely</span> <span style=\"background-color:rgba(135,206,250,0.18349423);\">fruity</span> <span style=\"background-color:rgba(135,206,250,0.4912056);\">wine</span> <span style=\"background-color:rgba(135,206,250,0.90746295);\">.</span> <span style=\"background-color:rgba(135,206,250,0.56873953);\">it</span> <span style=\"background-color:rgba(135,206,250,0.16554137);\">'</span> <span style=\"background-color:rgba(135,206,250,1.0);\">s</span> <span style=\"background-color:rgba(135,206,250,0.36347115);\">rich</span>"
            ]
          },
          "metadata": {}
        },
        {
          "output_type": "stream",
          "name": "stdout",
          "text": [
            "and:   \t93.97%\n",
            ",:   \t4.25%\n",
            "in:   \t1.11%\n",
            "with:   \t0.5%\n",
            "yet:   \t0.09%\n",
            "--------\n",
            "\n"
          ]
        },
        {
          "output_type": "display_data",
          "data": {
            "text/plain": [
              "<IPython.core.display.HTML object>"
            ],
            "text/html": [
              "<span style=\"background-color:rgba(135,206,250,0.0779284);\">wine</span> <span style=\"background-color:rgba(135,206,250,0.14148177);\">review</span> <span style=\"background-color:rgba(135,206,250,0.18840402);\">:</span> <span style=\"background-color:rgba(135,206,250,0.24006355);\">germany</span> <span style=\"background-color:rgba(135,206,250,0.08275338);\">:</span> <span style=\"background-color:rgba(135,206,250,0.1406929);\">mosel</span> <span style=\"background-color:rgba(135,206,250,0.05912993);\">:</span> <span style=\"background-color:rgba(135,206,250,0.18525209);\">riesling</span> <span style=\"background-color:rgba(135,206,250,0.08082137);\">:</span> <span style=\"background-color:rgba(135,206,250,0.030937666);\">a</span> <span style=\"background-color:rgba(135,206,250,0.084320694);\">whiff</span> <span style=\"background-color:rgba(135,206,250,0.026782958);\">of</span> <span style=\"background-color:rgba(135,206,250,0.06333913);\">waxy</span> <span style=\"background-color:rgba(135,206,250,0.107298575);\">lanolin</span> <span style=\"background-color:rgba(135,206,250,0.088515654);\">lends</span> <span style=\"background-color:rgba(135,206,250,0.02566165);\">a</span> <span style=\"background-color:rgba(135,206,250,0.1039773);\">sheen</span> <span style=\"background-color:rgba(135,206,250,0.039965264);\">to</span> <span style=\"background-color:rgba(135,206,250,0.07192845);\">this</span> <span style=\"background-color:rgba(135,206,250,0.06386281);\">intensely</span> <span style=\"background-color:rgba(135,206,250,0.1519218);\">fruity</span> <span style=\"background-color:rgba(135,206,250,0.13040586);\">wine</span> <span style=\"background-color:rgba(135,206,250,0.33604428);\">.</span> <span style=\"background-color:rgba(135,206,250,0.14928117);\">it</span> <span style=\"background-color:rgba(135,206,250,0.056941554);\">'</span> <span style=\"background-color:rgba(135,206,250,0.39359048);\">s</span> <span style=\"background-color:rgba(135,206,250,1.0);\">rich</span> <span style=\"background-color:rgba(135,206,250,0.31261343);\">and</span>"
            ]
          },
          "metadata": {}
        },
        {
          "output_type": "stream",
          "name": "stdout",
          "text": [
            "full:   \t30.28%\n",
            "concentrated:   \t19.34%\n",
            "creamy:   \t9.42%\n",
            "sweet:   \t6.81%\n",
            "lusciously:   \t3.78%\n",
            "--------\n",
            "\n"
          ]
        },
        {
          "output_type": "display_data",
          "data": {
            "text/plain": [
              "<IPython.core.display.HTML object>"
            ],
            "text/html": [
              "<span style=\"background-color:rgba(135,206,250,0.14238782);\">wine</span> <span style=\"background-color:rgba(135,206,250,0.22829856);\">review</span> <span style=\"background-color:rgba(135,206,250,0.28410983);\">:</span> <span style=\"background-color:rgba(135,206,250,0.4166236);\">germany</span> <span style=\"background-color:rgba(135,206,250,0.16144007);\">:</span> <span style=\"background-color:rgba(135,206,250,0.19772887);\">mosel</span> <span style=\"background-color:rgba(135,206,250,0.124294356);\">:</span> <span style=\"background-color:rgba(135,206,250,0.4171044);\">riesling</span> <span style=\"background-color:rgba(135,206,250,0.15477526);\">:</span> <span style=\"background-color:rgba(135,206,250,0.05582126);\">a</span> <span style=\"background-color:rgba(135,206,250,0.12046259);\">whiff</span> <span style=\"background-color:rgba(135,206,250,0.047911353);\">of</span> <span style=\"background-color:rgba(135,206,250,0.06014919);\">waxy</span> <span style=\"background-color:rgba(135,206,250,0.11761627);\">lanolin</span> <span style=\"background-color:rgba(135,206,250,0.12020664);\">lends</span> <span style=\"background-color:rgba(135,206,250,0.04439778);\">a</span> <span style=\"background-color:rgba(135,206,250,0.11347085);\">sheen</span> <span style=\"background-color:rgba(135,206,250,0.06495838);\">to</span> <span style=\"background-color:rgba(135,206,250,0.13032183);\">this</span> <span style=\"background-color:rgba(135,206,250,0.058155216);\">intensely</span> <span style=\"background-color:rgba(135,206,250,0.13944839);\">fruity</span> <span style=\"background-color:rgba(135,206,250,0.3502582);\">wine</span> <span style=\"background-color:rgba(135,206,250,0.6878949);\">.</span> <span style=\"background-color:rgba(135,206,250,0.4261636);\">it</span> <span style=\"background-color:rgba(135,206,250,0.08069751);\">'</span> <span style=\"background-color:rgba(135,206,250,0.72217274);\">s</span> <span style=\"background-color:rgba(135,206,250,0.24051078);\">rich</span> <span style=\"background-color:rgba(135,206,250,1.0);\">and</span> <span style=\"background-color:rgba(135,206,250,0.28276953);\">concentrated</span>"
            ]
          },
          "metadata": {}
        },
        {
          "output_type": "stream",
          "name": "stdout",
          "text": [
            ",:   \t53.33%\n",
            "with:   \t26.99%\n",
            "in:   \t15.69%\n",
            "on:   \t2.52%\n",
            "yet:   \t1.02%\n",
            "--------\n",
            "\n"
          ]
        },
        {
          "output_type": "display_data",
          "data": {
            "text/plain": [
              "<IPython.core.display.HTML object>"
            ],
            "text/html": [
              "<span style=\"background-color:rgba(135,206,250,0.09334944);\">wine</span> <span style=\"background-color:rgba(135,206,250,0.2198628);\">review</span> <span style=\"background-color:rgba(135,206,250,0.28776085);\">:</span> <span style=\"background-color:rgba(135,206,250,0.33345205);\">germany</span> <span style=\"background-color:rgba(135,206,250,0.12080369);\">:</span> <span style=\"background-color:rgba(135,206,250,0.1567257);\">mosel</span> <span style=\"background-color:rgba(135,206,250,0.0826124);\">:</span> <span style=\"background-color:rgba(135,206,250,0.23637073);\">riesling</span> <span style=\"background-color:rgba(135,206,250,0.11448554);\">:</span> <span style=\"background-color:rgba(135,206,250,0.03664622);\">a</span> <span style=\"background-color:rgba(135,206,250,0.10110975);\">whiff</span> <span style=\"background-color:rgba(135,206,250,0.041763887);\">of</span> <span style=\"background-color:rgba(135,206,250,0.059595875);\">waxy</span> <span style=\"background-color:rgba(135,206,250,0.14080822);\">lanolin</span> <span style=\"background-color:rgba(135,206,250,0.18384248);\">lends</span> <span style=\"background-color:rgba(135,206,250,0.031227687);\">a</span> <span style=\"background-color:rgba(135,206,250,0.11854024);\">sheen</span> <span style=\"background-color:rgba(135,206,250,0.052944373);\">to</span> <span style=\"background-color:rgba(135,206,250,0.17383783);\">this</span> <span style=\"background-color:rgba(135,206,250,0.06932247);\">intensely</span> <span style=\"background-color:rgba(135,206,250,0.13416111);\">fruity</span> <span style=\"background-color:rgba(135,206,250,0.16097994);\">wine</span> <span style=\"background-color:rgba(135,206,250,0.42859125);\">.</span> <span style=\"background-color:rgba(135,206,250,0.25833106);\">it</span> <span style=\"background-color:rgba(135,206,250,0.044126026);\">'</span> <span style=\"background-color:rgba(135,206,250,0.37094352);\">s</span> <span style=\"background-color:rgba(135,206,250,0.56771874);\">rich</span> <span style=\"background-color:rgba(135,206,250,1.0);\">and</span> <span style=\"background-color:rgba(135,206,250,0.7716908);\">concentrated</span> <span style=\"background-color:rgba(135,206,250,0.4742842);\">,</span>"
            ]
          },
          "metadata": {}
        },
        {
          "output_type": "stream",
          "name": "stdout",
          "text": [
            "with:   \t80.64%\n",
            "yet:   \t14.34%\n",
            "but:   \t4.0%\n",
            "boasting:   \t0.51%\n",
            "while:   \t0.09%\n",
            "--------\n",
            "\n"
          ]
        },
        {
          "output_type": "display_data",
          "data": {
            "text/plain": [
              "<IPython.core.display.HTML object>"
            ],
            "text/html": [
              "<span style=\"background-color:rgba(135,206,250,0.15515654);\">wine</span> <span style=\"background-color:rgba(135,206,250,0.36532098);\">review</span> <span style=\"background-color:rgba(135,206,250,0.7489093);\">:</span> <span style=\"background-color:rgba(135,206,250,0.59785056);\">germany</span> <span style=\"background-color:rgba(135,206,250,0.2895175);\">:</span> <span style=\"background-color:rgba(135,206,250,0.30186483);\">mosel</span> <span style=\"background-color:rgba(135,206,250,0.17833112);\">:</span> <span style=\"background-color:rgba(135,206,250,0.3874699);\">riesling</span> <span style=\"background-color:rgba(135,206,250,0.1884103);\">:</span> <span style=\"background-color:rgba(135,206,250,0.067260906);\">a</span> <span style=\"background-color:rgba(135,206,250,0.17848246);\">whiff</span> <span style=\"background-color:rgba(135,206,250,0.05171373);\">of</span> <span style=\"background-color:rgba(135,206,250,0.11837414);\">waxy</span> <span style=\"background-color:rgba(135,206,250,0.19847003);\">lanolin</span> <span style=\"background-color:rgba(135,206,250,0.12647933);\">lends</span> <span style=\"background-color:rgba(135,206,250,0.051956665);\">a</span> <span style=\"background-color:rgba(135,206,250,0.19337866);\">sheen</span> <span style=\"background-color:rgba(135,206,250,0.05927765);\">to</span> <span style=\"background-color:rgba(135,206,250,0.14196657);\">this</span> <span style=\"background-color:rgba(135,206,250,0.13297696);\">intensely</span> <span style=\"background-color:rgba(135,206,250,0.20879936);\">fruity</span> <span style=\"background-color:rgba(135,206,250,0.1697264);\">wine</span> <span style=\"background-color:rgba(135,206,250,0.40058485);\">.</span> <span style=\"background-color:rgba(135,206,250,0.15136583);\">it</span> <span style=\"background-color:rgba(135,206,250,0.054788575);\">'</span> <span style=\"background-color:rgba(135,206,250,0.1851253);\">s</span> <span style=\"background-color:rgba(135,206,250,0.7002512);\">rich</span> <span style=\"background-color:rgba(135,206,250,0.4969071);\">and</span> <span style=\"background-color:rgba(135,206,250,0.836398);\">concentrated</span> <span style=\"background-color:rgba(135,206,250,1.0);\">,</span> <span style=\"background-color:rgba(135,206,250,0.5887649);\">with</span>"
            ]
          },
          "metadata": {}
        },
        {
          "output_type": "stream",
          "name": "stdout",
          "text": [
            "a:   \t75.99%\n",
            "penetrating:   \t2.84%\n",
            "stonefruit:   \t2.38%\n",
            "layers:   \t2.33%\n",
            "intense:   \t2.13%\n",
            "--------\n",
            "\n"
          ]
        },
        {
          "output_type": "display_data",
          "data": {
            "text/plain": [
              "<IPython.core.display.HTML object>"
            ],
            "text/html": [
              "<span style=\"background-color:rgba(135,206,250,0.07528067);\">wine</span> <span style=\"background-color:rgba(135,206,250,0.1367895);\">review</span> <span style=\"background-color:rgba(135,206,250,0.2385314);\">:</span> <span style=\"background-color:rgba(135,206,250,0.2450674);\">germany</span> <span style=\"background-color:rgba(135,206,250,0.09989798);\">:</span> <span style=\"background-color:rgba(135,206,250,0.13051018);\">mosel</span> <span style=\"background-color:rgba(135,206,250,0.078929074);\">:</span> <span style=\"background-color:rgba(135,206,250,0.26621804);\">riesling</span> <span style=\"background-color:rgba(135,206,250,0.08458661);\">:</span> <span style=\"background-color:rgba(135,206,250,0.02020793);\">a</span> <span style=\"background-color:rgba(135,206,250,0.06920097);\">whiff</span> <span style=\"background-color:rgba(135,206,250,0.018249398);\">of</span> <span style=\"background-color:rgba(135,206,250,0.026181515);\">waxy</span> <span style=\"background-color:rgba(135,206,250,0.053401276);\">lanolin</span> <span style=\"background-color:rgba(135,206,250,0.04946931);\">lends</span> <span style=\"background-color:rgba(135,206,250,0.013417896);\">a</span> <span style=\"background-color:rgba(135,206,250,0.050011784);\">sheen</span> <span style=\"background-color:rgba(135,206,250,0.019434402);\">to</span> <span style=\"background-color:rgba(135,206,250,0.041560106);\">this</span> <span style=\"background-color:rgba(135,206,250,0.023521988);\">intensely</span> <span style=\"background-color:rgba(135,206,250,0.07075115);\">fruity</span> <span style=\"background-color:rgba(135,206,250,0.10148344);\">wine</span> <span style=\"background-color:rgba(135,206,250,0.18951084);\">.</span> <span style=\"background-color:rgba(135,206,250,0.08630858);\">it</span> <span style=\"background-color:rgba(135,206,250,0.020835262);\">'</span> <span style=\"background-color:rgba(135,206,250,0.15381032);\">s</span> <span style=\"background-color:rgba(135,206,250,0.06675869);\">rich</span> <span style=\"background-color:rgba(135,206,250,0.15776041);\">and</span> <span style=\"background-color:rgba(135,206,250,0.114558734);\">concentrated</span> <span style=\"background-color:rgba(135,206,250,0.40851516);\">,</span> <span style=\"background-color:rgba(135,206,250,1.0);\">with</span> <span style=\"background-color:rgba(135,206,250,0.25799266);\">penetrating</span>"
            ]
          },
          "metadata": {}
        },
        {
          "output_type": "stream",
          "name": "stdout",
          "text": [
            "lime:   \t46.13%\n",
            "flavors:   \t7.67%\n",
            "tangerine:   \t6.89%\n",
            "peach:   \t6.81%\n",
            "citrus:   \t6.61%\n",
            "--------\n",
            "\n"
          ]
        },
        {
          "output_type": "display_data",
          "data": {
            "text/plain": [
              "<IPython.core.display.HTML object>"
            ],
            "text/html": [
              "<span style=\"background-color:rgba(135,206,250,0.11321993);\">wine</span> <span style=\"background-color:rgba(135,206,250,0.22714339);\">review</span> <span style=\"background-color:rgba(135,206,250,0.33088735);\">:</span> <span style=\"background-color:rgba(135,206,250,0.40608048);\">germany</span> <span style=\"background-color:rgba(135,206,250,0.16115856);\">:</span> <span style=\"background-color:rgba(135,206,250,0.08506846);\">mosel</span> <span style=\"background-color:rgba(135,206,250,0.12896186);\">:</span> <span style=\"background-color:rgba(135,206,250,0.07428491);\">riesling</span> <span style=\"background-color:rgba(135,206,250,0.105430454);\">:</span> <span style=\"background-color:rgba(135,206,250,0.052198682);\">a</span> <span style=\"background-color:rgba(135,206,250,0.091324314);\">whiff</span> <span style=\"background-color:rgba(135,206,250,0.08564918);\">of</span> <span style=\"background-color:rgba(135,206,250,0.05375395);\">waxy</span> <span style=\"background-color:rgba(135,206,250,0.056885134);\">lanolin</span> <span style=\"background-color:rgba(135,206,250,0.09483018);\">lends</span> <span style=\"background-color:rgba(135,206,250,0.052990854);\">a</span> <span style=\"background-color:rgba(135,206,250,0.12559032);\">sheen</span> <span style=\"background-color:rgba(135,206,250,0.06033526);\">to</span> <span style=\"background-color:rgba(135,206,250,0.091699265);\">this</span> <span style=\"background-color:rgba(135,206,250,0.0483409);\">intensely</span> <span style=\"background-color:rgba(135,206,250,0.11498189);\">fruity</span> <span style=\"background-color:rgba(135,206,250,0.09543973);\">wine</span> <span style=\"background-color:rgba(135,206,250,0.26136976);\">.</span> <span style=\"background-color:rgba(135,206,250,0.12560348);\">it</span> <span style=\"background-color:rgba(135,206,250,0.046155814);\">'</span> <span style=\"background-color:rgba(135,206,250,0.16863571);\">s</span> <span style=\"background-color:rgba(135,206,250,0.21480666);\">rich</span> <span style=\"background-color:rgba(135,206,250,0.24233155);\">and</span> <span style=\"background-color:rgba(135,206,250,0.3355923);\">concentrated</span> <span style=\"background-color:rgba(135,206,250,0.4488262);\">,</span> <span style=\"background-color:rgba(135,206,250,1.0);\">with</span> <span style=\"background-color:rgba(135,206,250,0.95444804);\">penetrating</span> <span style=\"background-color:rgba(135,206,250,0.36399662);\">lime</span>"
            ]
          },
          "metadata": {}
        },
        {
          "output_type": "stream",
          "name": "stdout",
          "text": [
            "and:   \t50.32%\n",
            "-:   \t24.48%\n",
            ",:   \t15.32%\n",
            "flavors:   \t6.23%\n",
            "acidity:   \t3.45%\n",
            "--------\n",
            "\n"
          ]
        },
        {
          "output_type": "display_data",
          "data": {
            "text/plain": [
              "<IPython.core.display.HTML object>"
            ],
            "text/html": [
              "<span style=\"background-color:rgba(135,206,250,0.06544516);\">wine</span> <span style=\"background-color:rgba(135,206,250,0.12229074);\">review</span> <span style=\"background-color:rgba(135,206,250,0.16092256);\">:</span> <span style=\"background-color:rgba(135,206,250,0.2626654);\">germany</span> <span style=\"background-color:rgba(135,206,250,0.084748365);\">:</span> <span style=\"background-color:rgba(135,206,250,0.15603203);\">mosel</span> <span style=\"background-color:rgba(135,206,250,0.058809686);\">:</span> <span style=\"background-color:rgba(135,206,250,0.19904155);\">riesling</span> <span style=\"background-color:rgba(135,206,250,0.07520707);\">:</span> <span style=\"background-color:rgba(135,206,250,0.02532716);\">a</span> <span style=\"background-color:rgba(135,206,250,0.06924472);\">whiff</span> <span style=\"background-color:rgba(135,206,250,0.020655392);\">of</span> <span style=\"background-color:rgba(135,206,250,0.051556688);\">waxy</span> <span style=\"background-color:rgba(135,206,250,0.08768774);\">lanolin</span> <span style=\"background-color:rgba(135,206,250,0.061911017);\">lends</span> <span style=\"background-color:rgba(135,206,250,0.018438725);\">a</span> <span style=\"background-color:rgba(135,206,250,0.07468509);\">sheen</span> <span style=\"background-color:rgba(135,206,250,0.025494441);\">to</span> <span style=\"background-color:rgba(135,206,250,0.04641479);\">this</span> <span style=\"background-color:rgba(135,206,250,0.048694883);\">intensely</span> <span style=\"background-color:rgba(135,206,250,0.08188638);\">fruity</span> <span style=\"background-color:rgba(135,206,250,0.05981991);\">wine</span> <span style=\"background-color:rgba(135,206,250,0.10669026);\">.</span> <span style=\"background-color:rgba(135,206,250,0.054230463);\">it</span> <span style=\"background-color:rgba(135,206,250,0.017429352);\">'</span> <span style=\"background-color:rgba(135,206,250,0.06844937);\">s</span> <span style=\"background-color:rgba(135,206,250,0.13221343);\">rich</span> <span style=\"background-color:rgba(135,206,250,0.05384726);\">and</span> <span style=\"background-color:rgba(135,206,250,0.20254701);\">concentrated</span> <span style=\"background-color:rgba(135,206,250,0.3474273);\">,</span> <span style=\"background-color:rgba(135,206,250,0.3669176);\">with</span> <span style=\"background-color:rgba(135,206,250,0.5280615);\">penetrating</span> <span style=\"background-color:rgba(135,206,250,1.0);\">lime</span> <span style=\"background-color:rgba(135,206,250,0.3006545);\">and</span>"
            ]
          },
          "metadata": {}
        },
        {
          "output_type": "stream",
          "name": "stdout",
          "text": [
            "tangerine:   \t41.07%\n",
            "lemon:   \t19.87%\n",
            "grapefruit:   \t11.94%\n",
            "peach:   \t7.45%\n",
            "lime:   \t3.92%\n",
            "--------\n",
            "\n"
          ]
        },
        {
          "output_type": "display_data",
          "data": {
            "text/plain": [
              "<IPython.core.display.HTML object>"
            ],
            "text/html": [
              "<span style=\"background-color:rgba(135,206,250,0.09457563);\">wine</span> <span style=\"background-color:rgba(135,206,250,0.19572026);\">review</span> <span style=\"background-color:rgba(135,206,250,0.33635372);\">:</span> <span style=\"background-color:rgba(135,206,250,0.41487154);\">germany</span> <span style=\"background-color:rgba(135,206,250,0.13863848);\">:</span> <span style=\"background-color:rgba(135,206,250,0.06794463);\">mosel</span> <span style=\"background-color:rgba(135,206,250,0.10939798);\">:</span> <span style=\"background-color:rgba(135,206,250,0.06512508);\">riesling</span> <span style=\"background-color:rgba(135,206,250,0.086522244);\">:</span> <span style=\"background-color:rgba(135,206,250,0.04509624);\">a</span> <span style=\"background-color:rgba(135,206,250,0.07471641);\">whiff</span> <span style=\"background-color:rgba(135,206,250,0.06709592);\">of</span> <span style=\"background-color:rgba(135,206,250,0.046782356);\">waxy</span> <span style=\"background-color:rgba(135,206,250,0.05521676);\">lanolin</span> <span style=\"background-color:rgba(135,206,250,0.079427354);\">lends</span> <span style=\"background-color:rgba(135,206,250,0.047471847);\">a</span> <span style=\"background-color:rgba(135,206,250,0.0986068);\">sheen</span> <span style=\"background-color:rgba(135,206,250,0.044036087);\">to</span> <span style=\"background-color:rgba(135,206,250,0.074384324);\">this</span> <span style=\"background-color:rgba(135,206,250,0.04407991);\">intensely</span> <span style=\"background-color:rgba(135,206,250,0.09810119);\">fruity</span> <span style=\"background-color:rgba(135,206,250,0.090004556);\">wine</span> <span style=\"background-color:rgba(135,206,250,0.24088402);\">.</span> <span style=\"background-color:rgba(135,206,250,0.11181005);\">it</span> <span style=\"background-color:rgba(135,206,250,0.03807625);\">'</span> <span style=\"background-color:rgba(135,206,250,0.13992901);\">s</span> <span style=\"background-color:rgba(135,206,250,0.13295169);\">rich</span> <span style=\"background-color:rgba(135,206,250,0.15202668);\">and</span> <span style=\"background-color:rgba(135,206,250,0.2126333);\">concentrated</span> <span style=\"background-color:rgba(135,206,250,0.24948965);\">,</span> <span style=\"background-color:rgba(135,206,250,0.6019393);\">with</span> <span style=\"background-color:rgba(135,206,250,0.52668995);\">penetrating</span> <span style=\"background-color:rgba(135,206,250,0.28383014);\">lime</span> <span style=\"background-color:rgba(135,206,250,1.0);\">and</span> <span style=\"background-color:rgba(135,206,250,0.36523205);\">peach</span>"
            ]
          },
          "metadata": {}
        },
        {
          "output_type": "stream",
          "name": "stdout",
          "text": [
            "flavors:   \t99.74%\n",
            "notes:   \t0.21%\n",
            "aromas:   \t0.02%\n",
            "nectar:   \t0.01%\n",
            ",:   \t0.01%\n",
            "--------\n",
            "\n"
          ]
        },
        {
          "output_type": "display_data",
          "data": {
            "text/plain": [
              "<IPython.core.display.HTML object>"
            ],
            "text/html": [
              "<span style=\"background-color:rgba(135,206,250,0.11385684);\">wine</span> <span style=\"background-color:rgba(135,206,250,0.33048275);\">review</span> <span style=\"background-color:rgba(135,206,250,0.4692352);\">:</span> <span style=\"background-color:rgba(135,206,250,0.36995026);\">germany</span> <span style=\"background-color:rgba(135,206,250,0.17642045);\">:</span> <span style=\"background-color:rgba(135,206,250,0.10084753);\">mosel</span> <span style=\"background-color:rgba(135,206,250,0.13610852);\">:</span> <span style=\"background-color:rgba(135,206,250,0.09559957);\">riesling</span> <span style=\"background-color:rgba(135,206,250,0.1184105);\">:</span> <span style=\"background-color:rgba(135,206,250,0.037899364);\">a</span> <span style=\"background-color:rgba(135,206,250,0.10171533);\">whiff</span> <span style=\"background-color:rgba(135,206,250,0.041305974);\">of</span> <span style=\"background-color:rgba(135,206,250,0.038293026);\">waxy</span> <span style=\"background-color:rgba(135,206,250,0.08310589);\">lanolin</span> <span style=\"background-color:rgba(135,206,250,0.1610567);\">lends</span> <span style=\"background-color:rgba(135,206,250,0.03528305);\">a</span> <span style=\"background-color:rgba(135,206,250,0.09877817);\">sheen</span> <span style=\"background-color:rgba(135,206,250,0.041785207);\">to</span> <span style=\"background-color:rgba(135,206,250,0.12632737);\">this</span> <span style=\"background-color:rgba(135,206,250,0.07830576);\">intensely</span> <span style=\"background-color:rgba(135,206,250,0.08087403);\">fruity</span> <span style=\"background-color:rgba(135,206,250,0.11925495);\">wine</span> <span style=\"background-color:rgba(135,206,250,0.41378);\">.</span> <span style=\"background-color:rgba(135,206,250,0.1734134);\">it</span> <span style=\"background-color:rgba(135,206,250,0.066904984);\">'</span> <span style=\"background-color:rgba(135,206,250,0.14384612);\">s</span> <span style=\"background-color:rgba(135,206,250,0.13965797);\">rich</span> <span style=\"background-color:rgba(135,206,250,0.17762226);\">and</span> <span style=\"background-color:rgba(135,206,250,0.22886288);\">concentrated</span> <span style=\"background-color:rgba(135,206,250,0.36088046);\">,</span> <span style=\"background-color:rgba(135,206,250,1.0);\">with</span> <span style=\"background-color:rgba(135,206,250,0.48764685);\">penetrating</span> <span style=\"background-color:rgba(135,206,250,0.5830929);\">lime</span> <span style=\"background-color:rgba(135,206,250,0.62732005);\">and</span> <span style=\"background-color:rgba(135,206,250,0.8912612);\">peach</span> <span style=\"background-color:rgba(135,206,250,0.43782917);\">flavors</span>"
            ]
          },
          "metadata": {}
        },
        {
          "output_type": "stream",
          "name": "stdout",
          "text": [
            ",:   \t68.78%\n",
            "that:   \t14.74%\n",
            ".:   \t13.77%\n",
            "and:   \t1.03%\n",
            "accented:   \t0.75%\n",
            "--------\n",
            "\n"
          ]
        },
        {
          "output_type": "display_data",
          "data": {
            "text/plain": [
              "<IPython.core.display.HTML object>"
            ],
            "text/html": [
              "<span style=\"background-color:rgba(135,206,250,0.06963971);\">wine</span> <span style=\"background-color:rgba(135,206,250,0.171073);\">review</span> <span style=\"background-color:rgba(135,206,250,0.29323974);\">:</span> <span style=\"background-color:rgba(135,206,250,0.34062427);\">germany</span> <span style=\"background-color:rgba(135,206,250,0.1067629);\">:</span> <span style=\"background-color:rgba(135,206,250,0.16161728);\">mosel</span> <span style=\"background-color:rgba(135,206,250,0.07663281);\">:</span> <span style=\"background-color:rgba(135,206,250,0.22956167);\">riesling</span> <span style=\"background-color:rgba(135,206,250,0.09767518);\">:</span> <span style=\"background-color:rgba(135,206,250,0.027898943);\">a</span> <span style=\"background-color:rgba(135,206,250,0.07552423);\">whiff</span> <span style=\"background-color:rgba(135,206,250,0.029980212);\">of</span> <span style=\"background-color:rgba(135,206,250,0.04474478);\">waxy</span> <span style=\"background-color:rgba(135,206,250,0.10179259);\">lanolin</span> <span style=\"background-color:rgba(135,206,250,0.11521696);\">lends</span> <span style=\"background-color:rgba(135,206,250,0.02103649);\">a</span> <span style=\"background-color:rgba(135,206,250,0.07914799);\">sheen</span> <span style=\"background-color:rgba(135,206,250,0.03363614);\">to</span> <span style=\"background-color:rgba(135,206,250,0.11117133);\">this</span> <span style=\"background-color:rgba(135,206,250,0.04897515);\">intensely</span> <span style=\"background-color:rgba(135,206,250,0.08338629);\">fruity</span> <span style=\"background-color:rgba(135,206,250,0.074682154);\">wine</span> <span style=\"background-color:rgba(135,206,250,0.19104266);\">.</span> <span style=\"background-color:rgba(135,206,250,0.14937581);\">it</span> <span style=\"background-color:rgba(135,206,250,0.019126477);\">'</span> <span style=\"background-color:rgba(135,206,250,0.13173328);\">s</span> <span style=\"background-color:rgba(135,206,250,0.1375401);\">rich</span> <span style=\"background-color:rgba(135,206,250,0.12637372);\">and</span> <span style=\"background-color:rgba(135,206,250,0.12969068);\">concentrated</span> <span style=\"background-color:rgba(135,206,250,0.08094198);\">,</span> <span style=\"background-color:rgba(135,206,250,0.30111307);\">with</span> <span style=\"background-color:rgba(135,206,250,0.27213988);\">penetrating</span> <span style=\"background-color:rgba(135,206,250,0.53851855);\">lime</span> <span style=\"background-color:rgba(135,206,250,0.7678874);\">and</span> <span style=\"background-color:rgba(135,206,250,0.80650055);\">peach</span> <span style=\"background-color:rgba(135,206,250,1.0);\">flavors</span> <span style=\"background-color:rgba(135,206,250,0.48366705);\">,</span>"
            ]
          },
          "metadata": {}
        },
        {
          "output_type": "stream",
          "name": "stdout",
          "text": [
            "but:   \t32.62%\n",
            "with:   \t23.55%\n",
            "yet:   \t19.16%\n",
            "accented:   \t6.48%\n",
            "along:   \t5.7%\n",
            "--------\n",
            "\n"
          ]
        },
        {
          "output_type": "display_data",
          "data": {
            "text/plain": [
              "<IPython.core.display.HTML object>"
            ],
            "text/html": [
              "<span style=\"background-color:rgba(135,206,250,0.122046895);\">wine</span> <span style=\"background-color:rgba(135,206,250,0.21011989);\">review</span> <span style=\"background-color:rgba(135,206,250,0.62584066);\">:</span> <span style=\"background-color:rgba(135,206,250,0.54488033);\">germany</span> <span style=\"background-color:rgba(135,206,250,0.23719431);\">:</span> <span style=\"background-color:rgba(135,206,250,0.15451615);\">mosel</span> <span style=\"background-color:rgba(135,206,250,0.13063964);\">:</span> <span style=\"background-color:rgba(135,206,250,0.21984696);\">riesling</span> <span style=\"background-color:rgba(135,206,250,0.13040145);\">:</span> <span style=\"background-color:rgba(135,206,250,0.07059213);\">a</span> <span style=\"background-color:rgba(135,206,250,0.114391536);\">whiff</span> <span style=\"background-color:rgba(135,206,250,0.049917843);\">of</span> <span style=\"background-color:rgba(135,206,250,0.049461253);\">waxy</span> <span style=\"background-color:rgba(135,206,250,0.10780614);\">lanolin</span> <span style=\"background-color:rgba(135,206,250,0.17686252);\">lends</span> <span style=\"background-color:rgba(135,206,250,0.055083312);\">a</span> <span style=\"background-color:rgba(135,206,250,0.11217939);\">sheen</span> <span style=\"background-color:rgba(135,206,250,0.040026672);\">to</span> <span style=\"background-color:rgba(135,206,250,0.09806766);\">this</span> <span style=\"background-color:rgba(135,206,250,0.07890332);\">intensely</span> <span style=\"background-color:rgba(135,206,250,0.073709644);\">fruity</span> <span style=\"background-color:rgba(135,206,250,0.09735401);\">wine</span> <span style=\"background-color:rgba(135,206,250,0.1683966);\">.</span> <span style=\"background-color:rgba(135,206,250,0.08835566);\">it</span> <span style=\"background-color:rgba(135,206,250,0.027954502);\">'</span> <span style=\"background-color:rgba(135,206,250,0.08397121);\">s</span> <span style=\"background-color:rgba(135,206,250,0.08804324);\">rich</span> <span style=\"background-color:rgba(135,206,250,0.112164035);\">and</span> <span style=\"background-color:rgba(135,206,250,0.14530373);\">concentrated</span> <span style=\"background-color:rgba(135,206,250,0.17780054);\">,</span> <span style=\"background-color:rgba(135,206,250,0.30516);\">with</span> <span style=\"background-color:rgba(135,206,250,0.31844467);\">penetrating</span> <span style=\"background-color:rgba(135,206,250,0.33418173);\">lime</span> <span style=\"background-color:rgba(135,206,250,0.35004482);\">and</span> <span style=\"background-color:rgba(135,206,250,0.3887565);\">peach</span> <span style=\"background-color:rgba(135,206,250,0.83620733);\">flavors</span> <span style=\"background-color:rgba(135,206,250,1.0);\">,</span> <span style=\"background-color:rgba(135,206,250,0.42891708);\">but</span>"
            ]
          },
          "metadata": {}
        },
        {
          "output_type": "stream",
          "name": "stdout",
          "text": [
            "it:   \t25.78%\n",
            "the:   \t21.78%\n",
            "also:   \t20.45%\n",
            "a:   \t13.35%\n",
            "balanced:   \t3.53%\n",
            "--------\n",
            "\n"
          ]
        },
        {
          "output_type": "display_data",
          "data": {
            "text/plain": [
              "<IPython.core.display.HTML object>"
            ],
            "text/html": [
              "<span style=\"background-color:rgba(135,206,250,0.08325517);\">wine</span> <span style=\"background-color:rgba(135,206,250,0.13216454);\">review</span> <span style=\"background-color:rgba(135,206,250,0.22336878);\">:</span> <span style=\"background-color:rgba(135,206,250,0.27130356);\">germany</span> <span style=\"background-color:rgba(135,206,250,0.091848835);\">:</span> <span style=\"background-color:rgba(135,206,250,0.17567627);\">mosel</span> <span style=\"background-color:rgba(135,206,250,0.06572963);\">:</span> <span style=\"background-color:rgba(135,206,250,0.2454547);\">riesling</span> <span style=\"background-color:rgba(135,206,250,0.07599858);\">:</span> <span style=\"background-color:rgba(135,206,250,0.031556845);\">a</span> <span style=\"background-color:rgba(135,206,250,0.115071446);\">whiff</span> <span style=\"background-color:rgba(135,206,250,0.023827717);\">of</span> <span style=\"background-color:rgba(135,206,250,0.052216277);\">waxy</span> <span style=\"background-color:rgba(135,206,250,0.10307653);\">lanolin</span> <span style=\"background-color:rgba(135,206,250,0.05738179);\">lends</span> <span style=\"background-color:rgba(135,206,250,0.023092547);\">a</span> <span style=\"background-color:rgba(135,206,250,0.11509499);\">sheen</span> <span style=\"background-color:rgba(135,206,250,0.028003667);\">to</span> <span style=\"background-color:rgba(135,206,250,0.04755678);\">this</span> <span style=\"background-color:rgba(135,206,250,0.045686677);\">intensely</span> <span style=\"background-color:rgba(135,206,250,0.09367219);\">fruity</span> <span style=\"background-color:rgba(135,206,250,0.08917396);\">wine</span> <span style=\"background-color:rgba(135,206,250,0.100878894);\">.</span> <span style=\"background-color:rgba(135,206,250,0.040932707);\">it</span> <span style=\"background-color:rgba(135,206,250,0.016127246);\">'</span> <span style=\"background-color:rgba(135,206,250,0.0391057);\">s</span> <span style=\"background-color:rgba(135,206,250,0.08287422);\">rich</span> <span style=\"background-color:rgba(135,206,250,0.048194144);\">and</span> <span style=\"background-color:rgba(135,206,250,0.10893432);\">concentrated</span> <span style=\"background-color:rgba(135,206,250,0.10075001);\">,</span> <span style=\"background-color:rgba(135,206,250,0.10160721);\">with</span> <span style=\"background-color:rgba(135,206,250,0.18964353);\">penetrating</span> <span style=\"background-color:rgba(135,206,250,0.1842599);\">lime</span> <span style=\"background-color:rgba(135,206,250,0.17606908);\">and</span> <span style=\"background-color:rgba(135,206,250,0.2982582);\">peach</span> <span style=\"background-color:rgba(135,206,250,0.6522728);\">flavors</span> <span style=\"background-color:rgba(135,206,250,1.0);\">,</span> <span style=\"background-color:rgba(135,206,250,0.88566583);\">but</span> <span style=\"background-color:rgba(135,206,250,0.30976737);\">the</span>"
            ]
          },
          "metadata": {}
        },
        {
          "output_type": "stream",
          "name": "stdout",
          "text": [
            "palate:   \t70.26%\n",
            "finish:   \t23.13%\n",
            "wine:   \t4.54%\n",
            "acidity:   \t1.06%\n",
            "mouthfeel:   \t0.29%\n",
            "--------\n",
            "\n"
          ]
        },
        {
          "output_type": "display_data",
          "data": {
            "text/plain": [
              "<IPython.core.display.HTML object>"
            ],
            "text/html": [
              "<span style=\"background-color:rgba(135,206,250,0.095022865);\">wine</span> <span style=\"background-color:rgba(135,206,250,0.24783912);\">review</span> <span style=\"background-color:rgba(135,206,250,0.562078);\">:</span> <span style=\"background-color:rgba(135,206,250,0.46896335);\">germany</span> <span style=\"background-color:rgba(135,206,250,0.18961708);\">:</span> <span style=\"background-color:rgba(135,206,250,0.113828614);\">mosel</span> <span style=\"background-color:rgba(135,206,250,0.13029712);\">:</span> <span style=\"background-color:rgba(135,206,250,0.10623208);\">riesling</span> <span style=\"background-color:rgba(135,206,250,0.11943176);\">:</span> <span style=\"background-color:rgba(135,206,250,0.07238005);\">a</span> <span style=\"background-color:rgba(135,206,250,0.060181875);\">whiff</span> <span style=\"background-color:rgba(135,206,250,0.03805564);\">of</span> <span style=\"background-color:rgba(135,206,250,0.033053096);\">waxy</span> <span style=\"background-color:rgba(135,206,250,0.048120208);\">lanolin</span> <span style=\"background-color:rgba(135,206,250,0.09504871);\">lends</span> <span style=\"background-color:rgba(135,206,250,0.05527905);\">a</span> <span style=\"background-color:rgba(135,206,250,0.068687655);\">sheen</span> <span style=\"background-color:rgba(135,206,250,0.031106867);\">to</span> <span style=\"background-color:rgba(135,206,250,0.07874189);\">this</span> <span style=\"background-color:rgba(135,206,250,0.06735576);\">intensely</span> <span style=\"background-color:rgba(135,206,250,0.056016665);\">fruity</span> <span style=\"background-color:rgba(135,206,250,0.058057643);\">wine</span> <span style=\"background-color:rgba(135,206,250,0.23575103);\">.</span> <span style=\"background-color:rgba(135,206,250,0.14210193);\">it</span> <span style=\"background-color:rgba(135,206,250,0.040302902);\">'</span> <span style=\"background-color:rgba(135,206,250,0.13230957);\">s</span> <span style=\"background-color:rgba(135,206,250,0.09026561);\">rich</span> <span style=\"background-color:rgba(135,206,250,0.11697858);\">and</span> <span style=\"background-color:rgba(135,206,250,0.11423193);\">concentrated</span> <span style=\"background-color:rgba(135,206,250,0.14538503);\">,</span> <span style=\"background-color:rgba(135,206,250,0.392984);\">with</span> <span style=\"background-color:rgba(135,206,250,0.26909557);\">penetrating</span> <span style=\"background-color:rgba(135,206,250,0.23323587);\">lime</span> <span style=\"background-color:rgba(135,206,250,0.3584113);\">and</span> <span style=\"background-color:rgba(135,206,250,0.35418227);\">peach</span> <span style=\"background-color:rgba(135,206,250,0.79751664);\">flavors</span> <span style=\"background-color:rgba(135,206,250,0.6748159);\">,</span> <span style=\"background-color:rgba(135,206,250,1.0);\">but</span> <span style=\"background-color:rgba(135,206,250,0.90267956);\">the</span> <span style=\"background-color:rgba(135,206,250,0.5345836);\">palate</span>"
            ]
          },
          "metadata": {}
        },
        {
          "output_type": "stream",
          "name": "stdout",
          "text": [
            "is:   \t99.58%\n",
            "boasts:   \t0.09%\n",
            "offers:   \t0.05%\n",
            "also:   \t0.04%\n",
            "maintains:   \t0.04%\n",
            "--------\n",
            "\n"
          ]
        },
        {
          "output_type": "display_data",
          "data": {
            "text/plain": [
              "<IPython.core.display.HTML object>"
            ],
            "text/html": [
              "<span style=\"background-color:rgba(135,206,250,0.061138056);\">wine</span> <span style=\"background-color:rgba(135,206,250,0.12732759);\">review</span> <span style=\"background-color:rgba(135,206,250,0.41773486);\">:</span> <span style=\"background-color:rgba(135,206,250,0.3358357);\">germany</span> <span style=\"background-color:rgba(135,206,250,0.100651);\">:</span> <span style=\"background-color:rgba(135,206,250,0.1977105);\">mosel</span> <span style=\"background-color:rgba(135,206,250,0.07222515);\">:</span> <span style=\"background-color:rgba(135,206,250,0.17926225);\">riesling</span> <span style=\"background-color:rgba(135,206,250,0.099448286);\">:</span> <span style=\"background-color:rgba(135,206,250,0.029308407);\">a</span> <span style=\"background-color:rgba(135,206,250,0.07567459);\">whiff</span> <span style=\"background-color:rgba(135,206,250,0.021186357);\">of</span> <span style=\"background-color:rgba(135,206,250,0.07172662);\">waxy</span> <span style=\"background-color:rgba(135,206,250,0.073285975);\">lanolin</span> <span style=\"background-color:rgba(135,206,250,0.04579614);\">lends</span> <span style=\"background-color:rgba(135,206,250,0.020656887);\">a</span> <span style=\"background-color:rgba(135,206,250,0.07477974);\">sheen</span> <span style=\"background-color:rgba(135,206,250,0.02398424);\">to</span> <span style=\"background-color:rgba(135,206,250,0.053183846);\">this</span> <span style=\"background-color:rgba(135,206,250,0.073755175);\">intensely</span> <span style=\"background-color:rgba(135,206,250,0.09045809);\">fruity</span> <span style=\"background-color:rgba(135,206,250,0.05329259);\">wine</span> <span style=\"background-color:rgba(135,206,250,0.09237371);\">.</span> <span style=\"background-color:rgba(135,206,250,0.02961738);\">it</span> <span style=\"background-color:rgba(135,206,250,0.018263748);\">'</span> <span style=\"background-color:rgba(135,206,250,0.04010413);\">s</span> <span style=\"background-color:rgba(135,206,250,0.12161004);\">rich</span> <span style=\"background-color:rgba(135,206,250,0.056342572);\">and</span> <span style=\"background-color:rgba(135,206,250,0.13202259);\">concentrated</span> <span style=\"background-color:rgba(135,206,250,0.053846963);\">,</span> <span style=\"background-color:rgba(135,206,250,0.0808937);\">with</span> <span style=\"background-color:rgba(135,206,250,0.1659892);\">penetrating</span> <span style=\"background-color:rgba(135,206,250,0.114057966);\">lime</span> <span style=\"background-color:rgba(135,206,250,0.12488459);\">and</span> <span style=\"background-color:rgba(135,206,250,0.13670903);\">peach</span> <span style=\"background-color:rgba(135,206,250,0.23100373);\">flavors</span> <span style=\"background-color:rgba(135,206,250,0.27519);\">,</span> <span style=\"background-color:rgba(135,206,250,0.7129495);\">but</span> <span style=\"background-color:rgba(135,206,250,0.5461183);\">the</span> <span style=\"background-color:rgba(135,206,250,1.0);\">palate</span> <span style=\"background-color:rgba(135,206,250,0.3497326);\">is</span>"
            ]
          },
          "metadata": {}
        },
        {
          "output_type": "stream",
          "name": "stdout",
          "text": [
            "a:   \t9.99%\n",
            "marked:   \t9.17%\n",
            "long:   \t9.03%\n",
            "penetrating:   \t6.64%\n",
            "balanced:   \t5.39%\n",
            "--------\n",
            "\n"
          ]
        },
        {
          "output_type": "display_data",
          "data": {
            "text/plain": [
              "<IPython.core.display.HTML object>"
            ],
            "text/html": [
              "<span style=\"background-color:rgba(135,206,250,0.045484092);\">wine</span> <span style=\"background-color:rgba(135,206,250,0.07092333);\">review</span> <span style=\"background-color:rgba(135,206,250,0.13044192);\">:</span> <span style=\"background-color:rgba(135,206,250,0.23505534);\">germany</span> <span style=\"background-color:rgba(135,206,250,0.059639025);\">:</span> <span style=\"background-color:rgba(135,206,250,0.11152915);\">mosel</span> <span style=\"background-color:rgba(135,206,250,0.05547894);\">:</span> <span style=\"background-color:rgba(135,206,250,0.23150623);\">riesling</span> <span style=\"background-color:rgba(135,206,250,0.06460272);\">:</span> <span style=\"background-color:rgba(135,206,250,0.017860321);\">a</span> <span style=\"background-color:rgba(135,206,250,0.045308992);\">whiff</span> <span style=\"background-color:rgba(135,206,250,0.01434435);\">of</span> <span style=\"background-color:rgba(135,206,250,0.024005398);\">waxy</span> <span style=\"background-color:rgba(135,206,250,0.04228329);\">lanolin</span> <span style=\"background-color:rgba(135,206,250,0.033649545);\">lends</span> <span style=\"background-color:rgba(135,206,250,0.010447359);\">a</span> <span style=\"background-color:rgba(135,206,250,0.035164002);\">sheen</span> <span style=\"background-color:rgba(135,206,250,0.013970577);\">to</span> <span style=\"background-color:rgba(135,206,250,0.027004601);\">this</span> <span style=\"background-color:rgba(135,206,250,0.020494731);\">intensely</span> <span style=\"background-color:rgba(135,206,250,0.046803355);\">fruity</span> <span style=\"background-color:rgba(135,206,250,0.05014103);\">wine</span> <span style=\"background-color:rgba(135,206,250,0.09059147);\">.</span> <span style=\"background-color:rgba(135,206,250,0.03379353);\">it</span> <span style=\"background-color:rgba(135,206,250,0.007779397);\">'</span> <span style=\"background-color:rgba(135,206,250,0.04600207);\">s</span> <span style=\"background-color:rgba(135,206,250,0.023044782);\">rich</span> <span style=\"background-color:rgba(135,206,250,0.031439003);\">and</span> <span style=\"background-color:rgba(135,206,250,0.034504797);\">concentrated</span> <span style=\"background-color:rgba(135,206,250,0.035771236);\">,</span> <span style=\"background-color:rgba(135,206,250,0.05308385);\">with</span> <span style=\"background-color:rgba(135,206,250,0.04171098);\">penetrating</span> <span style=\"background-color:rgba(135,206,250,0.094371974);\">lime</span> <span style=\"background-color:rgba(135,206,250,0.07299723);\">and</span> <span style=\"background-color:rgba(135,206,250,0.13470514);\">peach</span> <span style=\"background-color:rgba(135,206,250,0.2875538);\">flavors</span> <span style=\"background-color:rgba(135,206,250,0.11880547);\">,</span> <span style=\"background-color:rgba(135,206,250,0.19657145);\">but</span> <span style=\"background-color:rgba(135,206,250,0.3141625);\">the</span> <span style=\"background-color:rgba(135,206,250,0.6018653);\">palate</span> <span style=\"background-color:rgba(135,206,250,1.0);\">is</span> <span style=\"background-color:rgba(135,206,250,0.20761254);\">concentrated</span>"
            ]
          },
          "metadata": {}
        },
        {
          "output_type": "stream",
          "name": "stdout",
          "text": [
            "and:   \t51.29%\n",
            "with:   \t35.56%\n",
            ",:   \t11.38%\n",
            "yet:   \t1.35%\n",
            "without:   \t0.16%\n",
            "--------\n",
            "\n"
          ]
        },
        {
          "output_type": "display_data",
          "data": {
            "text/plain": [
              "<IPython.core.display.HTML object>"
            ],
            "text/html": [
              "<span style=\"background-color:rgba(135,206,250,0.03765987);\">wine</span> <span style=\"background-color:rgba(135,206,250,0.07437855);\">review</span> <span style=\"background-color:rgba(135,206,250,0.09302999);\">:</span> <span style=\"background-color:rgba(135,206,250,0.22519411);\">germany</span> <span style=\"background-color:rgba(135,206,250,0.060657185);\">:</span> <span style=\"background-color:rgba(135,206,250,0.124531716);\">mosel</span> <span style=\"background-color:rgba(135,206,250,0.041545063);\">:</span> <span style=\"background-color:rgba(135,206,250,0.15909305);\">riesling</span> <span style=\"background-color:rgba(135,206,250,0.05076337);\">:</span> <span style=\"background-color:rgba(135,206,250,0.015364947);\">a</span> <span style=\"background-color:rgba(135,206,250,0.04626518);\">whiff</span> <span style=\"background-color:rgba(135,206,250,0.011405761);\">of</span> <span style=\"background-color:rgba(135,206,250,0.033686917);\">waxy</span> <span style=\"background-color:rgba(135,206,250,0.05292291);\">lanolin</span> <span style=\"background-color:rgba(135,206,250,0.036760155);\">lends</span> <span style=\"background-color:rgba(135,206,250,0.010197257);\">a</span> <span style=\"background-color:rgba(135,206,250,0.045574497);\">sheen</span> <span style=\"background-color:rgba(135,206,250,0.01293154);\">to</span> <span style=\"background-color:rgba(135,206,250,0.024409989);\">this</span> <span style=\"background-color:rgba(135,206,250,0.032055236);\">intensely</span> <span style=\"background-color:rgba(135,206,250,0.047187146);\">fruity</span> <span style=\"background-color:rgba(135,206,250,0.02886103);\">wine</span> <span style=\"background-color:rgba(135,206,250,0.052721314);\">.</span> <span style=\"background-color:rgba(135,206,250,0.02671055);\">it</span> <span style=\"background-color:rgba(135,206,250,0.008572261);\">'</span> <span style=\"background-color:rgba(135,206,250,0.028550448);\">s</span> <span style=\"background-color:rgba(135,206,250,0.04898656);\">rich</span> <span style=\"background-color:rgba(135,206,250,0.024154512);\">and</span> <span style=\"background-color:rgba(135,206,250,0.054540794);\">concentrated</span> <span style=\"background-color:rgba(135,206,250,0.030428784);\">,</span> <span style=\"background-color:rgba(135,206,250,0.03647075);\">with</span> <span style=\"background-color:rgba(135,206,250,0.07217324);\">penetrating</span> <span style=\"background-color:rgba(135,206,250,0.078265734);\">lime</span> <span style=\"background-color:rgba(135,206,250,0.034410913);\">and</span> <span style=\"background-color:rgba(135,206,250,0.10907496);\">peach</span> <span style=\"background-color:rgba(135,206,250,0.14287281);\">flavors</span> <span style=\"background-color:rgba(135,206,250,0.15267298);\">,</span> <span style=\"background-color:rgba(135,206,250,0.09546131);\">but</span> <span style=\"background-color:rgba(135,206,250,0.17592685);\">the</span> <span style=\"background-color:rgba(135,206,250,0.35723493);\">palate</span> <span style=\"background-color:rgba(135,206,250,0.39243805);\">is</span> <span style=\"background-color:rgba(135,206,250,1.0);\">concentrated</span> <span style=\"background-color:rgba(135,206,250,0.25800434);\">and</span>"
            ]
          },
          "metadata": {}
        },
        {
          "output_type": "stream",
          "name": "stdout",
          "text": [
            "penetrating:   \t19.39%\n",
            "concentrated:   \t9.98%\n",
            "rich:   \t7.75%\n",
            "full:   \t7.68%\n",
            "intense:   \t7.53%\n",
            "--------\n",
            "\n"
          ]
        },
        {
          "output_type": "display_data",
          "data": {
            "text/plain": [
              "<IPython.core.display.HTML object>"
            ],
            "text/html": [
              "<span style=\"background-color:rgba(135,206,250,0.10870545);\">wine</span> <span style=\"background-color:rgba(135,206,250,0.1868268);\">review</span> <span style=\"background-color:rgba(135,206,250,0.6431922);\">:</span> <span style=\"background-color:rgba(135,206,250,0.41785204);\">germany</span> <span style=\"background-color:rgba(135,206,250,0.2515008);\">:</span> <span style=\"background-color:rgba(135,206,250,0.18947816);\">mosel</span> <span style=\"background-color:rgba(135,206,250,0.14416492);\">:</span> <span style=\"background-color:rgba(135,206,250,0.25975114);\">riesling</span> <span style=\"background-color:rgba(135,206,250,0.12296317);\">:</span> <span style=\"background-color:rgba(135,206,250,0.047406945);\">a</span> <span style=\"background-color:rgba(135,206,250,0.083581634);\">whiff</span> <span style=\"background-color:rgba(135,206,250,0.04282944);\">of</span> <span style=\"background-color:rgba(135,206,250,0.0360678);\">waxy</span> <span style=\"background-color:rgba(135,206,250,0.05178961);\">lanolin</span> <span style=\"background-color:rgba(135,206,250,0.066438146);\">lends</span> <span style=\"background-color:rgba(135,206,250,0.03590476);\">a</span> <span style=\"background-color:rgba(135,206,250,0.07022048);\">sheen</span> <span style=\"background-color:rgba(135,206,250,0.03473625);\">to</span> <span style=\"background-color:rgba(135,206,250,0.058248773);\">this</span> <span style=\"background-color:rgba(135,206,250,0.0464124);\">intensely</span> <span style=\"background-color:rgba(135,206,250,0.08448404);\">fruity</span> <span style=\"background-color:rgba(135,206,250,0.06785757);\">wine</span> <span style=\"background-color:rgba(135,206,250,0.15380426);\">.</span> <span style=\"background-color:rgba(135,206,250,0.0644255);\">it</span> <span style=\"background-color:rgba(135,206,250,0.028580032);\">'</span> <span style=\"background-color:rgba(135,206,250,0.08277375);\">s</span> <span style=\"background-color:rgba(135,206,250,0.05089548);\">rich</span> <span style=\"background-color:rgba(135,206,250,0.072248675);\">and</span> <span style=\"background-color:rgba(135,206,250,0.08090011);\">concentrated</span> <span style=\"background-color:rgba(135,206,250,0.07936485);\">,</span> <span style=\"background-color:rgba(135,206,250,0.096760884);\">with</span> <span style=\"background-color:rgba(135,206,250,0.12859489);\">penetrating</span> <span style=\"background-color:rgba(135,206,250,0.14228332);\">lime</span> <span style=\"background-color:rgba(135,206,250,0.12727195);\">and</span> <span style=\"background-color:rgba(135,206,250,0.20306522);\">peach</span> <span style=\"background-color:rgba(135,206,250,0.4557205);\">flavors</span> <span style=\"background-color:rgba(135,206,250,0.23902087);\">,</span> <span style=\"background-color:rgba(135,206,250,0.27248824);\">but</span> <span style=\"background-color:rgba(135,206,250,0.42136723);\">the</span> <span style=\"background-color:rgba(135,206,250,1.0);\">palate</span> <span style=\"background-color:rgba(135,206,250,0.97559476);\">is</span> <span style=\"background-color:rgba(135,206,250,0.60770464);\">concentrated</span> <span style=\"background-color:rgba(135,206,250,0.93608576);\">and</span> <span style=\"background-color:rgba(135,206,250,0.7507555);\">full</span>"
            ]
          },
          "metadata": {}
        },
        {
          "output_type": "stream",
          "name": "stdout",
          "text": [
            "of:   \t96.7%\n",
            "bodied:   \t1.39%\n",
            "in:   \t1.12%\n",
            ",:   \t0.53%\n",
            "-:   \t0.13%\n",
            "--------\n",
            "\n"
          ]
        },
        {
          "output_type": "display_data",
          "data": {
            "text/plain": [
              "<IPython.core.display.HTML object>"
            ],
            "text/html": [
              "<span style=\"background-color:rgba(135,206,250,0.042042807);\">wine</span> <span style=\"background-color:rgba(135,206,250,0.066276394);\">review</span> <span style=\"background-color:rgba(135,206,250,0.182412);\">:</span> <span style=\"background-color:rgba(135,206,250,0.22209491);\">germany</span> <span style=\"background-color:rgba(135,206,250,0.06638903);\">:</span> <span style=\"background-color:rgba(135,206,250,0.18634452);\">mosel</span> <span style=\"background-color:rgba(135,206,250,0.053920094);\">:</span> <span style=\"background-color:rgba(135,206,250,0.24294463);\">riesling</span> <span style=\"background-color:rgba(135,206,250,0.05924286);\">:</span> <span style=\"background-color:rgba(135,206,250,0.023120139);\">a</span> <span style=\"background-color:rgba(135,206,250,0.045513988);\">whiff</span> <span style=\"background-color:rgba(135,206,250,0.010146609);\">of</span> <span style=\"background-color:rgba(135,206,250,0.040353935);\">waxy</span> <span style=\"background-color:rgba(135,206,250,0.06836646);\">lanolin</span> <span style=\"background-color:rgba(135,206,250,0.033670805);\">lends</span> <span style=\"background-color:rgba(135,206,250,0.013252027);\">a</span> <span style=\"background-color:rgba(135,206,250,0.041474093);\">sheen</span> <span style=\"background-color:rgba(135,206,250,0.013678362);\">to</span> <span style=\"background-color:rgba(135,206,250,0.026530508);\">this</span> <span style=\"background-color:rgba(135,206,250,0.029989867);\">intensely</span> <span style=\"background-color:rgba(135,206,250,0.05851258);\">fruity</span> <span style=\"background-color:rgba(135,206,250,0.030669164);\">wine</span> <span style=\"background-color:rgba(135,206,250,0.049051818);\">.</span> <span style=\"background-color:rgba(135,206,250,0.02368245);\">it</span> <span style=\"background-color:rgba(135,206,250,0.011325468);\">'</span> <span style=\"background-color:rgba(135,206,250,0.026084062);\">s</span> <span style=\"background-color:rgba(135,206,250,0.03771522);\">rich</span> <span style=\"background-color:rgba(135,206,250,0.031716168);\">and</span> <span style=\"background-color:rgba(135,206,250,0.049339555);\">concentrated</span> <span style=\"background-color:rgba(135,206,250,0.034632612);\">,</span> <span style=\"background-color:rgba(135,206,250,0.029360157);\">with</span> <span style=\"background-color:rgba(135,206,250,0.048307396);\">penetrating</span> <span style=\"background-color:rgba(135,206,250,0.06387418);\">lime</span> <span style=\"background-color:rgba(135,206,250,0.047616906);\">and</span> <span style=\"background-color:rgba(135,206,250,0.09033124);\">peach</span> <span style=\"background-color:rgba(135,206,250,0.10098505);\">flavors</span> <span style=\"background-color:rgba(135,206,250,0.08886528);\">,</span> <span style=\"background-color:rgba(135,206,250,0.09118037);\">but</span> <span style=\"background-color:rgba(135,206,250,0.12450604);\">the</span> <span style=\"background-color:rgba(135,206,250,0.23852874);\">palate</span> <span style=\"background-color:rgba(135,206,250,0.22023156);\">is</span> <span style=\"background-color:rgba(135,206,250,0.33572802);\">concentrated</span> <span style=\"background-color:rgba(135,206,250,0.3024746);\">and</span> <span style=\"background-color:rgba(135,206,250,1.0);\">full</span> <span style=\"background-color:rgba(135,206,250,0.1773521);\">of</span>"
            ]
          },
          "metadata": {}
        },
        {
          "output_type": "stream",
          "name": "stdout",
          "text": [
            "flavor:   \t28.55%\n",
            "body:   \t20.8%\n",
            "sweet:   \t12.66%\n",
            "life:   \t5.44%\n",
            "honey:   \t3.59%\n",
            "--------\n",
            "\n"
          ]
        },
        {
          "output_type": "display_data",
          "data": {
            "text/plain": [
              "<IPython.core.display.HTML object>"
            ],
            "text/html": [
              "<span style=\"background-color:rgba(135,206,250,0.090397954);\">wine</span> <span style=\"background-color:rgba(135,206,250,0.21364044);\">review</span> <span style=\"background-color:rgba(135,206,250,0.6991404);\">:</span> <span style=\"background-color:rgba(135,206,250,0.41768214);\">germany</span> <span style=\"background-color:rgba(135,206,250,0.1867926);\">:</span> <span style=\"background-color:rgba(135,206,250,0.10573406);\">mosel</span> <span style=\"background-color:rgba(135,206,250,0.11277912);\">:</span> <span style=\"background-color:rgba(135,206,250,0.1377708);\">riesling</span> <span style=\"background-color:rgba(135,206,250,0.12963586);\">:</span> <span style=\"background-color:rgba(135,206,250,0.047436755);\">a</span> <span style=\"background-color:rgba(135,206,250,0.06484175);\">whiff</span> <span style=\"background-color:rgba(135,206,250,0.026205558);\">of</span> <span style=\"background-color:rgba(135,206,250,0.02105876);\">waxy</span> <span style=\"background-color:rgba(135,206,250,0.033004995);\">lanolin</span> <span style=\"background-color:rgba(135,206,250,0.119477205);\">lends</span> <span style=\"background-color:rgba(135,206,250,0.024718871);\">a</span> <span style=\"background-color:rgba(135,206,250,0.054236036);\">sheen</span> <span style=\"background-color:rgba(135,206,250,0.0205024);\">to</span> <span style=\"background-color:rgba(135,206,250,0.036853485);\">this</span> <span style=\"background-color:rgba(135,206,250,0.02326525);\">intensely</span> <span style=\"background-color:rgba(135,206,250,0.03369454);\">fruity</span> <span style=\"background-color:rgba(135,206,250,0.05267929);\">wine</span> <span style=\"background-color:rgba(135,206,250,0.12103592);\">.</span> <span style=\"background-color:rgba(135,206,250,0.071773924);\">it</span> <span style=\"background-color:rgba(135,206,250,0.016954405);\">'</span> <span style=\"background-color:rgba(135,206,250,0.046658903);\">s</span> <span style=\"background-color:rgba(135,206,250,0.035528112);\">rich</span> <span style=\"background-color:rgba(135,206,250,0.05447061);\">and</span> <span style=\"background-color:rgba(135,206,250,0.04717635);\">concentrated</span> <span style=\"background-color:rgba(135,206,250,0.05109986);\">,</span> <span style=\"background-color:rgba(135,206,250,0.19100784);\">with</span> <span style=\"background-color:rgba(135,206,250,0.11921351);\">penetrating</span> <span style=\"background-color:rgba(135,206,250,0.07335752);\">lime</span> <span style=\"background-color:rgba(135,206,250,0.11200719);\">and</span> <span style=\"background-color:rgba(135,206,250,0.0997162);\">peach</span> <span style=\"background-color:rgba(135,206,250,0.2381609);\">flavors</span> <span style=\"background-color:rgba(135,206,250,0.14262055);\">,</span> <span style=\"background-color:rgba(135,206,250,0.29136285);\">but</span> <span style=\"background-color:rgba(135,206,250,0.2571752);\">the</span> <span style=\"background-color:rgba(135,206,250,0.27420488);\">palate</span> <span style=\"background-color:rgba(135,206,250,0.65581405);\">is</span> <span style=\"background-color:rgba(135,206,250,0.3335475);\">concentrated</span> <span style=\"background-color:rgba(135,206,250,0.64379567);\">and</span> <span style=\"background-color:rgba(135,206,250,0.67252225);\">full</span> <span style=\"background-color:rgba(135,206,250,1.0);\">of</span> <span style=\"background-color:rgba(135,206,250,0.58162886);\">body</span>"
            ]
          },
          "metadata": {}
        },
        {
          "output_type": "stream",
          "name": "stdout",
          "text": [
            ".:   \t46.26%\n",
            "and:   \t36.08%\n",
            ",:   \t17.08%\n",
            "yet:   \t0.17%\n",
            "without:   \t0.1%\n",
            "--------\n",
            "\n"
          ]
        },
        {
          "output_type": "display_data",
          "data": {
            "text/plain": [
              "<IPython.core.display.HTML object>"
            ],
            "text/html": [
              "<span style=\"background-color:rgba(135,206,250,0.043168604);\">wine</span> <span style=\"background-color:rgba(135,206,250,0.07993278);\">review</span> <span style=\"background-color:rgba(135,206,250,0.10220457);\">:</span> <span style=\"background-color:rgba(135,206,250,0.27945492);\">germany</span> <span style=\"background-color:rgba(135,206,250,0.068094686);\">:</span> <span style=\"background-color:rgba(135,206,250,0.1538094);\">mosel</span> <span style=\"background-color:rgba(135,206,250,0.05019326);\">:</span> <span style=\"background-color:rgba(135,206,250,0.18839468);\">riesling</span> <span style=\"background-color:rgba(135,206,250,0.058949936);\">:</span> <span style=\"background-color:rgba(135,206,250,0.018670373);\">a</span> <span style=\"background-color:rgba(135,206,250,0.05306293);\">whiff</span> <span style=\"background-color:rgba(135,206,250,0.012758961);\">of</span> <span style=\"background-color:rgba(135,206,250,0.039681945);\">waxy</span> <span style=\"background-color:rgba(135,206,250,0.056706835);\">lanolin</span> <span style=\"background-color:rgba(135,206,250,0.038218252);\">lends</span> <span style=\"background-color:rgba(135,206,250,0.011737207);\">a</span> <span style=\"background-color:rgba(135,206,250,0.04976681);\">sheen</span> <span style=\"background-color:rgba(135,206,250,0.013503972);\">to</span> <span style=\"background-color:rgba(135,206,250,0.023566114);\">this</span> <span style=\"background-color:rgba(135,206,250,0.03557122);\">intensely</span> <span style=\"background-color:rgba(135,206,250,0.051925607);\">fruity</span> <span style=\"background-color:rgba(135,206,250,0.029261641);\">wine</span> <span style=\"background-color:rgba(135,206,250,0.051672734);\">.</span> <span style=\"background-color:rgba(135,206,250,0.024391904);\">it</span> <span style=\"background-color:rgba(135,206,250,0.008817334);\">'</span> <span style=\"background-color:rgba(135,206,250,0.02780688);\">s</span> <span style=\"background-color:rgba(135,206,250,0.04641339);\">rich</span> <span style=\"background-color:rgba(135,206,250,0.024017574);\">and</span> <span style=\"background-color:rgba(135,206,250,0.056331336);\">concentrated</span> <span style=\"background-color:rgba(135,206,250,0.027027754);\">,</span> <span style=\"background-color:rgba(135,206,250,0.031798765);\">with</span> <span style=\"background-color:rgba(135,206,250,0.07057525);\">penetrating</span> <span style=\"background-color:rgba(135,206,250,0.06808093);\">lime</span> <span style=\"background-color:rgba(135,206,250,0.031280257);\">and</span> <span style=\"background-color:rgba(135,206,250,0.07874306);\">peach</span> <span style=\"background-color:rgba(135,206,250,0.09715903);\">flavors</span> <span style=\"background-color:rgba(135,206,250,0.060036846);\">,</span> <span style=\"background-color:rgba(135,206,250,0.06471817);\">but</span> <span style=\"background-color:rgba(135,206,250,0.058742322);\">the</span> <span style=\"background-color:rgba(135,206,250,0.14305337);\">palate</span> <span style=\"background-color:rgba(135,206,250,0.10656438);\">is</span> <span style=\"background-color:rgba(135,206,250,0.283049);\">concentrated</span> <span style=\"background-color:rgba(135,206,250,0.08161013);\">and</span> <span style=\"background-color:rgba(135,206,250,0.62505203);\">full</span> <span style=\"background-color:rgba(135,206,250,0.46455887);\">of</span> <span style=\"background-color:rgba(135,206,250,1.0);\">body</span> <span style=\"background-color:rgba(135,206,250,0.29359272);\">and</span>"
            ]
          },
          "metadata": {}
        },
        {
          "output_type": "stream",
          "name": "stdout",
          "text": [
            "a:   \t41.35%\n",
            "penetrating:   \t18.87%\n",
            "lingering:   \t5.02%\n",
            "rich:   \t4.19%\n",
            "lush:   \t3.5%\n",
            "--------\n",
            "\n"
          ]
        },
        {
          "output_type": "display_data",
          "data": {
            "text/plain": [
              "<IPython.core.display.HTML object>"
            ],
            "text/html": [
              "<span style=\"background-color:rgba(135,206,250,0.05694908);\">wine</span> <span style=\"background-color:rgba(135,206,250,0.08605262);\">review</span> <span style=\"background-color:rgba(135,206,250,0.14474595);\">:</span> <span style=\"background-color:rgba(135,206,250,0.341512);\">germany</span> <span style=\"background-color:rgba(135,206,250,0.07328857);\">:</span> <span style=\"background-color:rgba(135,206,250,0.1791021);\">mosel</span> <span style=\"background-color:rgba(135,206,250,0.0682008);\">:</span> <span style=\"background-color:rgba(135,206,250,0.29126412);\">riesling</span> <span style=\"background-color:rgba(135,206,250,0.06661098);\">:</span> <span style=\"background-color:rgba(135,206,250,0.019160857);\">a</span> <span style=\"background-color:rgba(135,206,250,0.07001643);\">whiff</span> <span style=\"background-color:rgba(135,206,250,0.015143855);\">of</span> <span style=\"background-color:rgba(135,206,250,0.037059207);\">waxy</span> <span style=\"background-color:rgba(135,206,250,0.06954038);\">lanolin</span> <span style=\"background-color:rgba(135,206,250,0.03308794);\">lends</span> <span style=\"background-color:rgba(135,206,250,0.012102255);\">a</span> <span style=\"background-color:rgba(135,206,250,0.052074384);\">sheen</span> <span style=\"background-color:rgba(135,206,250,0.015762152);\">to</span> <span style=\"background-color:rgba(135,206,250,0.02929686);\">this</span> <span style=\"background-color:rgba(135,206,250,0.03094264);\">intensely</span> <span style=\"background-color:rgba(135,206,250,0.06364394);\">fruity</span> <span style=\"background-color:rgba(135,206,250,0.0578229);\">wine</span> <span style=\"background-color:rgba(135,206,250,0.08786137);\">.</span> <span style=\"background-color:rgba(135,206,250,0.024741193);\">it</span> <span style=\"background-color:rgba(135,206,250,0.010107924);\">'</span> <span style=\"background-color:rgba(135,206,250,0.038705736);\">s</span> <span style=\"background-color:rgba(135,206,250,0.030103814);\">rich</span> <span style=\"background-color:rgba(135,206,250,0.027345618);\">and</span> <span style=\"background-color:rgba(135,206,250,0.05497827);\">concentrated</span> <span style=\"background-color:rgba(135,206,250,0.0350575);\">,</span> <span style=\"background-color:rgba(135,206,250,0.03598745);\">with</span> <span style=\"background-color:rgba(135,206,250,0.06337378);\">penetrating</span> <span style=\"background-color:rgba(135,206,250,0.10179207);\">lime</span> <span style=\"background-color:rgba(135,206,250,0.042163126);\">and</span> <span style=\"background-color:rgba(135,206,250,0.11355694);\">peach</span> <span style=\"background-color:rgba(135,206,250,0.19676858);\">flavors</span> <span style=\"background-color:rgba(135,206,250,0.06552334);\">,</span> <span style=\"background-color:rgba(135,206,250,0.106146246);\">but</span> <span style=\"background-color:rgba(135,206,250,0.096364155);\">the</span> <span style=\"background-color:rgba(135,206,250,0.33174273);\">palate</span> <span style=\"background-color:rgba(135,206,250,0.21877119);\">is</span> <span style=\"background-color:rgba(135,206,250,0.1366577);\">concentrated</span> <span style=\"background-color:rgba(135,206,250,0.21868856);\">and</span> <span style=\"background-color:rgba(135,206,250,0.2864978);\">full</span> <span style=\"background-color:rgba(135,206,250,0.6321048);\">of</span> <span style=\"background-color:rgba(135,206,250,1.0);\">body</span> <span style=\"background-color:rgba(135,206,250,0.84694403);\">and</span> <span style=\"background-color:rgba(135,206,250,0.34697238);\">rich</span>"
            ]
          },
          "metadata": {}
        },
        {
          "output_type": "stream",
          "name": "stdout",
          "text": [
            ",:   \t97.07%\n",
            ".:   \t0.78%\n",
            "yet:   \t0.5%\n",
            "fruit:   \t0.39%\n",
            "in:   \t0.36%\n",
            "--------\n",
            "\n"
          ]
        },
        {
          "output_type": "display_data",
          "data": {
            "text/plain": [
              "<IPython.core.display.HTML object>"
            ],
            "text/html": [
              "<span style=\"background-color:rgba(135,206,250,0.04630619);\">wine</span> <span style=\"background-color:rgba(135,206,250,0.10228098);\">review</span> <span style=\"background-color:rgba(135,206,250,0.14586432);\">:</span> <span style=\"background-color:rgba(135,206,250,0.28108603);\">germany</span> <span style=\"background-color:rgba(135,206,250,0.07637127);\">:</span> <span style=\"background-color:rgba(135,206,250,0.1451167);\">mosel</span> <span style=\"background-color:rgba(135,206,250,0.058550946);\">:</span> <span style=\"background-color:rgba(135,206,250,0.207096);\">riesling</span> <span style=\"background-color:rgba(135,206,250,0.07236547);\">:</span> <span style=\"background-color:rgba(135,206,250,0.019683108);\">a</span> <span style=\"background-color:rgba(135,206,250,0.05474686);\">whiff</span> <span style=\"background-color:rgba(135,206,250,0.01912982);\">of</span> <span style=\"background-color:rgba(135,206,250,0.03257497);\">waxy</span> <span style=\"background-color:rgba(135,206,250,0.063028336);\">lanolin</span> <span style=\"background-color:rgba(135,206,250,0.06898949);\">lends</span> <span style=\"background-color:rgba(135,206,250,0.012837429);\">a</span> <span style=\"background-color:rgba(135,206,250,0.05003775);\">sheen</span> <span style=\"background-color:rgba(135,206,250,0.019961106);\">to</span> <span style=\"background-color:rgba(135,206,250,0.054253824);\">this</span> <span style=\"background-color:rgba(135,206,250,0.029446559);\">intensely</span> <span style=\"background-color:rgba(135,206,250,0.05009189);\">fruity</span> <span style=\"background-color:rgba(135,206,250,0.038880054);\">wine</span> <span style=\"background-color:rgba(135,206,250,0.08818053);\">.</span> <span style=\"background-color:rgba(135,206,250,0.07063045);\">it</span> <span style=\"background-color:rgba(135,206,250,0.009547518);\">'</span> <span style=\"background-color:rgba(135,206,250,0.062374696);\">s</span> <span style=\"background-color:rgba(135,206,250,0.0564677);\">rich</span> <span style=\"background-color:rgba(135,206,250,0.038117066);\">and</span> <span style=\"background-color:rgba(135,206,250,0.047761653);\">concentrated</span> <span style=\"background-color:rgba(135,206,250,0.029900853);\">,</span> <span style=\"background-color:rgba(135,206,250,0.08133851);\">with</span> <span style=\"background-color:rgba(135,206,250,0.06354801);\">penetrating</span> <span style=\"background-color:rgba(135,206,250,0.07927363);\">lime</span> <span style=\"background-color:rgba(135,206,250,0.058209084);\">and</span> <span style=\"background-color:rgba(135,206,250,0.08437746);\">peach</span> <span style=\"background-color:rgba(135,206,250,0.10939531);\">flavors</span> <span style=\"background-color:rgba(135,206,250,0.04780026);\">,</span> <span style=\"background-color:rgba(135,206,250,0.14258517);\">but</span> <span style=\"background-color:rgba(135,206,250,0.06302769);\">the</span> <span style=\"background-color:rgba(135,206,250,0.18273543);\">palate</span> <span style=\"background-color:rgba(135,206,250,0.18636967);\">is</span> <span style=\"background-color:rgba(135,206,250,0.19465972);\">concentrated</span> <span style=\"background-color:rgba(135,206,250,0.2578348);\">and</span> <span style=\"background-color:rgba(135,206,250,0.305367);\">full</span> <span style=\"background-color:rgba(135,206,250,0.26557094);\">of</span> <span style=\"background-color:rgba(135,206,250,0.4820588);\">body</span> <span style=\"background-color:rgba(135,206,250,0.94642);\">and</span> <span style=\"background-color:rgba(135,206,250,1.0);\">rich</span> <span style=\"background-color:rgba(135,206,250,0.5013466);\">,</span>"
            ]
          },
          "metadata": {}
        },
        {
          "output_type": "stream",
          "name": "stdout",
          "text": [
            "yet:   \t49.58%\n",
            "with:   \t21.32%\n",
            "but:   \t18.34%\n",
            "finishing:   \t7.16%\n",
            "lingering:   \t0.83%\n",
            "--------\n",
            "\n"
          ]
        },
        {
          "output_type": "display_data",
          "data": {
            "text/plain": [
              "<IPython.core.display.HTML object>"
            ],
            "text/html": [
              "<span style=\"background-color:rgba(135,206,250,0.07497235);\">wine</span> <span style=\"background-color:rgba(135,206,250,0.10439924);\">review</span> <span style=\"background-color:rgba(135,206,250,0.4082594);\">:</span> <span style=\"background-color:rgba(135,206,250,0.32315314);\">germany</span> <span style=\"background-color:rgba(135,206,250,0.14020127);\">:</span> <span style=\"background-color:rgba(135,206,250,0.10001431);\">mosel</span> <span style=\"background-color:rgba(135,206,250,0.08397254);\">:</span> <span style=\"background-color:rgba(135,206,250,0.13345014);\">riesling</span> <span style=\"background-color:rgba(135,206,250,0.075515725);\">:</span> <span style=\"background-color:rgba(135,206,250,0.034677308);\">a</span> <span style=\"background-color:rgba(135,206,250,0.053815402);\">whiff</span> <span style=\"background-color:rgba(135,206,250,0.02398391);\">of</span> <span style=\"background-color:rgba(135,206,250,0.01717771);\">waxy</span> <span style=\"background-color:rgba(135,206,250,0.030103674);\">lanolin</span> <span style=\"background-color:rgba(135,206,250,0.05727215);\">lends</span> <span style=\"background-color:rgba(135,206,250,0.02209349);\">a</span> <span style=\"background-color:rgba(135,206,250,0.037600186);\">sheen</span> <span style=\"background-color:rgba(135,206,250,0.016338475);\">to</span> <span style=\"background-color:rgba(135,206,250,0.027293762);\">this</span> <span style=\"background-color:rgba(135,206,250,0.021181595);\">intensely</span> <span style=\"background-color:rgba(135,206,250,0.03058228);\">fruity</span> <span style=\"background-color:rgba(135,206,250,0.034547832);\">wine</span> <span style=\"background-color:rgba(135,206,250,0.060702257);\">.</span> <span style=\"background-color:rgba(135,206,250,0.027737524);\">it</span> <span style=\"background-color:rgba(135,206,250,0.009364359);\">'</span> <span style=\"background-color:rgba(135,206,250,0.02290366);\">s</span> <span style=\"background-color:rgba(135,206,250,0.014960146);\">rich</span> <span style=\"background-color:rgba(135,206,250,0.02695993);\">and</span> <span style=\"background-color:rgba(135,206,250,0.026686687);\">concentrated</span> <span style=\"background-color:rgba(135,206,250,0.027762767);\">,</span> <span style=\"background-color:rgba(135,206,250,0.044503886);\">with</span> <span style=\"background-color:rgba(135,206,250,0.048997767);\">penetrating</span> <span style=\"background-color:rgba(135,206,250,0.042497344);\">lime</span> <span style=\"background-color:rgba(135,206,250,0.037765455);\">and</span> <span style=\"background-color:rgba(135,206,250,0.05430637);\">peach</span> <span style=\"background-color:rgba(135,206,250,0.11057381);\">flavors</span> <span style=\"background-color:rgba(135,206,250,0.05118864);\">,</span> <span style=\"background-color:rgba(135,206,250,0.064988144);\">but</span> <span style=\"background-color:rgba(135,206,250,0.056573473);\">the</span> <span style=\"background-color:rgba(135,206,250,0.11754833);\">palate</span> <span style=\"background-color:rgba(135,206,250,0.10844056);\">is</span> <span style=\"background-color:rgba(135,206,250,0.09009655);\">concentrated</span> <span style=\"background-color:rgba(135,206,250,0.09705098);\">and</span> <span style=\"background-color:rgba(135,206,250,0.13424826);\">full</span> <span style=\"background-color:rgba(135,206,250,0.17939328);\">of</span> <span style=\"background-color:rgba(135,206,250,0.2919907);\">body</span> <span style=\"background-color:rgba(135,206,250,0.28351706);\">and</span> <span style=\"background-color:rgba(135,206,250,0.28095907);\">rich</span> <span style=\"background-color:rgba(135,206,250,1.0);\">,</span> <span style=\"background-color:rgba(135,206,250,0.3196946);\">yet</span>"
            ]
          },
          "metadata": {}
        },
        {
          "output_type": "stream",
          "name": "stdout",
          "text": [
            "finishes:   \t42.88%\n",
            "maintains:   \t13.46%\n",
            "balanced:   \t13.12%\n",
            "it:   \t7.04%\n",
            "lingers:   \t4.2%\n",
            "--------\n",
            "\n"
          ]
        },
        {
          "output_type": "display_data",
          "data": {
            "text/plain": [
              "<IPython.core.display.HTML object>"
            ],
            "text/html": [
              "<span style=\"background-color:rgba(135,206,250,0.07107433);\">wine</span> <span style=\"background-color:rgba(135,206,250,0.1157964);\">review</span> <span style=\"background-color:rgba(135,206,250,1.0);\">:</span> <span style=\"background-color:rgba(135,206,250,0.2625973);\">germany</span> <span style=\"background-color:rgba(135,206,250,0.17700101);\">:</span> <span style=\"background-color:rgba(135,206,250,0.22307356);\">mosel</span> <span style=\"background-color:rgba(135,206,250,0.1465056);\">:</span> <span style=\"background-color:rgba(135,206,250,0.15557416);\">riesling</span> <span style=\"background-color:rgba(135,206,250,0.12710305);\">:</span> <span style=\"background-color:rgba(135,206,250,0.03629931);\">a</span> <span style=\"background-color:rgba(135,206,250,0.0670011);\">whiff</span> <span style=\"background-color:rgba(135,206,250,0.028183222);\">of</span> <span style=\"background-color:rgba(135,206,250,0.051552404);\">waxy</span> <span style=\"background-color:rgba(135,206,250,0.04424365);\">lanolin</span> <span style=\"background-color:rgba(135,206,250,0.032506745);\">lends</span> <span style=\"background-color:rgba(135,206,250,0.019673593);\">a</span> <span style=\"background-color:rgba(135,206,250,0.04750425);\">sheen</span> <span style=\"background-color:rgba(135,206,250,0.019981027);\">to</span> <span style=\"background-color:rgba(135,206,250,0.017571699);\">this</span> <span style=\"background-color:rgba(135,206,250,0.044336643);\">intensely</span> <span style=\"background-color:rgba(135,206,250,0.049609274);\">fruity</span> <span style=\"background-color:rgba(135,206,250,0.023188772);\">wine</span> <span style=\"background-color:rgba(135,206,250,0.039666526);\">.</span> <span style=\"background-color:rgba(135,206,250,0.015233439);\">it</span> <span style=\"background-color:rgba(135,206,250,0.019325456);\">'</span> <span style=\"background-color:rgba(135,206,250,0.02461225);\">s</span> <span style=\"background-color:rgba(135,206,250,0.04005448);\">rich</span> <span style=\"background-color:rgba(135,206,250,0.03163086);\">and</span> <span style=\"background-color:rgba(135,206,250,0.06179743);\">concentrated</span> <span style=\"background-color:rgba(135,206,250,0.023387691);\">,</span> <span style=\"background-color:rgba(135,206,250,0.034249965);\">with</span> <span style=\"background-color:rgba(135,206,250,0.08365841);\">penetrating</span> <span style=\"background-color:rgba(135,206,250,0.04961766);\">lime</span> <span style=\"background-color:rgba(135,206,250,0.03894362);\">and</span> <span style=\"background-color:rgba(135,206,250,0.045250446);\">peach</span> <span style=\"background-color:rgba(135,206,250,0.042299338);\">flavors</span> <span style=\"background-color:rgba(135,206,250,0.037219796);\">,</span> <span style=\"background-color:rgba(135,206,250,0.05706436);\">but</span> <span style=\"background-color:rgba(135,206,250,0.035763163);\">the</span> <span style=\"background-color:rgba(135,206,250,0.040118407);\">palate</span> <span style=\"background-color:rgba(135,206,250,0.03291941);\">is</span> <span style=\"background-color:rgba(135,206,250,0.12639412);\">concentrated</span> <span style=\"background-color:rgba(135,206,250,0.067949116);\">and</span> <span style=\"background-color:rgba(135,206,250,0.09334504);\">full</span> <span style=\"background-color:rgba(135,206,250,0.08829017);\">of</span> <span style=\"background-color:rgba(135,206,250,0.09806944);\">body</span> <span style=\"background-color:rgba(135,206,250,0.12018941);\">and</span> <span style=\"background-color:rgba(135,206,250,0.21601117);\">rich</span> <span style=\"background-color:rgba(135,206,250,0.25837442);\">,</span> <span style=\"background-color:rgba(135,206,250,0.29554504);\">yet</span> <span style=\"background-color:rgba(135,206,250,0.29979548);\">finishes</span>"
            ]
          },
          "metadata": {}
        },
        {
          "output_type": "stream",
          "name": "stdout",
          "text": [
            "long:   \t99.67%\n",
            "with:   \t0.28%\n",
            "on:   \t0.01%\n",
            "dry:   \t0.01%\n",
            "a:   \t0.01%\n",
            "--------\n",
            "\n"
          ]
        },
        {
          "output_type": "display_data",
          "data": {
            "text/plain": [
              "<IPython.core.display.HTML object>"
            ],
            "text/html": [
              "<span style=\"background-color:rgba(135,206,250,0.03322087);\">wine</span> <span style=\"background-color:rgba(135,206,250,0.052974228);\">review</span> <span style=\"background-color:rgba(135,206,250,0.108119175);\">:</span> <span style=\"background-color:rgba(135,206,250,0.12110195);\">germany</span> <span style=\"background-color:rgba(135,206,250,0.06164953);\">:</span> <span style=\"background-color:rgba(135,206,250,0.04887371);\">mosel</span> <span style=\"background-color:rgba(135,206,250,0.043174703);\">:</span> <span style=\"background-color:rgba(135,206,250,0.053445403);\">riesling</span> <span style=\"background-color:rgba(135,206,250,0.027897941);\">:</span> <span style=\"background-color:rgba(135,206,250,0.012981174);\">a</span> <span style=\"background-color:rgba(135,206,250,0.023815997);\">whiff</span> <span style=\"background-color:rgba(135,206,250,0.010946872);\">of</span> <span style=\"background-color:rgba(135,206,250,0.008875078);\">waxy</span> <span style=\"background-color:rgba(135,206,250,0.012095594);\">lanolin</span> <span style=\"background-color:rgba(135,206,250,0.0174923);\">lends</span> <span style=\"background-color:rgba(135,206,250,0.009239692);\">a</span> <span style=\"background-color:rgba(135,206,250,0.017763592);\">sheen</span> <span style=\"background-color:rgba(135,206,250,0.00760481);\">to</span> <span style=\"background-color:rgba(135,206,250,0.013763142);\">this</span> <span style=\"background-color:rgba(135,206,250,0.014482737);\">intensely</span> <span style=\"background-color:rgba(135,206,250,0.01905804);\">fruity</span> <span style=\"background-color:rgba(135,206,250,0.014087743);\">wine</span> <span style=\"background-color:rgba(135,206,250,0.028391419);\">.</span> <span style=\"background-color:rgba(135,206,250,0.010819898);\">it</span> <span style=\"background-color:rgba(135,206,250,0.009900535);\">'</span> <span style=\"background-color:rgba(135,206,250,0.0141081065);\">s</span> <span style=\"background-color:rgba(135,206,250,0.010230608);\">rich</span> <span style=\"background-color:rgba(135,206,250,0.017930806);\">and</span> <span style=\"background-color:rgba(135,206,250,0.018219668);\">concentrated</span> <span style=\"background-color:rgba(135,206,250,0.017174331);\">,</span> <span style=\"background-color:rgba(135,206,250,0.01868185);\">with</span> <span style=\"background-color:rgba(135,206,250,0.024214638);\">penetrating</span> <span style=\"background-color:rgba(135,206,250,0.020655738);\">lime</span> <span style=\"background-color:rgba(135,206,250,0.02421135);\">and</span> <span style=\"background-color:rgba(135,206,250,0.031751987);\">peach</span> <span style=\"background-color:rgba(135,206,250,0.03794012);\">flavors</span> <span style=\"background-color:rgba(135,206,250,0.025302963);\">,</span> <span style=\"background-color:rgba(135,206,250,0.025695639);\">but</span> <span style=\"background-color:rgba(135,206,250,0.020939037);\">the</span> <span style=\"background-color:rgba(135,206,250,0.0412959);\">palate</span> <span style=\"background-color:rgba(135,206,250,0.031305157);\">is</span> <span style=\"background-color:rgba(135,206,250,0.032815803);\">concentrated</span> <span style=\"background-color:rgba(135,206,250,0.03876319);\">and</span> <span style=\"background-color:rgba(135,206,250,0.030143274);\">full</span> <span style=\"background-color:rgba(135,206,250,0.059906337);\">of</span> <span style=\"background-color:rgba(135,206,250,0.080421165);\">body</span> <span style=\"background-color:rgba(135,206,250,0.083803765);\">and</span> <span style=\"background-color:rgba(135,206,250,0.04954241);\">rich</span> <span style=\"background-color:rgba(135,206,250,0.15627377);\">,</span> <span style=\"background-color:rgba(135,206,250,0.19790383);\">yet</span> <span style=\"background-color:rgba(135,206,250,1.0);\">finishes</span> <span style=\"background-color:rgba(135,206,250,0.12821905);\">long</span>"
            ]
          },
          "metadata": {}
        },
        {
          "output_type": "stream",
          "name": "stdout",
          "text": [
            "and:   \t56.82%\n",
            ",:   \t26.85%\n",
            "with:   \t12.97%\n",
            ".:   \t3.23%\n",
            "on:   \t0.12%\n",
            "--------\n",
            "\n"
          ]
        },
        {
          "output_type": "display_data",
          "data": {
            "text/plain": [
              "<IPython.core.display.HTML object>"
            ],
            "text/html": [
              "<span style=\"background-color:rgba(135,206,250,0.030790862);\">wine</span> <span style=\"background-color:rgba(135,206,250,0.05449417);\">review</span> <span style=\"background-color:rgba(135,206,250,0.071965136);\">:</span> <span style=\"background-color:rgba(135,206,250,0.22654872);\">germany</span> <span style=\"background-color:rgba(135,206,250,0.050121963);\">:</span> <span style=\"background-color:rgba(135,206,250,0.13375315);\">mosel</span> <span style=\"background-color:rgba(135,206,250,0.038431436);\">:</span> <span style=\"background-color:rgba(135,206,250,0.1649898);\">riesling</span> <span style=\"background-color:rgba(135,206,250,0.046146415);\">:</span> <span style=\"background-color:rgba(135,206,250,0.014507935);\">a</span> <span style=\"background-color:rgba(135,206,250,0.042146843);\">whiff</span> <span style=\"background-color:rgba(135,206,250,0.009045325);\">of</span> <span style=\"background-color:rgba(135,206,250,0.030271202);\">waxy</span> <span style=\"background-color:rgba(135,206,250,0.04128509);\">lanolin</span> <span style=\"background-color:rgba(135,206,250,0.027831402);\">lends</span> <span style=\"background-color:rgba(135,206,250,0.008304516);\">a</span> <span style=\"background-color:rgba(135,206,250,0.036463432);\">sheen</span> <span style=\"background-color:rgba(135,206,250,0.009209822);\">to</span> <span style=\"background-color:rgba(135,206,250,0.015576618);\">this</span> <span style=\"background-color:rgba(135,206,250,0.025835434);\">intensely</span> <span style=\"background-color:rgba(135,206,250,0.035193942);\">fruity</span> <span style=\"background-color:rgba(135,206,250,0.019822378);\">wine</span> <span style=\"background-color:rgba(135,206,250,0.03225615);\">.</span> <span style=\"background-color:rgba(135,206,250,0.0149912555);\">it</span> <span style=\"background-color:rgba(135,206,250,0.005322778);\">'</span> <span style=\"background-color:rgba(135,206,250,0.017600458);\">s</span> <span style=\"background-color:rgba(135,206,250,0.029090306);\">rich</span> <span style=\"background-color:rgba(135,206,250,0.015414982);\">and</span> <span style=\"background-color:rgba(135,206,250,0.036633015);\">concentrated</span> <span style=\"background-color:rgba(135,206,250,0.016306559);\">,</span> <span style=\"background-color:rgba(135,206,250,0.020063402);\">with</span> <span style=\"background-color:rgba(135,206,250,0.043619182);\">penetrating</span> <span style=\"background-color:rgba(135,206,250,0.040589843);\">lime</span> <span style=\"background-color:rgba(135,206,250,0.019692669);\">and</span> <span style=\"background-color:rgba(135,206,250,0.044322923);\">peach</span> <span style=\"background-color:rgba(135,206,250,0.05536167);\">flavors</span> <span style=\"background-color:rgba(135,206,250,0.023312166);\">,</span> <span style=\"background-color:rgba(135,206,250,0.036279503);\">but</span> <span style=\"background-color:rgba(135,206,250,0.019817328);\">the</span> <span style=\"background-color:rgba(135,206,250,0.061147444);\">palate</span> <span style=\"background-color:rgba(135,206,250,0.028366927);\">is</span> <span style=\"background-color:rgba(135,206,250,0.06525055);\">concentrated</span> <span style=\"background-color:rgba(135,206,250,0.027373398);\">and</span> <span style=\"background-color:rgba(135,206,250,0.06872267);\">full</span> <span style=\"background-color:rgba(135,206,250,0.04088463);\">of</span> <span style=\"background-color:rgba(135,206,250,0.104284465);\">body</span> <span style=\"background-color:rgba(135,206,250,0.04287621);\">and</span> <span style=\"background-color:rgba(135,206,250,0.15698525);\">rich</span> <span style=\"background-color:rgba(135,206,250,0.31473956);\">,</span> <span style=\"background-color:rgba(135,206,250,0.16346021);\">yet</span> <span style=\"background-color:rgba(135,206,250,1.0);\">finishes</span> <span style=\"background-color:rgba(135,206,250,0.6969289);\">long</span> <span style=\"background-color:rgba(135,206,250,0.25248244);\">and</span>"
            ]
          },
          "metadata": {}
        },
        {
          "output_type": "stream",
          "name": "stdout",
          "text": [
            "long:   \t72.68%\n",
            "lingering:   \t6.82%\n",
            "spicy:   \t3.78%\n",
            "dry:   \t3.48%\n",
            "clean:   \t1.88%\n",
            "--------\n",
            "\n"
          ]
        },
        {
          "output_type": "display_data",
          "data": {
            "text/plain": [
              "<IPython.core.display.HTML object>"
            ],
            "text/html": [
              "<span style=\"background-color:rgba(135,206,250,0.04282095);\">wine</span> <span style=\"background-color:rgba(135,206,250,0.06667766);\">review</span> <span style=\"background-color:rgba(135,206,250,0.15796046);\">:</span> <span style=\"background-color:rgba(135,206,250,0.17858702);\">germany</span> <span style=\"background-color:rgba(135,206,250,0.081655994);\">:</span> <span style=\"background-color:rgba(135,206,250,0.07465836);\">mosel</span> <span style=\"background-color:rgba(135,206,250,0.059307836);\">:</span> <span style=\"background-color:rgba(135,206,250,0.077157944);\">riesling</span> <span style=\"background-color:rgba(135,206,250,0.039150275);\">:</span> <span style=\"background-color:rgba(135,206,250,0.018719131);\">a</span> <span style=\"background-color:rgba(135,206,250,0.032862745);\">whiff</span> <span style=\"background-color:rgba(135,206,250,0.0140350945);\">of</span> <span style=\"background-color:rgba(135,206,250,0.013336865);\">waxy</span> <span style=\"background-color:rgba(135,206,250,0.016382445);\">lanolin</span> <span style=\"background-color:rgba(135,206,250,0.021407729);\">lends</span> <span style=\"background-color:rgba(135,206,250,0.012408698);\">a</span> <span style=\"background-color:rgba(135,206,250,0.023455262);\">sheen</span> <span style=\"background-color:rgba(135,206,250,0.0096764155);\">to</span> <span style=\"background-color:rgba(135,206,250,0.016158357);\">this</span> <span style=\"background-color:rgba(135,206,250,0.021741396);\">intensely</span> <span style=\"background-color:rgba(135,206,250,0.025328256);\">fruity</span> <span style=\"background-color:rgba(135,206,250,0.017868605);\">wine</span> <span style=\"background-color:rgba(135,206,250,0.034735363);\">.</span> <span style=\"background-color:rgba(135,206,250,0.013415531);\">it</span> <span style=\"background-color:rgba(135,206,250,0.013113296);\">'</span> <span style=\"background-color:rgba(135,206,250,0.018889662);\">s</span> <span style=\"background-color:rgba(135,206,250,0.01403901);\">rich</span> <span style=\"background-color:rgba(135,206,250,0.023318825);\">and</span> <span style=\"background-color:rgba(135,206,250,0.025699507);\">concentrated</span> <span style=\"background-color:rgba(135,206,250,0.022650342);\">,</span> <span style=\"background-color:rgba(135,206,250,0.02382248);\">with</span> <span style=\"background-color:rgba(135,206,250,0.032840956);\">penetrating</span> <span style=\"background-color:rgba(135,206,250,0.027526079);\">lime</span> <span style=\"background-color:rgba(135,206,250,0.03176226);\">and</span> <span style=\"background-color:rgba(135,206,250,0.04249377);\">peach</span> <span style=\"background-color:rgba(135,206,250,0.049241714);\">flavors</span> <span style=\"background-color:rgba(135,206,250,0.033155777);\">,</span> <span style=\"background-color:rgba(135,206,250,0.031921443);\">but</span> <span style=\"background-color:rgba(135,206,250,0.025553027);\">the</span> <span style=\"background-color:rgba(135,206,250,0.050089948);\">palate</span> <span style=\"background-color:rgba(135,206,250,0.03693787);\">is</span> <span style=\"background-color:rgba(135,206,250,0.04413377);\">concentrated</span> <span style=\"background-color:rgba(135,206,250,0.047304068);\">and</span> <span style=\"background-color:rgba(135,206,250,0.037947528);\">full</span> <span style=\"background-color:rgba(135,206,250,0.06536487);\">of</span> <span style=\"background-color:rgba(135,206,250,0.092364356);\">body</span> <span style=\"background-color:rgba(135,206,250,0.09283122);\">and</span> <span style=\"background-color:rgba(135,206,250,0.057215557);\">rich</span> <span style=\"background-color:rgba(135,206,250,0.16651341);\">,</span> <span style=\"background-color:rgba(135,206,250,0.21830015);\">yet</span> <span style=\"background-color:rgba(135,206,250,1.0);\">finishes</span> <span style=\"background-color:rgba(135,206,250,0.13782576);\">long</span> <span style=\"background-color:rgba(135,206,250,0.50164837);\">and</span> <span style=\"background-color:rgba(135,206,250,0.24934563);\">long</span>"
            ]
          },
          "metadata": {}
        },
        {
          "output_type": "stream",
          "name": "stdout",
          "text": [
            ".:   \t61.38%\n",
            ",:   \t34.4%\n",
            "with:   \t3.45%\n",
            "on:   \t0.52%\n",
            "and:   \t0.18%\n",
            "--------\n",
            "\n"
          ]
        },
        {
          "output_type": "display_data",
          "data": {
            "text/plain": [
              "<IPython.core.display.HTML object>"
            ],
            "text/html": [
              "<span style=\"background-color:rgba(135,206,250,0.04004991);\">wine</span> <span style=\"background-color:rgba(135,206,250,0.08401029);\">review</span> <span style=\"background-color:rgba(135,206,250,0.11440554);\">:</span> <span style=\"background-color:rgba(135,206,250,0.27162024);\">germany</span> <span style=\"background-color:rgba(135,206,250,0.06545226);\">:</span> <span style=\"background-color:rgba(135,206,250,0.1457162);\">mosel</span> <span style=\"background-color:rgba(135,206,250,0.05289292);\">:</span> <span style=\"background-color:rgba(135,206,250,0.1926217);\">riesling</span> <span style=\"background-color:rgba(135,206,250,0.06480722);\">:</span> <span style=\"background-color:rgba(135,206,250,0.017955104);\">a</span> <span style=\"background-color:rgba(135,206,250,0.051169027);\">whiff</span> <span style=\"background-color:rgba(135,206,250,0.016383162);\">of</span> <span style=\"background-color:rgba(135,206,250,0.029644996);\">waxy</span> <span style=\"background-color:rgba(135,206,250,0.056083027);\">lanolin</span> <span style=\"background-color:rgba(135,206,250,0.058007076);\">lends</span> <span style=\"background-color:rgba(135,206,250,0.011149002);\">a</span> <span style=\"background-color:rgba(135,206,250,0.043414325);\">sheen</span> <span style=\"background-color:rgba(135,206,250,0.016358811);\">to</span> <span style=\"background-color:rgba(135,206,250,0.043094113);\">this</span> <span style=\"background-color:rgba(135,206,250,0.025649348);\">intensely</span> <span style=\"background-color:rgba(135,206,250,0.040451143);\">fruity</span> <span style=\"background-color:rgba(135,206,250,0.03073632);\">wine</span> <span style=\"background-color:rgba(135,206,250,0.06765379);\">.</span> <span style=\"background-color:rgba(135,206,250,0.053317577);\">it</span> <span style=\"background-color:rgba(135,206,250,0.0072011882);\">'</span> <span style=\"background-color:rgba(135,206,250,0.04880413);\">s</span> <span style=\"background-color:rgba(135,206,250,0.04110027);\">rich</span> <span style=\"background-color:rgba(135,206,250,0.027506119);\">and</span> <span style=\"background-color:rgba(135,206,250,0.037922453);\">concentrated</span> <span style=\"background-color:rgba(135,206,250,0.02284697);\">,</span> <span style=\"background-color:rgba(135,206,250,0.060807448);\">with</span> <span style=\"background-color:rgba(135,206,250,0.049905527);\">penetrating</span> <span style=\"background-color:rgba(135,206,250,0.060206175);\">lime</span> <span style=\"background-color:rgba(135,206,250,0.03834087);\">and</span> <span style=\"background-color:rgba(135,206,250,0.061034575);\">peach</span> <span style=\"background-color:rgba(135,206,250,0.07999988);\">flavors</span> <span style=\"background-color:rgba(135,206,250,0.033745397);\">,</span> <span style=\"background-color:rgba(135,206,250,0.09740721);\">but</span> <span style=\"background-color:rgba(135,206,250,0.03510079);\">the</span> <span style=\"background-color:rgba(135,206,250,0.116942726);\">palate</span> <span style=\"background-color:rgba(135,206,250,0.10247195);\">is</span> <span style=\"background-color:rgba(135,206,250,0.08001063);\">concentrated</span> <span style=\"background-color:rgba(135,206,250,0.074411);\">and</span> <span style=\"background-color:rgba(135,206,250,0.0924943);\">full</span> <span style=\"background-color:rgba(135,206,250,0.063921586);\">of</span> <span style=\"background-color:rgba(135,206,250,0.13146256);\">body</span> <span style=\"background-color:rgba(135,206,250,0.16751538);\">and</span> <span style=\"background-color:rgba(135,206,250,0.19480035);\">rich</span> <span style=\"background-color:rgba(135,206,250,0.1094977);\">,</span> <span style=\"background-color:rgba(135,206,250,0.36914104);\">yet</span> <span style=\"background-color:rgba(135,206,250,0.92154497);\">finishes</span> <span style=\"background-color:rgba(135,206,250,0.4758507);\">long</span> <span style=\"background-color:rgba(135,206,250,1.0);\">and</span> <span style=\"background-color:rgba(135,206,250,0.90387076);\">long</span> <span style=\"background-color:rgba(135,206,250,0.45554718);\">,</span>"
            ]
          },
          "metadata": {}
        },
        {
          "output_type": "stream",
          "name": "stdout",
          "text": [
            "with:   \t94.53%\n",
            "lingering:   \t3.42%\n",
            "marked:   \t0.39%\n",
            "as:   \t0.23%\n",
            "ending:   \t0.22%\n",
            "--------\n",
            "\n"
          ]
        },
        {
          "output_type": "display_data",
          "data": {
            "text/plain": [
              "<IPython.core.display.HTML object>"
            ],
            "text/html": [
              "<span style=\"background-color:rgba(135,206,250,0.052500192);\">wine</span> <span style=\"background-color:rgba(135,206,250,0.09681924);\">review</span> <span style=\"background-color:rgba(135,206,250,0.42848966);\">:</span> <span style=\"background-color:rgba(135,206,250,0.39108318);\">germany</span> <span style=\"background-color:rgba(135,206,250,0.09797219);\">:</span> <span style=\"background-color:rgba(135,206,250,0.22682856);\">mosel</span> <span style=\"background-color:rgba(135,206,250,0.081519425);\">:</span> <span style=\"background-color:rgba(135,206,250,0.27236763);\">riesling</span> <span style=\"background-color:rgba(135,206,250,0.089208394);\">:</span> <span style=\"background-color:rgba(135,206,250,0.03137285);\">a</span> <span style=\"background-color:rgba(135,206,250,0.08432596);\">whiff</span> <span style=\"background-color:rgba(135,206,250,0.018545149);\">of</span> <span style=\"background-color:rgba(135,206,250,0.05241661);\">waxy</span> <span style=\"background-color:rgba(135,206,250,0.068471104);\">lanolin</span> <span style=\"background-color:rgba(135,206,250,0.040729165);\">lends</span> <span style=\"background-color:rgba(135,206,250,0.017715067);\">a</span> <span style=\"background-color:rgba(135,206,250,0.06722725);\">sheen</span> <span style=\"background-color:rgba(135,206,250,0.014415013);\">to</span> <span style=\"background-color:rgba(135,206,250,0.03199741);\">this</span> <span style=\"background-color:rgba(135,206,250,0.049014047);\">intensely</span> <span style=\"background-color:rgba(135,206,250,0.05525817);\">fruity</span> <span style=\"background-color:rgba(135,206,250,0.029217545);\">wine</span> <span style=\"background-color:rgba(135,206,250,0.05228555);\">.</span> <span style=\"background-color:rgba(135,206,250,0.018965151);\">it</span> <span style=\"background-color:rgba(135,206,250,0.009584847);\">'</span> <span style=\"background-color:rgba(135,206,250,0.026296996);\">s</span> <span style=\"background-color:rgba(135,206,250,0.045327708);\">rich</span> <span style=\"background-color:rgba(135,206,250,0.028129322);\">and</span> <span style=\"background-color:rgba(135,206,250,0.06001938);\">concentrated</span> <span style=\"background-color:rgba(135,206,250,0.027052438);\">,</span> <span style=\"background-color:rgba(135,206,250,0.024659641);\">with</span> <span style=\"background-color:rgba(135,206,250,0.066214666);\">penetrating</span> <span style=\"background-color:rgba(135,206,250,0.06885212);\">lime</span> <span style=\"background-color:rgba(135,206,250,0.03737854);\">and</span> <span style=\"background-color:rgba(135,206,250,0.07456811);\">peach</span> <span style=\"background-color:rgba(135,206,250,0.112939924);\">flavors</span> <span style=\"background-color:rgba(135,206,250,0.039939687);\">,</span> <span style=\"background-color:rgba(135,206,250,0.066682436);\">but</span> <span style=\"background-color:rgba(135,206,250,0.030131375);\">the</span> <span style=\"background-color:rgba(135,206,250,0.120446354);\">palate</span> <span style=\"background-color:rgba(135,206,250,0.044981014);\">is</span> <span style=\"background-color:rgba(135,206,250,0.11347326);\">concentrated</span> <span style=\"background-color:rgba(135,206,250,0.06470126);\">and</span> <span style=\"background-color:rgba(135,206,250,0.07882671);\">full</span> <span style=\"background-color:rgba(135,206,250,0.047738876);\">of</span> <span style=\"background-color:rgba(135,206,250,0.15588665);\">body</span> <span style=\"background-color:rgba(135,206,250,0.120595895);\">and</span> <span style=\"background-color:rgba(135,206,250,0.24989936);\">rich</span> <span style=\"background-color:rgba(135,206,250,0.22650002);\">,</span> <span style=\"background-color:rgba(135,206,250,0.2953322);\">yet</span> <span style=\"background-color:rgba(135,206,250,0.76990956);\">finishes</span> <span style=\"background-color:rgba(135,206,250,0.27377543);\">long</span> <span style=\"background-color:rgba(135,206,250,0.46792215);\">and</span> <span style=\"background-color:rgba(135,206,250,0.41235563);\">long</span> <span style=\"background-color:rgba(135,206,250,1.0);\">,</span> <span style=\"background-color:rgba(135,206,250,0.52470857);\">with</span>"
            ]
          },
          "metadata": {}
        },
        {
          "output_type": "stream",
          "name": "stdout",
          "text": [
            "a:   \t95.98%\n",
            "lingering:   \t2.22%\n",
            "penetrating:   \t0.69%\n",
            "an:   \t0.28%\n",
            "just:   \t0.26%\n",
            "--------\n",
            "\n"
          ]
        },
        {
          "output_type": "display_data",
          "data": {
            "text/plain": [
              "<IPython.core.display.HTML object>"
            ],
            "text/html": [
              "<span style=\"background-color:rgba(135,206,250,0.0363355);\">wine</span> <span style=\"background-color:rgba(135,206,250,0.0512953);\">review</span> <span style=\"background-color:rgba(135,206,250,0.094183244);\">:</span> <span style=\"background-color:rgba(135,206,250,0.26190025);\">germany</span> <span style=\"background-color:rgba(135,206,250,0.046758257);\">:</span> <span style=\"background-color:rgba(135,206,250,0.16369313);\">mosel</span> <span style=\"background-color:rgba(135,206,250,0.041085083);\">:</span> <span style=\"background-color:rgba(135,206,250,0.15744065);\">riesling</span> <span style=\"background-color:rgba(135,206,250,0.045567844);\">:</span> <span style=\"background-color:rgba(135,206,250,0.015253053);\">a</span> <span style=\"background-color:rgba(135,206,250,0.05279883);\">whiff</span> <span style=\"background-color:rgba(135,206,250,0.011869298);\">of</span> <span style=\"background-color:rgba(135,206,250,0.041853283);\">waxy</span> <span style=\"background-color:rgba(135,206,250,0.04997842);\">lanolin</span> <span style=\"background-color:rgba(135,206,250,0.02213089);\">lends</span> <span style=\"background-color:rgba(135,206,250,0.00935914);\">a</span> <span style=\"background-color:rgba(135,206,250,0.04306872);\">sheen</span> <span style=\"background-color:rgba(135,206,250,0.010144261);\">to</span> <span style=\"background-color:rgba(135,206,250,0.017014513);\">this</span> <span style=\"background-color:rgba(135,206,250,0.029663105);\">intensely</span> <span style=\"background-color:rgba(135,206,250,0.04211224);\">fruity</span> <span style=\"background-color:rgba(135,206,250,0.026849043);\">wine</span> <span style=\"background-color:rgba(135,206,250,0.030714361);\">.</span> <span style=\"background-color:rgba(135,206,250,0.009767814);\">it</span> <span style=\"background-color:rgba(135,206,250,0.005419215);\">'</span> <span style=\"background-color:rgba(135,206,250,0.014271547);\">s</span> <span style=\"background-color:rgba(135,206,250,0.035546586);\">rich</span> <span style=\"background-color:rgba(135,206,250,0.011414173);\">and</span> <span style=\"background-color:rgba(135,206,250,0.050967444);\">concentrated</span> <span style=\"background-color:rgba(135,206,250,0.014516833);\">,</span> <span style=\"background-color:rgba(135,206,250,0.013738141);\">with</span> <span style=\"background-color:rgba(135,206,250,0.060245216);\">penetrating</span> <span style=\"background-color:rgba(135,206,250,0.036127508);\">lime</span> <span style=\"background-color:rgba(135,206,250,0.01372251);\">and</span> <span style=\"background-color:rgba(135,206,250,0.029695163);\">peach</span> <span style=\"background-color:rgba(135,206,250,0.048962068);\">flavors</span> <span style=\"background-color:rgba(135,206,250,0.018303828);\">,</span> <span style=\"background-color:rgba(135,206,250,0.027295085);\">but</span> <span style=\"background-color:rgba(135,206,250,0.014694264);\">the</span> <span style=\"background-color:rgba(135,206,250,0.06618609);\">palate</span> <span style=\"background-color:rgba(135,206,250,0.016931105);\">is</span> <span style=\"background-color:rgba(135,206,250,0.066815645);\">concentrated</span> <span style=\"background-color:rgba(135,206,250,0.020626063);\">and</span> <span style=\"background-color:rgba(135,206,250,0.047664393);\">full</span> <span style=\"background-color:rgba(135,206,250,0.024451962);\">of</span> <span style=\"background-color:rgba(135,206,250,0.08156477);\">body</span> <span style=\"background-color:rgba(135,206,250,0.037102953);\">and</span> <span style=\"background-color:rgba(135,206,250,0.07976125);\">rich</span> <span style=\"background-color:rgba(135,206,250,0.083562516);\">,</span> <span style=\"background-color:rgba(135,206,250,0.1109282);\">yet</span> <span style=\"background-color:rgba(135,206,250,0.38172936);\">finishes</span> <span style=\"background-color:rgba(135,206,250,0.171951);\">long</span> <span style=\"background-color:rgba(135,206,250,0.18060124);\">and</span> <span style=\"background-color:rgba(135,206,250,0.27701345);\">long</span> <span style=\"background-color:rgba(135,206,250,0.40221265);\">,</span> <span style=\"background-color:rgba(135,206,250,1.0);\">with</span> <span style=\"background-color:rgba(135,206,250,0.18395628);\">a</span>"
            ]
          },
          "metadata": {}
        },
        {
          "output_type": "stream",
          "name": "stdout",
          "text": [
            "long:   \t63.81%\n",
            "lingering:   \t25.22%\n",
            "murmur:   \t4.67%\n",
            "hint:   \t1.95%\n",
            "bristle:   \t0.67%\n",
            "--------\n",
            "\n"
          ]
        },
        {
          "output_type": "display_data",
          "data": {
            "text/plain": [
              "<IPython.core.display.HTML object>"
            ],
            "text/html": [
              "<span style=\"background-color:rgba(135,206,250,0.048121985);\">wine</span> <span style=\"background-color:rgba(135,206,250,0.071868345);\">review</span> <span style=\"background-color:rgba(135,206,250,0.14972113);\">:</span> <span style=\"background-color:rgba(135,206,250,0.1897846);\">germany</span> <span style=\"background-color:rgba(135,206,250,0.09381195);\">:</span> <span style=\"background-color:rgba(135,206,250,0.07952162);\">mosel</span> <span style=\"background-color:rgba(135,206,250,0.06816314);\">:</span> <span style=\"background-color:rgba(135,206,250,0.08232995);\">riesling</span> <span style=\"background-color:rgba(135,206,250,0.042473152);\">:</span> <span style=\"background-color:rgba(135,206,250,0.020504674);\">a</span> <span style=\"background-color:rgba(135,206,250,0.035111208);\">whiff</span> <span style=\"background-color:rgba(135,206,250,0.016229268);\">of</span> <span style=\"background-color:rgba(135,206,250,0.013149076);\">waxy</span> <span style=\"background-color:rgba(135,206,250,0.016616892);\">lanolin</span> <span style=\"background-color:rgba(135,206,250,0.024304941);\">lends</span> <span style=\"background-color:rgba(135,206,250,0.013968631);\">a</span> <span style=\"background-color:rgba(135,206,250,0.02453219);\">sheen</span> <span style=\"background-color:rgba(135,206,250,0.010566038);\">to</span> <span style=\"background-color:rgba(135,206,250,0.017894076);\">this</span> <span style=\"background-color:rgba(135,206,250,0.02083737);\">intensely</span> <span style=\"background-color:rgba(135,206,250,0.026059825);\">fruity</span> <span style=\"background-color:rgba(135,206,250,0.018313985);\">wine</span> <span style=\"background-color:rgba(135,206,250,0.03644878);\">.</span> <span style=\"background-color:rgba(135,206,250,0.0145198675);\">it</span> <span style=\"background-color:rgba(135,206,250,0.013346406);\">'</span> <span style=\"background-color:rgba(135,206,250,0.01976105);\">s</span> <span style=\"background-color:rgba(135,206,250,0.012443302);\">rich</span> <span style=\"background-color:rgba(135,206,250,0.023903463);\">and</span> <span style=\"background-color:rgba(135,206,250,0.023953017);\">concentrated</span> <span style=\"background-color:rgba(135,206,250,0.02268499);\">,</span> <span style=\"background-color:rgba(135,206,250,0.024111804);\">with</span> <span style=\"background-color:rgba(135,206,250,0.031353965);\">penetrating</span> <span style=\"background-color:rgba(135,206,250,0.027300436);\">lime</span> <span style=\"background-color:rgba(135,206,250,0.03202604);\">and</span> <span style=\"background-color:rgba(135,206,250,0.04273517);\">peach</span> <span style=\"background-color:rgba(135,206,250,0.046850033);\">flavors</span> <span style=\"background-color:rgba(135,206,250,0.031863403);\">,</span> <span style=\"background-color:rgba(135,206,250,0.031136997);\">but</span> <span style=\"background-color:rgba(135,206,250,0.023252085);\">the</span> <span style=\"background-color:rgba(135,206,250,0.044725806);\">palate</span> <span style=\"background-color:rgba(135,206,250,0.031907644);\">is</span> <span style=\"background-color:rgba(135,206,250,0.036220428);\">concentrated</span> <span style=\"background-color:rgba(135,206,250,0.039244313);\">and</span> <span style=\"background-color:rgba(135,206,250,0.02636526);\">full</span> <span style=\"background-color:rgba(135,206,250,0.036608256);\">of</span> <span style=\"background-color:rgba(135,206,250,0.06234478);\">body</span> <span style=\"background-color:rgba(135,206,250,0.054961644);\">and</span> <span style=\"background-color:rgba(135,206,250,0.02975364);\">rich</span> <span style=\"background-color:rgba(135,206,250,0.06681702);\">,</span> <span style=\"background-color:rgba(135,206,250,0.09215117);\">yet</span> <span style=\"background-color:rgba(135,206,250,0.33138046);\">finishes</span> <span style=\"background-color:rgba(135,206,250,0.056084912);\">long</span> <span style=\"background-color:rgba(135,206,250,0.14018542);\">and</span> <span style=\"background-color:rgba(135,206,250,0.0821838);\">long</span> <span style=\"background-color:rgba(135,206,250,0.23422267);\">,</span> <span style=\"background-color:rgba(135,206,250,1.0);\">with</span> <span style=\"background-color:rgba(135,206,250,0.71484226);\">a</span> <span style=\"background-color:rgba(135,206,250,0.21640657);\">long</span>"
            ]
          },
          "metadata": {}
        },
        {
          "output_type": "stream",
          "name": "stdout",
          "text": [
            ",:   \t97.6%\n",
            "-:   \t1.18%\n",
            "finish:   \t1.06%\n",
            "and:   \t0.03%\n",
            "of:   \t0.02%\n",
            "--------\n",
            "\n"
          ]
        },
        {
          "output_type": "display_data",
          "data": {
            "text/plain": [
              "<IPython.core.display.HTML object>"
            ],
            "text/html": [
              "<span style=\"background-color:rgba(135,206,250,0.042571753);\">wine</span> <span style=\"background-color:rgba(135,206,250,0.083740674);\">review</span> <span style=\"background-color:rgba(135,206,250,0.11905161);\">:</span> <span style=\"background-color:rgba(135,206,250,0.2960079);\">germany</span> <span style=\"background-color:rgba(135,206,250,0.0714744);\">:</span> <span style=\"background-color:rgba(135,206,250,0.17568713);\">mosel</span> <span style=\"background-color:rgba(135,206,250,0.059096064);\">:</span> <span style=\"background-color:rgba(135,206,250,0.22800678);\">riesling</span> <span style=\"background-color:rgba(135,206,250,0.071521275);\">:</span> <span style=\"background-color:rgba(135,206,250,0.019956443);\">a</span> <span style=\"background-color:rgba(135,206,250,0.058181535);\">whiff</span> <span style=\"background-color:rgba(135,206,250,0.017052034);\">of</span> <span style=\"background-color:rgba(135,206,250,0.03405092);\">waxy</span> <span style=\"background-color:rgba(135,206,250,0.06045987);\">lanolin</span> <span style=\"background-color:rgba(135,206,250,0.057655957);\">lends</span> <span style=\"background-color:rgba(135,206,250,0.011977285);\">a</span> <span style=\"background-color:rgba(135,206,250,0.047404993);\">sheen</span> <span style=\"background-color:rgba(135,206,250,0.016873458);\">to</span> <span style=\"background-color:rgba(135,206,250,0.041206438);\">this</span> <span style=\"background-color:rgba(135,206,250,0.028386207);\">intensely</span> <span style=\"background-color:rgba(135,206,250,0.044461116);\">fruity</span> <span style=\"background-color:rgba(135,206,250,0.02954661);\">wine</span> <span style=\"background-color:rgba(135,206,250,0.062229156);\">.</span> <span style=\"background-color:rgba(135,206,250,0.045494575);\">it</span> <span style=\"background-color:rgba(135,206,250,0.0071308855);\">'</span> <span style=\"background-color:rgba(135,206,250,0.04623833);\">s</span> <span style=\"background-color:rgba(135,206,250,0.040173538);\">rich</span> <span style=\"background-color:rgba(135,206,250,0.027769055);\">and</span> <span style=\"background-color:rgba(135,206,250,0.0389826);\">concentrated</span> <span style=\"background-color:rgba(135,206,250,0.021964595);\">,</span> <span style=\"background-color:rgba(135,206,250,0.05393781);\">with</span> <span style=\"background-color:rgba(135,206,250,0.0478635);\">penetrating</span> <span style=\"background-color:rgba(135,206,250,0.059641067);\">lime</span> <span style=\"background-color:rgba(135,206,250,0.037450135);\">and</span> <span style=\"background-color:rgba(135,206,250,0.06126546);\">peach</span> <span style=\"background-color:rgba(135,206,250,0.07135207);\">flavors</span> <span style=\"background-color:rgba(135,206,250,0.031360112);\">,</span> <span style=\"background-color:rgba(135,206,250,0.08409678);\">but</span> <span style=\"background-color:rgba(135,206,250,0.030327974);\">the</span> <span style=\"background-color:rgba(135,206,250,0.105186835);\">palate</span> <span style=\"background-color:rgba(135,206,250,0.081288785);\">is</span> <span style=\"background-color:rgba(135,206,250,0.06990206);\">concentrated</span> <span style=\"background-color:rgba(135,206,250,0.05761295);\">and</span> <span style=\"background-color:rgba(135,206,250,0.06910703);\">full</span> <span style=\"background-color:rgba(135,206,250,0.042547897);\">of</span> <span style=\"background-color:rgba(135,206,250,0.09956721);\">body</span> <span style=\"background-color:rgba(135,206,250,0.09523752);\">and</span> <span style=\"background-color:rgba(135,206,250,0.12766466);\">rich</span> <span style=\"background-color:rgba(135,206,250,0.06669822);\">,</span> <span style=\"background-color:rgba(135,206,250,0.1975437);\">yet</span> <span style=\"background-color:rgba(135,206,250,0.4923206);\">finishes</span> <span style=\"background-color:rgba(135,206,250,0.20657803);\">long</span> <span style=\"background-color:rgba(135,206,250,0.38009036);\">and</span> <span style=\"background-color:rgba(135,206,250,0.34311113);\">long</span> <span style=\"background-color:rgba(135,206,250,0.17360401);\">,</span> <span style=\"background-color:rgba(135,206,250,0.9741063);\">with</span> <span style=\"background-color:rgba(135,206,250,0.74391836);\">a</span> <span style=\"background-color:rgba(135,206,250,1.0);\">long</span> <span style=\"background-color:rgba(135,206,250,0.546559);\">,</span>"
            ]
          },
          "metadata": {}
        },
        {
          "output_type": "stream",
          "name": "stdout",
          "text": [
            "lingering:   \t31.8%\n",
            "mouthwatering:   \t17.83%\n",
            "spicy:   \t11.51%\n",
            "steely:   \t9.81%\n",
            "mineral:   \t6.24%\n",
            "--------\n",
            "\n"
          ]
        },
        {
          "output_type": "display_data",
          "data": {
            "text/plain": [
              "<IPython.core.display.HTML object>"
            ],
            "text/html": [
              "<span style=\"background-color:rgba(135,206,250,0.061730906);\">wine</span> <span style=\"background-color:rgba(135,206,250,0.08994407);\">review</span> <span style=\"background-color:rgba(135,206,250,0.16353881);\">:</span> <span style=\"background-color:rgba(135,206,250,0.31866685);\">germany</span> <span style=\"background-color:rgba(135,206,250,0.10011949);\">:</span> <span style=\"background-color:rgba(135,206,250,0.15205003);\">mosel</span> <span style=\"background-color:rgba(135,206,250,0.0946864);\">:</span> <span style=\"background-color:rgba(135,206,250,0.19556196);\">riesling</span> <span style=\"background-color:rgba(135,206,250,0.076238655);\">:</span> <span style=\"background-color:rgba(135,206,250,0.03132743);\">a</span> <span style=\"background-color:rgba(135,206,250,0.085994065);\">whiff</span> <span style=\"background-color:rgba(135,206,250,0.029077796);\">of</span> <span style=\"background-color:rgba(135,206,250,0.029449899);\">waxy</span> <span style=\"background-color:rgba(135,206,250,0.04392581);\">lanolin</span> <span style=\"background-color:rgba(135,206,250,0.042794667);\">lends</span> <span style=\"background-color:rgba(135,206,250,0.019913219);\">a</span> <span style=\"background-color:rgba(135,206,250,0.05498534);\">sheen</span> <span style=\"background-color:rgba(135,206,250,0.017210625);\">to</span> <span style=\"background-color:rgba(135,206,250,0.0361233);\">this</span> <span style=\"background-color:rgba(135,206,250,0.03206645);\">intensely</span> <span style=\"background-color:rgba(135,206,250,0.04108478);\">fruity</span> <span style=\"background-color:rgba(135,206,250,0.046471424);\">wine</span> <span style=\"background-color:rgba(135,206,250,0.07067937);\">.</span> <span style=\"background-color:rgba(135,206,250,0.032830864);\">it</span> <span style=\"background-color:rgba(135,206,250,0.013993207);\">'</span> <span style=\"background-color:rgba(135,206,250,0.03309434);\">s</span> <span style=\"background-color:rgba(135,206,250,0.022912666);\">rich</span> <span style=\"background-color:rgba(135,206,250,0.026811399);\">and</span> <span style=\"background-color:rgba(135,206,250,0.046102967);\">concentrated</span> <span style=\"background-color:rgba(135,206,250,0.034476012);\">,</span> <span style=\"background-color:rgba(135,206,250,0.032492332);\">with</span> <span style=\"background-color:rgba(135,206,250,0.050813437);\">penetrating</span> <span style=\"background-color:rgba(135,206,250,0.05781134);\">lime</span> <span style=\"background-color:rgba(135,206,250,0.036039516);\">and</span> <span style=\"background-color:rgba(135,206,250,0.06912507);\">peach</span> <span style=\"background-color:rgba(135,206,250,0.11412158);\">flavors</span> <span style=\"background-color:rgba(135,206,250,0.047023784);\">,</span> <span style=\"background-color:rgba(135,206,250,0.08230128);\">but</span> <span style=\"background-color:rgba(135,206,250,0.04241207);\">the</span> <span style=\"background-color:rgba(135,206,250,0.16498362);\">palate</span> <span style=\"background-color:rgba(135,206,250,0.06399925);\">is</span> <span style=\"background-color:rgba(135,206,250,0.071823806);\">concentrated</span> <span style=\"background-color:rgba(135,206,250,0.049587954);\">and</span> <span style=\"background-color:rgba(135,206,250,0.0641079);\">full</span> <span style=\"background-color:rgba(135,206,250,0.05681261);\">of</span> <span style=\"background-color:rgba(135,206,250,0.15962175);\">body</span> <span style=\"background-color:rgba(135,206,250,0.06590859);\">and</span> <span style=\"background-color:rgba(135,206,250,0.058252256);\">rich</span> <span style=\"background-color:rgba(135,206,250,0.10118655);\">,</span> <span style=\"background-color:rgba(135,206,250,0.14616728);\">yet</span> <span style=\"background-color:rgba(135,206,250,0.54935604);\">finishes</span> <span style=\"background-color:rgba(135,206,250,0.21374409);\">long</span> <span style=\"background-color:rgba(135,206,250,0.15407461);\">and</span> <span style=\"background-color:rgba(135,206,250,0.34966663);\">long</span> <span style=\"background-color:rgba(135,206,250,0.29128036);\">,</span> <span style=\"background-color:rgba(135,206,250,0.8217274);\">with</span> <span style=\"background-color:rgba(135,206,250,1.0);\">a</span> <span style=\"background-color:rgba(135,206,250,0.9933553);\">long</span> <span style=\"background-color:rgba(135,206,250,0.96640515);\">,</span> <span style=\"background-color:rgba(135,206,250,0.47027975);\">mouthwatering</span>"
            ]
          },
          "metadata": {}
        },
        {
          "output_type": "stream",
          "name": "stdout",
          "text": [
            "finish:   \t98.2%\n",
            "note:   \t0.67%\n",
            "sheen:   \t0.32%\n",
            "sensation:   \t0.18%\n",
            ",:   \t0.16%\n",
            "--------\n",
            "\n"
          ]
        },
        {
          "output_type": "display_data",
          "data": {
            "text/plain": [
              "<IPython.core.display.HTML object>"
            ],
            "text/html": [
              "<span style=\"background-color:rgba(135,206,250,0.048673492);\">wine</span> <span style=\"background-color:rgba(135,206,250,0.10462464);\">review</span> <span style=\"background-color:rgba(135,206,250,0.22042997);\">:</span> <span style=\"background-color:rgba(135,206,250,0.24744722);\">germany</span> <span style=\"background-color:rgba(135,206,250,0.096766405);\">:</span> <span style=\"background-color:rgba(135,206,250,0.11208305);\">mosel</span> <span style=\"background-color:rgba(135,206,250,0.07534972);\">:</span> <span style=\"background-color:rgba(135,206,250,0.073987596);\">riesling</span> <span style=\"background-color:rgba(135,206,250,0.073384695);\">:</span> <span style=\"background-color:rgba(135,206,250,0.034717);\">a</span> <span style=\"background-color:rgba(135,206,250,0.049332436);\">whiff</span> <span style=\"background-color:rgba(135,206,250,0.015012281);\">of</span> <span style=\"background-color:rgba(135,206,250,0.02412903);\">waxy</span> <span style=\"background-color:rgba(135,206,250,0.02528433);\">lanolin</span> <span style=\"background-color:rgba(135,206,250,0.037636783);\">lends</span> <span style=\"background-color:rgba(135,206,250,0.018062582);\">a</span> <span style=\"background-color:rgba(135,206,250,0.036411546);\">sheen</span> <span style=\"background-color:rgba(135,206,250,0.009950859);\">to</span> <span style=\"background-color:rgba(135,206,250,0.01445955);\">this</span> <span style=\"background-color:rgba(135,206,250,0.022561494);\">intensely</span> <span style=\"background-color:rgba(135,206,250,0.025147662);\">fruity</span> <span style=\"background-color:rgba(135,206,250,0.015893936);\">wine</span> <span style=\"background-color:rgba(135,206,250,0.044121295);\">.</span> <span style=\"background-color:rgba(135,206,250,0.024440194);\">it</span> <span style=\"background-color:rgba(135,206,250,0.012801665);\">'</span> <span style=\"background-color:rgba(135,206,250,0.021367634);\">s</span> <span style=\"background-color:rgba(135,206,250,0.020049097);\">rich</span> <span style=\"background-color:rgba(135,206,250,0.019951563);\">and</span> <span style=\"background-color:rgba(135,206,250,0.032819826);\">concentrated</span> <span style=\"background-color:rgba(135,206,250,0.018145237);\">,</span> <span style=\"background-color:rgba(135,206,250,0.055339955);\">with</span> <span style=\"background-color:rgba(135,206,250,0.060814288);\">penetrating</span> <span style=\"background-color:rgba(135,206,250,0.040686987);\">lime</span> <span style=\"background-color:rgba(135,206,250,0.02917691);\">and</span> <span style=\"background-color:rgba(135,206,250,0.046342883);\">peach</span> <span style=\"background-color:rgba(135,206,250,0.047321506);\">flavors</span> <span style=\"background-color:rgba(135,206,250,0.030328777);\">,</span> <span style=\"background-color:rgba(135,206,250,0.076138265);\">but</span> <span style=\"background-color:rgba(135,206,250,0.044814777);\">the</span> <span style=\"background-color:rgba(135,206,250,0.036215287);\">palate</span> <span style=\"background-color:rgba(135,206,250,0.05034169);\">is</span> <span style=\"background-color:rgba(135,206,250,0.068429194);\">concentrated</span> <span style=\"background-color:rgba(135,206,250,0.0462999);\">and</span> <span style=\"background-color:rgba(135,206,250,0.07567783);\">full</span> <span style=\"background-color:rgba(135,206,250,0.041577574);\">of</span> <span style=\"background-color:rgba(135,206,250,0.06186234);\">body</span> <span style=\"background-color:rgba(135,206,250,0.068177);\">and</span> <span style=\"background-color:rgba(135,206,250,0.07711408);\">rich</span> <span style=\"background-color:rgba(135,206,250,0.07811746);\">,</span> <span style=\"background-color:rgba(135,206,250,0.16115849);\">yet</span> <span style=\"background-color:rgba(135,206,250,0.22843207);\">finishes</span> <span style=\"background-color:rgba(135,206,250,0.1637454);\">long</span> <span style=\"background-color:rgba(135,206,250,0.15829614);\">and</span> <span style=\"background-color:rgba(135,206,250,0.2263734);\">long</span> <span style=\"background-color:rgba(135,206,250,0.22067149);\">,</span> <span style=\"background-color:rgba(135,206,250,0.88712555);\">with</span> <span style=\"background-color:rgba(135,206,250,0.69664955);\">a</span> <span style=\"background-color:rgba(135,206,250,0.45357043);\">long</span> <span style=\"background-color:rgba(135,206,250,0.72022194);\">,</span> <span style=\"background-color:rgba(135,206,250,1.0);\">mouthwatering</span> <span style=\"background-color:rgba(135,206,250,0.46874243);\">finish</span>"
            ]
          },
          "metadata": {}
        },
        {
          "output_type": "stream",
          "name": "stdout",
          "text": [
            ".:   \t99.88%\n",
            "that:   \t0.11%\n",
            "of:   \t0.01%\n",
            ",:   \t0.0%\n",
            "marked:   \t0.0%\n",
            "--------\n",
            "\n"
          ]
        },
        {
          "output_type": "display_data",
          "data": {
            "text/plain": [
              "<IPython.core.display.HTML object>"
            ],
            "text/html": [
              "<span style=\"background-color:rgba(135,206,250,0.055696227);\">wine</span> <span style=\"background-color:rgba(135,206,250,0.07636906);\">review</span> <span style=\"background-color:rgba(135,206,250,1.0);\">:</span> <span style=\"background-color:rgba(135,206,250,0.6153988);\">germany</span> <span style=\"background-color:rgba(135,206,250,0.32063052);\">:</span> <span style=\"background-color:rgba(135,206,250,0.4716927);\">mosel</span> <span style=\"background-color:rgba(135,206,250,0.21279773);\">:</span> <span style=\"background-color:rgba(135,206,250,0.29247266);\">riesling</span> <span style=\"background-color:rgba(135,206,250,0.18688764);\">:</span> <span style=\"background-color:rgba(135,206,250,0.040618323);\">a</span> <span style=\"background-color:rgba(135,206,250,0.06251013);\">whiff</span> <span style=\"background-color:rgba(135,206,250,0.024530048);\">of</span> <span style=\"background-color:rgba(135,206,250,0.045272943);\">waxy</span> <span style=\"background-color:rgba(135,206,250,0.048638284);\">lanolin</span> <span style=\"background-color:rgba(135,206,250,0.050849106);\">lends</span> <span style=\"background-color:rgba(135,206,250,0.01890731);\">a</span> <span style=\"background-color:rgba(135,206,250,0.050539598);\">sheen</span> <span style=\"background-color:rgba(135,206,250,0.016403938);\">to</span> <span style=\"background-color:rgba(135,206,250,0.046095416);\">this</span> <span style=\"background-color:rgba(135,206,250,0.034274198);\">intensely</span> <span style=\"background-color:rgba(135,206,250,0.03593693);\">fruity</span> <span style=\"background-color:rgba(135,206,250,0.0330164);\">wine</span> <span style=\"background-color:rgba(135,206,250,0.041646227);\">.</span> <span style=\"background-color:rgba(135,206,250,0.021239188);\">it</span> <span style=\"background-color:rgba(135,206,250,0.005670395);\">'</span> <span style=\"background-color:rgba(135,206,250,0.021327576);\">s</span> <span style=\"background-color:rgba(135,206,250,0.025906626);\">rich</span> <span style=\"background-color:rgba(135,206,250,0.020176744);\">and</span> <span style=\"background-color:rgba(135,206,250,0.039280128);\">concentrated</span> <span style=\"background-color:rgba(135,206,250,0.021744603);\">,</span> <span style=\"background-color:rgba(135,206,250,0.030699247);\">with</span> <span style=\"background-color:rgba(135,206,250,0.055074494);\">penetrating</span> <span style=\"background-color:rgba(135,206,250,0.04171355);\">lime</span> <span style=\"background-color:rgba(135,206,250,0.025826091);\">and</span> <span style=\"background-color:rgba(135,206,250,0.041319538);\">peach</span> <span style=\"background-color:rgba(135,206,250,0.08790859);\">flavors</span> <span style=\"background-color:rgba(135,206,250,0.027411493);\">,</span> <span style=\"background-color:rgba(135,206,250,0.05003979);\">but</span> <span style=\"background-color:rgba(135,206,250,0.021794902);\">the</span> <span style=\"background-color:rgba(135,206,250,0.084758304);\">palate</span> <span style=\"background-color:rgba(135,206,250,0.037571155);\">is</span> <span style=\"background-color:rgba(135,206,250,0.052001774);\">concentrated</span> <span style=\"background-color:rgba(135,206,250,0.033242427);\">and</span> <span style=\"background-color:rgba(135,206,250,0.0401801);\">full</span> <span style=\"background-color:rgba(135,206,250,0.024193252);\">of</span> <span style=\"background-color:rgba(135,206,250,0.08194425);\">body</span> <span style=\"background-color:rgba(135,206,250,0.042525876);\">and</span> <span style=\"background-color:rgba(135,206,250,0.05328617);\">rich</span> <span style=\"background-color:rgba(135,206,250,0.045552198);\">,</span> <span style=\"background-color:rgba(135,206,250,0.08740187);\">yet</span> <span style=\"background-color:rgba(135,206,250,0.33095646);\">finishes</span> <span style=\"background-color:rgba(135,206,250,0.086015925);\">long</span> <span style=\"background-color:rgba(135,206,250,0.07242491);\">and</span> <span style=\"background-color:rgba(135,206,250,0.10584118);\">long</span> <span style=\"background-color:rgba(135,206,250,0.07321604);\">,</span> <span style=\"background-color:rgba(135,206,250,0.13164459);\">with</span> <span style=\"background-color:rgba(135,206,250,0.12278762);\">a</span> <span style=\"background-color:rgba(135,206,250,0.16159126);\">long</span> <span style=\"background-color:rgba(135,206,250,0.1349856);\">,</span> <span style=\"background-color:rgba(135,206,250,0.2066871);\">mouthwatering</span> <span style=\"background-color:rgba(135,206,250,0.5651465);\">finish</span> <span style=\"background-color:rgba(135,206,250,0.43223977);\">.</span>"
            ]
          },
          "metadata": {}
        },
        {
          "output_type": "stream",
          "name": "stdout",
          "text": [
            ":   \t78.55%\n",
            "drink:   \t20.58%\n",
            "this:   \t0.16%\n",
            "it:   \t0.15%\n",
            "delicious:   \t0.13%\n",
            "--------\n",
            "\n"
          ]
        }
      ],
      "source": [
        "info = text_generator.generate(\n",
        "    \"wine review : germany\", max_tokens=80, temperature=0.5\n",
        ")\n",
        "print_probs(info, vocab)"
      ]
    }
  ],
  "metadata": {
    "kernelspec": {
      "display_name": "Python 3",
      "name": "python3"
    },
    "language_info": {
      "codemirror_mode": {
        "name": "ipython",
        "version": 3
      },
      "file_extension": ".py",
      "mimetype": "text/x-python",
      "name": "python",
      "nbconvert_exporter": "python",
      "pygments_lexer": "ipython3",
      "version": "3.10.9"
    },
    "vscode": {
      "interpreter": {
        "hash": "31f2aee4e71d21fbe5cf8b01ff0e069b9275f58929596ceb00d14d90e3e16cd6"
      }
    },
    "colab": {
      "provenance": [],
      "gpuType": "T4"
    },
    "accelerator": "GPU"
  },
  "nbformat": 4,
  "nbformat_minor": 5
}